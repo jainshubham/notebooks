{
 "metadata": {
  "name": ""
 },
 "nbformat": 3,
 "nbformat_minor": 0,
 "worksheets": [
  {
   "cells": [
    {
     "cell_type": "code",
     "collapsed": false,
     "input": [
      "import os, sys\n",
      "os.environ.setdefault(\"DJANGO_SETTINGS_MODULE\", \"web.settings\")\n",
      "sys.path.append('/vagrant/')\n",
      "from brief.models import Brief  \n",
      "from entry.models import Entry\n",
      "import nltk\n",
      "from django.core.management.base import BaseCommand\n",
      "from optparse import make_option           \n",
      "from datetime import datetime, timedelta\n",
      "example  = list()\n",
      "title = list()\n",
      "title2 = list()\n",
      "#item = Brief.objects.values()\n",
      "item = Entry.objects.values()\n",
      "\n",
      "for i in range(500):\n",
      "    #if (item[i]['language'] == \"en\"):\n",
      "        try:\n",
      "            temp= str(item[i]['body_html'])\n",
      "            temp_title= str(item[i]['title'])\n",
      "            temp_id= str(item[i]['id'])\n",
      "            \n",
      "        except:\n",
      "            pass\n",
      "        example.append(temp)\n",
      "        title.append(temp_id)\n",
      "        #title2.append(temp)\n",
      "        #print(title)"
     ],
     "language": "python",
     "metadata": {},
     "outputs": [],
     "prompt_number": 1
    },
    {
     "cell_type": "code",
     "collapsed": false,
     "input": [
      "from gensim import corpora, models, similarities\n",
      "from itertools import chain\n",
      "import nltk\n",
      "from nltk.corpus import stopwords\n",
      "from operator import itemgetter\n",
      "import re\n",
      "\n",
      "#url_pattern = r'https?:\\/\\/(.*[\\r\\n]*)+'\n",
      "\n",
      "#documents = [nltk.clean_html(document) for document in nyt_data]\n",
      "documents = example\n",
      "stoplist = stopwords.words('english')\n",
      "texts = [[word for word in document.lower().split() if word not in stoplist]\n",
      " for document in documents]\n",
      "\n",
      "dictionary = corpora.Dictionary(texts)\n",
      "corpus = [dictionary.doc2bow(text) for text in texts]\n",
      "\n",
      "tfidf = models.TfidfModel(corpus) \n",
      "corpus_tfidf = tfidf[corpus]\n",
      "\n",
      "#lsi = models.LsiModel(corpus_tfidf, id2word=dictionary, num_topics=100)\n",
      "#lsi.print_topics(20)\n",
      "\n",
      "n_topics = 60\n",
      "lda = models.LdaModel(corpus_tfidf, id2word=dictionary, num_topics=n_topics)\n",
      "\n",
      "for i in range(0, n_topics):\n",
      " temp = lda.show_topic(i, 10)\n",
      " terms = []\n",
      " for term in temp:\n",
      "     terms.append(term[1])\n",
      "print \"Top 10 terms for topic #\" + str(i) + \": \"+ \", \".join(terms)\n",
      " \n",
      "print \n",
      "print 'Which LDA topic maximally describes a document?\\n'\n",
      "print 'Original document: ' + documents[1]\n",
      "print 'Preprocessed document: ' + str(texts[1])\n",
      "print 'Matrix Market format: ' + str(corpus[1])\n",
      "print 'Topic probability mixture: ' + str(lda[corpus[1]])\n",
      "print 'Maximally probable topic: topic #' + str(max(lda[corpus[1]],key=itemgetter(1))[0])"
     ],
     "language": "python",
     "metadata": {},
     "outputs": [
      {
       "output_type": "stream",
       "stream": "stderr",
       "text": [
        "WARNING:gensim.models.ldamodel:too few updates, training might not converge; consider increasing the number of passes or iterations to improve accuracy\n"
       ]
      },
      {
       "output_type": "stream",
       "stream": "stdout",
       "text": [
        "Top 10 terms for topic #59: campaign, vote, ril, swine, flu, artists, clothes, inventory, fundraising, share\n",
        "\n",
        "Which LDA topic maximally describes a document?\n",
        "\n",
        "Original document: <p><span class=\"resize-image\"><img class=\"newsimg \" src=\"http://pics2.contify.com/medium/1420564545_sunanda_medium.png\" /></span></p><p>THIRUVANANTHAPURAM: The conclusion of <span style='border-bottom: medium double #FE00D6'>Delhi Police</span> that <span style='border-bottom: medium double #00FE64'>Sunanda <span style='border-bottom: medium double #D38833'>Pushkar</span></span> was murdered has substantiated the discharge summary report of the <span style='border-bottom: medium double #D38833'>Kerala</span> hospital where she had undergone treatment in her last days.</p><p>The report from <span style='border-bottom: medium double #FE00D6'>Kerala Institute of Medical Sciences</span> here, a copy of which is with ToI, didn't mention that she was taking Alprax, the anti-anxiety drug, or any bruise on her body when she was discharged from the hospital. It also doesn't mention any symptom of depression.</p><p>Sunanda was admitted to the hospital on January 12 and discharged on January 14, three days ahead of her murder. The discharge summary also said she didn't have any problem with physical aspects of blood circulation, which include the cardiac functions and peripheral vascular physiological characteristics.</p><p>\"Currently, the patient is haemodynamically stable; discharging in stable condition,\" the report issued by Dr Lissy Thomas, senior consultant, department of nephrology, said. \"Sunanda has a history of lactose intolerance and the patient has a history of intermittent fever. The patient also has a history of fainting episodes. She had treatment for migraine at one time and had complaints of muscle pain and bone pain. Currently, the patient is not taking any medicine,\" it said.</p><p>\"Sunanda had a mammogram a year ago and it was normal. She had a history of using birth control pill for a longer period (more than 10 years). She is allergic to penicillin. At the time of admission, significant physical findings were some tenderness on the right lower quadrant of abdomen. Also, she had photosensitivity and small joint arthritis pain,\" the report said.</p><p>Sunanda was also evaluated by cardiologist, infectious disease specialist, rheumatologist, medical gastroenterologist, neurologist, ENT specialist and dentist at the hospital. She was asked to have a follow-up in cardiology, rheumatology and neurology when she was discharged from the hospital.</p>\n",
        "Preprocessed document: ['<p><span', 'class=\"resize-image\"><img', 'class=\"newsimg', '\"', 'src=\"http://pics2.contify.com/medium/1420564545_sunanda_medium.png\"', '/></span></p><p>thiruvananthapuram:', 'conclusion', '<span', \"style='border-bottom:\", 'medium', 'double', \"#fe00d6'>delhi\", 'police</span>', '<span', \"style='border-bottom:\", 'medium', 'double', \"#00fe64'>sunanda\", '<span', \"style='border-bottom:\", 'medium', 'double', \"#d38833'>pushkar</span></span>\", 'murdered', 'substantiated', 'discharge', 'summary', 'report', '<span', \"style='border-bottom:\", 'medium', 'double', \"#d38833'>kerala</span>\", 'hospital', 'undergone', 'treatment', 'last', 'days.</p><p>the', 'report', '<span', \"style='border-bottom:\", 'medium', 'double', \"#fe00d6'>kerala\", 'institute', 'medical', 'sciences</span>', 'here,', 'copy', 'toi,', \"didn't\", 'mention', 'taking', 'alprax,', 'anti-anxiety', 'drug,', 'bruise', 'body', 'discharged', 'hospital.', 'also', \"doesn't\", 'mention', 'symptom', 'depression.</p><p>sunanda', 'admitted', 'hospital', 'january', '12', 'discharged', 'january', '14,', 'three', 'days', 'ahead', 'murder.', 'discharge', 'summary', 'also', 'said', \"didn't\", 'problem', 'physical', 'aspects', 'blood', 'circulation,', 'include', 'cardiac', 'functions', 'peripheral', 'vascular', 'physiological', 'characteristics.</p><p>\"currently,', 'patient', 'haemodynamically', 'stable;', 'discharging', 'stable', 'condition,\"', 'report', 'issued', 'dr', 'lissy', 'thomas,', 'senior', 'consultant,', 'department', 'nephrology,', 'said.', '\"sunanda', 'history', 'lactose', 'intolerance', 'patient', 'history', 'intermittent', 'fever.', 'patient', 'also', 'history', 'fainting', 'episodes.', 'treatment', 'migraine', 'one', 'time', 'complaints', 'muscle', 'pain', 'bone', 'pain.', 'currently,', 'patient', 'taking', 'medicine,\"', 'said.</p><p>\"sunanda', 'mammogram', 'year', 'ago', 'normal.', 'history', 'using', 'birth', 'control', 'pill', 'longer', 'period', '(more', '10', 'years).', 'allergic', 'penicillin.', 'time', 'admission,', 'significant', 'physical', 'findings', 'tenderness', 'right', 'lower', 'quadrant', 'abdomen.', 'also,', 'photosensitivity', 'small', 'joint', 'arthritis', 'pain,\"', 'report', 'said.</p><p>sunanda', 'also', 'evaluated', 'cardiologist,', 'infectious', 'disease', 'specialist,', 'rheumatologist,', 'medical', 'gastroenterologist,', 'neurologist,', 'ent', 'specialist', 'dentist', 'hospital.', 'asked', 'follow-up', 'cardiology,', 'rheumatology', 'neurology', 'discharged', 'hospital.</p>']\n",
        "Matrix Market format: [(0, 1), (3, 1), (7, 1), (12, 1), (17, 1), (18, 1), (22, 1), (23, 5), (26, 4), (32, 1), (39, 1), (40, 1), (57, 5), (88, 2), (97, 1), (107, 2), (108, 5), (109, 2), (136, 1), (146, 4), (150, 1), (158, 1), (167, 5), (197, 1), (198, 1), (199, 1), (200, 1), (201, 1), (202, 1), (203, 1), (204, 1), (205, 1), (206, 1), (207, 1), (208, 1), (209, 1), (210, 1), (211, 1), (212, 1), (213, 1), (214, 1), (215, 1), (216, 1), (217, 1), (218, 1), (219, 1), (220, 1), (221, 1), (222, 1), (223, 1), (224, 1), (225, 1), (226, 1), (227, 1), (228, 1), (229, 1), (230, 1), (231, 1), (232, 1), (233, 1), (234, 1), (235, 1), (236, 2), (237, 2), (238, 3), (239, 1), (240, 1), (241, 1), (242, 1), (243, 1), (244, 1), (245, 1), (246, 1), (247, 1), (248, 1), (249, 1), (250, 1), (251, 1), (252, 1), (253, 1), (254, 1), (255, 4), (256, 2), (257, 2), (258, 1), (259, 1), (260, 1), (261, 1), (262, 1), (263, 1), (264, 1), (265, 1), (266, 1), (267, 1), (268, 1), (269, 1), (270, 1), (271, 1), (272, 1), (273, 1), (274, 1), (275, 1), (276, 1), (277, 1), (278, 1), (279, 1), (280, 1), (281, 1), (282, 1), (283, 1), (284, 4), (285, 1), (286, 1), (287, 1), (288, 1), (289, 2), (290, 1), (291, 1), (292, 1), (293, 1), (294, 1), (295, 1), (296, 1), (297, 1), (298, 1), (299, 1), (300, 1), (301, 1), (302, 1), (303, 1), (304, 1), (305, 1), (306, 1), (307, 1), (308, 1), (309, 2), (310, 1), (311, 2), (312, 1), (313, 1), (314, 1), (315, 2), (316, 1), (317, 2), (318, 1), (319, 1), (320, 1), (321, 1), (322, 1)]\n",
        "Topic probability mixture: [(19, 0.84681487819360113), (32, 0.053195877784906642), (37, 0.011397505683819373), (44, 0.021508380014189345), (49, 0.012654111621762177), (53, 0.017981719044791355)]\n",
        "Maximally probable topic: topic #19\n"
       ]
      }
     ],
     "prompt_number": 6
    },
    {
     "cell_type": "code",
     "collapsed": false,
     "input": [],
     "language": "python",
     "metadata": {},
     "outputs": []
    }
   ],
   "metadata": {}
  }
 ]
}