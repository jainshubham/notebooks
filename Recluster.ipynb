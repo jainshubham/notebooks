{
 "metadata": {
  "name": ""
 },
 "nbformat": 3,
 "nbformat_minor": 0,
 "worksheets": [
  {
   "cells": [
    {
     "cell_type": "code",
     "collapsed": false,
     "input": [
      "import os, sys\n",
      "from time import time\n",
      "os.environ.setdefault(\"DJANGO_SETTINGS_MODULE\", \"web.settings\")\n",
      "sys.path.append('/vagrant/')\n",
      "from brief.models import Brief  \n",
      "from entry.models import Entry\n",
      "import nltk\n",
      "from django.core.management.base import BaseCommand\n",
      "from optparse import make_option           \n",
      "from datetime import datetime, timedelta\n",
      "\n",
      "t0 = time()\n",
      "discardedStories = 0\n",
      "#item = Brief.objects.values()\n",
      "item = Entry.objects.order_by(\"-approved_on\")[:500]\n",
      "#tempSoup= str(item[i].title+item[i].section+item[i].topic+item[i].industry+item[i].body_html+item[i].primary_topic+item[i].primary_industry+item[i].auto_tagged_topic+item[i].auto_tagged_industry)\n",
      "storySoup = item.values_list('body_html', flat=True)\n",
      "storyTitle = item.values_list('title', flat=True)\n",
      "storyId = item.values_list('id', flat=True)\n",
      "storyPriority = item.values_list('priority', flat=True)"
     ],
     "language": "python",
     "metadata": {},
     "outputs": [],
     "prompt_number": 12
    },
    {
     "cell_type": "markdown",
     "metadata": {},
     "source": [
      "Create a priority cluster"
     ]
    },
    {
     "cell_type": "code",
     "collapsed": false,
     "input": [
      "c={}\n",
      "l=0\n",
      "a = storyPriority\n",
      "b = storyId\n",
      "for i in range(len(item)):\n",
      "    try:\n",
      "        c[a[i]].append(b[i])\n",
      "    except:\n",
      "        c.setdefault(a[i], [b[i]])\n",
      "for i in range(len(item)):\n",
      "    if(len(c[a[i]])>1):\n",
      "        print(c[a[i]])\n",
      "        l+=1"
     ],
     "language": "python",
     "metadata": {},
     "outputs": [
      {
       "output_type": "stream",
       "stream": "stdout",
       "text": [
        "[43898088, 43898125, 43898024]\n",
        "[43898088, 43898125, 43898024]\n",
        "[43898088, 43898125, 43898024]"
       ]
      },
      {
       "output_type": "stream",
       "stream": "stdout",
       "text": [
        "\n",
        "[43897782, 43897596]"
       ]
      },
      {
       "output_type": "stream",
       "stream": "stdout",
       "text": [
        "\n",
        "[43897709, 43897727]"
       ]
      },
      {
       "output_type": "stream",
       "stream": "stdout",
       "text": [
        "\n",
        "[43897709, 43897727]\n",
        "[43897782, 43897596]"
       ]
      },
      {
       "output_type": "stream",
       "stream": "stdout",
       "text": [
        "\n",
        "[43896748, 43895984]"
       ]
      },
      {
       "output_type": "stream",
       "stream": "stdout",
       "text": [
        "\n",
        "[43896748, 43895984]\n",
        "[43893734, 43894238, 43893618]"
       ]
      },
      {
       "output_type": "stream",
       "stream": "stdout",
       "text": [
        "\n",
        "[43893734, 43894238, 43893618]\n",
        "[43893734, 43894238, 43893618]\n",
        "[43893857, 43893619]"
       ]
      },
      {
       "output_type": "stream",
       "stream": "stdout",
       "text": [
        "\n",
        "[43893857, 43893619]\n",
        "[43897334, 43895231]"
       ]
      },
      {
       "output_type": "stream",
       "stream": "stdout",
       "text": [
        "\n",
        "[43897334, 43895231]\n",
        "[43893772, 43893634]"
       ]
      },
      {
       "output_type": "stream",
       "stream": "stdout",
       "text": [
        "\n",
        "[43893772, 43893634]\n",
        "[43895577, 43894654, 43893640]\n",
        "[43895577, 43894654, 43893640]"
       ]
      },
      {
       "output_type": "stream",
       "stream": "stdout",
       "text": [
        "\n",
        "[43895577, 43894654, 43893640]\n",
        "[43893873, 43893651]\n",
        "[43893873, 43893651]\n",
        "[43896120, 43893669]"
       ]
      },
      {
       "output_type": "stream",
       "stream": "stdout",
       "text": [
        "\n",
        "[43896120, 43893669]\n"
       ]
      }
     ],
     "prompt_number": 13
    },
    {
     "cell_type": "code",
     "collapsed": false,
     "input": [
      "l"
     ],
     "language": "python",
     "metadata": {},
     "outputs": [
      {
       "metadata": {},
       "output_type": "pyout",
       "prompt_number": 14,
       "text": [
        "25"
       ]
      }
     ],
     "prompt_number": 14
    },
    {
     "cell_type": "code",
     "collapsed": false,
     "input": [
      "740/3"
     ],
     "language": "python",
     "metadata": {},
     "outputs": [
      {
       "metadata": {},
       "output_type": "pyout",
       "prompt_number": 17,
       "text": [
        "246"
       ]
      }
     ],
     "prompt_number": 17
    },
    {
     "cell_type": "code",
     "collapsed": false,
     "input": [],
     "language": "python",
     "metadata": {},
     "outputs": []
    }
   ],
   "metadata": {}
  }
 ]
}