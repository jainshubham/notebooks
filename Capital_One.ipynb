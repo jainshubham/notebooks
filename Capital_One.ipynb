{
 "cells": [
  {
   "cell_type": "markdown",
   "metadata": {},
   "source": [
    " ### Import Packages"
   ]
  },
  {
   "cell_type": "code",
   "execution_count": 19,
   "metadata": {
    "collapsed": true
   },
   "outputs": [],
   "source": [
    "import pandas\n",
    "import matplotlib.pyplot as plt\n",
    "%matplotlib inline\n",
    "pandas.options.display.mpl_style = 'default'\n"
   ]
  },
  {
   "cell_type": "markdown",
   "metadata": {},
   "source": [
    "### Import Data"
   ]
  },
  {
   "cell_type": "code",
   "execution_count": 2,
   "metadata": {},
   "outputs": [
    {
     "name": "stderr",
     "output_type": "stream",
     "text": [
      "/home/shubhamjain/.pyenv/versions/banking/lib/python2.7/site-packages/IPython/core/interactiveshell.py:2717: DtypeWarning: Columns (3,4,5,7,8,9,12) have mixed types. Specify dtype option on import or set low_memory=False.\n",
      "  interactivity=interactivity, compiler=compiler, result=result)\n"
     ]
    }
   ],
   "source": [
    "institution_data= pandas.read_csv('/home/shubhamjain/devel/contifydeploy/contify-banking/notebooks/data-challenge-data-master/2012_to_2014_institutions_data.csv')\n",
    "loans_data= pandas.read_csv('/home/shubhamjain/devel/contifydeploy/contify-banking/notebooks/data-challenge-data-master/2012_to_2014_loans_data.csv')"
   ]
  },
  {
   "cell_type": "markdown",
   "metadata": {},
   "source": [
    "#### Institution Data"
   ]
  },
  {
   "cell_type": "code",
   "execution_count": 3,
   "metadata": {
    "scrolled": true
   },
   "outputs": [
    {
     "data": {
      "text/html": [
       "<div>\n",
       "<table border=\"1\" class=\"dataframe\">\n",
       "  <thead>\n",
       "    <tr style=\"text-align: right;\">\n",
       "      <th></th>\n",
       "      <th>As_of_Year</th>\n",
       "      <th>Respondent_ID</th>\n",
       "      <th>Agency_Code</th>\n",
       "      <th>Respondent_Name_TS</th>\n",
       "      <th>Respondent_City_TS</th>\n",
       "      <th>Respondent_State_TS</th>\n",
       "      <th>Respondent_ZIP_Code</th>\n",
       "      <th>Parent_Name_TS</th>\n",
       "      <th>Parent_City_TS</th>\n",
       "      <th>Parent_State_TS</th>\n",
       "      <th>Parent_ZIP_Code</th>\n",
       "      <th>Assets_000_Panel</th>\n",
       "    </tr>\n",
       "  </thead>\n",
       "  <tbody>\n",
       "    <tr>\n",
       "      <th>0</th>\n",
       "      <td>2012</td>\n",
       "      <td>0000000047</td>\n",
       "      <td>1</td>\n",
       "      <td>FIRST FINANCIAL BANK NA</td>\n",
       "      <td>TERRE HAUTE</td>\n",
       "      <td>IN</td>\n",
       "      <td>47802</td>\n",
       "      <td>FIRST FINANCIAL CORPORATION</td>\n",
       "      <td>TERRE HAUTE</td>\n",
       "      <td>IN</td>\n",
       "      <td>47807</td>\n",
       "      <td>2854392</td>\n",
       "    </tr>\n",
       "    <tr>\n",
       "      <th>1</th>\n",
       "      <td>2012</td>\n",
       "      <td>0000000056</td>\n",
       "      <td>1</td>\n",
       "      <td>FIRST FINANCIAL BANK, N.A.</td>\n",
       "      <td>CINCINNATI</td>\n",
       "      <td>OH</td>\n",
       "      <td>45202</td>\n",
       "      <td>NaN</td>\n",
       "      <td>NaN</td>\n",
       "      <td>NaN</td>\n",
       "      <td>NaN</td>\n",
       "      <td>6663427</td>\n",
       "    </tr>\n",
       "    <tr>\n",
       "      <th>2</th>\n",
       "      <td>2012</td>\n",
       "      <td>0000000086</td>\n",
       "      <td>1</td>\n",
       "      <td>FIRST NATIONAL BANK OF GERMANT</td>\n",
       "      <td>GERMANTOWN</td>\n",
       "      <td>OH</td>\n",
       "      <td>45327-1349</td>\n",
       "      <td>NaN</td>\n",
       "      <td>NaN</td>\n",
       "      <td>NaN</td>\n",
       "      <td>NaN</td>\n",
       "      <td>52094</td>\n",
       "    </tr>\n",
       "    <tr>\n",
       "      <th>3</th>\n",
       "      <td>2012</td>\n",
       "      <td>0000000182</td>\n",
       "      <td>1</td>\n",
       "      <td>EXCHANGE NATIONAL BANK &amp; TRUST</td>\n",
       "      <td>ATCHISON</td>\n",
       "      <td>KS</td>\n",
       "      <td>66002</td>\n",
       "      <td>NaN</td>\n",
       "      <td>NaN</td>\n",
       "      <td>NaN</td>\n",
       "      <td>NaN</td>\n",
       "      <td>330487</td>\n",
       "    </tr>\n",
       "    <tr>\n",
       "      <th>4</th>\n",
       "      <td>2012</td>\n",
       "      <td>0000000324</td>\n",
       "      <td>1</td>\n",
       "      <td>FIRST NATIONAL BANK AND TRUST</td>\n",
       "      <td>NEWTOWN</td>\n",
       "      <td>PA</td>\n",
       "      <td>18940</td>\n",
       "      <td>NaN</td>\n",
       "      <td>NaN</td>\n",
       "      <td>NaN</td>\n",
       "      <td>NaN</td>\n",
       "      <td>785017</td>\n",
       "    </tr>\n",
       "  </tbody>\n",
       "</table>\n",
       "</div>"
      ],
      "text/plain": [
       "   As_of_Year Respondent_ID  Agency_Code              Respondent_Name_TS  \\\n",
       "0        2012    0000000047            1         FIRST FINANCIAL BANK NA   \n",
       "1        2012    0000000056            1      FIRST FINANCIAL BANK, N.A.   \n",
       "2        2012    0000000086            1  FIRST NATIONAL BANK OF GERMANT   \n",
       "3        2012    0000000182            1  EXCHANGE NATIONAL BANK & TRUST   \n",
       "4        2012    0000000324            1   FIRST NATIONAL BANK AND TRUST   \n",
       "\n",
       "  Respondent_City_TS Respondent_State_TS Respondent_ZIP_Code  \\\n",
       "0        TERRE HAUTE                  IN               47802   \n",
       "1         CINCINNATI                  OH               45202   \n",
       "2         GERMANTOWN                  OH          45327-1349   \n",
       "3           ATCHISON                  KS               66002   \n",
       "4            NEWTOWN                  PA               18940   \n",
       "\n",
       "                Parent_Name_TS Parent_City_TS Parent_State_TS Parent_ZIP_Code  \\\n",
       "0  FIRST FINANCIAL CORPORATION    TERRE HAUTE              IN           47807   \n",
       "1                          NaN            NaN             NaN             NaN   \n",
       "2                          NaN            NaN             NaN             NaN   \n",
       "3                          NaN            NaN             NaN             NaN   \n",
       "4                          NaN            NaN             NaN             NaN   \n",
       "\n",
       "   Assets_000_Panel  \n",
       "0           2854392  \n",
       "1           6663427  \n",
       "2             52094  \n",
       "3            330487  \n",
       "4            785017  "
      ]
     },
     "execution_count": 3,
     "metadata": {},
     "output_type": "execute_result"
    }
   ],
   "source": [
    "institution_data.head()\n"
   ]
  },
  {
   "cell_type": "code",
   "execution_count": 4,
   "metadata": {},
   "outputs": [
    {
     "data": {
      "text/html": [
       "<div>\n",
       "<table border=\"1\" class=\"dataframe\">\n",
       "  <thead>\n",
       "    <tr style=\"text-align: right;\">\n",
       "      <th></th>\n",
       "      <th>As_of_Year</th>\n",
       "      <th>Agency_Code</th>\n",
       "      <th>Assets_000_Panel</th>\n",
       "    </tr>\n",
       "  </thead>\n",
       "  <tbody>\n",
       "    <tr>\n",
       "      <th>count</th>\n",
       "      <td>21655.000000</td>\n",
       "      <td>21655.000000</td>\n",
       "      <td>2.165500e+04</td>\n",
       "    </tr>\n",
       "    <tr>\n",
       "      <th>mean</th>\n",
       "      <td>2012.984392</td>\n",
       "      <td>3.785592</td>\n",
       "      <td>4.976024e+06</td>\n",
       "    </tr>\n",
       "    <tr>\n",
       "      <th>std</th>\n",
       "      <td>0.817139</td>\n",
       "      <td>1.944049</td>\n",
       "      <td>6.140364e+07</td>\n",
       "    </tr>\n",
       "    <tr>\n",
       "      <th>min</th>\n",
       "      <td>2012.000000</td>\n",
       "      <td>1.000000</td>\n",
       "      <td>0.000000e+00</td>\n",
       "    </tr>\n",
       "    <tr>\n",
       "      <th>25%</th>\n",
       "      <td>2012.000000</td>\n",
       "      <td>3.000000</td>\n",
       "      <td>8.380000e+04</td>\n",
       "    </tr>\n",
       "    <tr>\n",
       "      <th>50%</th>\n",
       "      <td>2013.000000</td>\n",
       "      <td>3.000000</td>\n",
       "      <td>1.941060e+05</td>\n",
       "    </tr>\n",
       "    <tr>\n",
       "      <th>75%</th>\n",
       "      <td>2014.000000</td>\n",
       "      <td>5.000000</td>\n",
       "      <td>4.908065e+05</td>\n",
       "    </tr>\n",
       "    <tr>\n",
       "      <th>max</th>\n",
       "      <td>2014.000000</td>\n",
       "      <td>9.000000</td>\n",
       "      <td>1.945467e+09</td>\n",
       "    </tr>\n",
       "  </tbody>\n",
       "</table>\n",
       "</div>"
      ],
      "text/plain": [
       "         As_of_Year   Agency_Code  Assets_000_Panel\n",
       "count  21655.000000  21655.000000      2.165500e+04\n",
       "mean    2012.984392      3.785592      4.976024e+06\n",
       "std        0.817139      1.944049      6.140364e+07\n",
       "min     2012.000000      1.000000      0.000000e+00\n",
       "25%     2012.000000      3.000000      8.380000e+04\n",
       "50%     2013.000000      3.000000      1.941060e+05\n",
       "75%     2014.000000      5.000000      4.908065e+05\n",
       "max     2014.000000      9.000000      1.945467e+09"
      ]
     },
     "execution_count": 4,
     "metadata": {},
     "output_type": "execute_result"
    }
   ],
   "source": [
    "institution_data.describe()\n"
   ]
  },
  {
   "cell_type": "markdown",
   "metadata": {},
   "source": [
    "#### Loans Data"
   ]
  },
  {
   "cell_type": "code",
   "execution_count": 5,
   "metadata": {},
   "outputs": [
    {
     "data": {
      "text/html": [
       "<div>\n",
       "<table border=\"1\" class=\"dataframe\">\n",
       "  <thead>\n",
       "    <tr style=\"text-align: right;\">\n",
       "      <th></th>\n",
       "      <th>Agency_Code</th>\n",
       "      <th>Applicant_Income_000</th>\n",
       "      <th>As_of_Year</th>\n",
       "      <th>Census_Tract_Number</th>\n",
       "      <th>County_Code</th>\n",
       "      <th>FFIEC_Median_Family_Income</th>\n",
       "      <th>Loan_Amount_000</th>\n",
       "      <th>MSA_MD</th>\n",
       "      <th>Number_of_Owner_Occupied_Units</th>\n",
       "      <th>Respondent_ID</th>\n",
       "      <th>...</th>\n",
       "      <th>Loan_Purpose_Description</th>\n",
       "      <th>Agency_Code_Description</th>\n",
       "      <th>Lien_Status_Description</th>\n",
       "      <th>Loan_Type_Description</th>\n",
       "      <th>State</th>\n",
       "      <th>County_Name</th>\n",
       "      <th>Conforming_Limit_000</th>\n",
       "      <th>Conventional_Status</th>\n",
       "      <th>Conforming_Status</th>\n",
       "      <th>Conventional_Conforming_Flag</th>\n",
       "    </tr>\n",
       "  </thead>\n",
       "  <tbody>\n",
       "    <tr>\n",
       "      <th>0</th>\n",
       "      <td>3</td>\n",
       "      <td>0084</td>\n",
       "      <td>2012</td>\n",
       "      <td>0207.00</td>\n",
       "      <td>079</td>\n",
       "      <td>00054900</td>\n",
       "      <td>94</td>\n",
       "      <td>16620</td>\n",
       "      <td>00001545</td>\n",
       "      <td>0000000384</td>\n",
       "      <td>...</td>\n",
       "      <td>Refinance</td>\n",
       "      <td>FDIC</td>\n",
       "      <td>First Lien</td>\n",
       "      <td>Conventional</td>\n",
       "      <td>WV</td>\n",
       "      <td>PUTNAM</td>\n",
       "      <td>417</td>\n",
       "      <td>Conventional</td>\n",
       "      <td>Conforming</td>\n",
       "      <td>Y</td>\n",
       "    </tr>\n",
       "    <tr>\n",
       "      <th>1</th>\n",
       "      <td>3</td>\n",
       "      <td>0084</td>\n",
       "      <td>2012</td>\n",
       "      <td>9556.00</td>\n",
       "      <td>043</td>\n",
       "      <td>00054900</td>\n",
       "      <td>133</td>\n",
       "      <td>16620</td>\n",
       "      <td>00001548</td>\n",
       "      <td>0000000384</td>\n",
       "      <td>...</td>\n",
       "      <td>Refinance</td>\n",
       "      <td>FDIC</td>\n",
       "      <td>First Lien</td>\n",
       "      <td>Conventional</td>\n",
       "      <td>WV</td>\n",
       "      <td>LINCOLN</td>\n",
       "      <td>417</td>\n",
       "      <td>Conventional</td>\n",
       "      <td>Conforming</td>\n",
       "      <td>Y</td>\n",
       "    </tr>\n",
       "    <tr>\n",
       "      <th>2</th>\n",
       "      <td>3</td>\n",
       "      <td>0053</td>\n",
       "      <td>2012</td>\n",
       "      <td>9556.00</td>\n",
       "      <td>043</td>\n",
       "      <td>00054900</td>\n",
       "      <td>70</td>\n",
       "      <td>16620</td>\n",
       "      <td>00001548</td>\n",
       "      <td>0000000384</td>\n",
       "      <td>...</td>\n",
       "      <td>Refinance</td>\n",
       "      <td>FDIC</td>\n",
       "      <td>First Lien</td>\n",
       "      <td>Conventional</td>\n",
       "      <td>WV</td>\n",
       "      <td>LINCOLN</td>\n",
       "      <td>417</td>\n",
       "      <td>Conventional</td>\n",
       "      <td>Conforming</td>\n",
       "      <td>Y</td>\n",
       "    </tr>\n",
       "    <tr>\n",
       "      <th>3</th>\n",
       "      <td>3</td>\n",
       "      <td>0085</td>\n",
       "      <td>2012</td>\n",
       "      <td>0206.01</td>\n",
       "      <td>079</td>\n",
       "      <td>00054900</td>\n",
       "      <td>102</td>\n",
       "      <td>16620</td>\n",
       "      <td>00001935</td>\n",
       "      <td>0000000384</td>\n",
       "      <td>...</td>\n",
       "      <td>Refinance</td>\n",
       "      <td>FDIC</td>\n",
       "      <td>First Lien</td>\n",
       "      <td>Conventional</td>\n",
       "      <td>WV</td>\n",
       "      <td>PUTNAM</td>\n",
       "      <td>417</td>\n",
       "      <td>Conventional</td>\n",
       "      <td>Conforming</td>\n",
       "      <td>Y</td>\n",
       "    </tr>\n",
       "    <tr>\n",
       "      <th>4</th>\n",
       "      <td>3</td>\n",
       "      <td>0038</td>\n",
       "      <td>2012</td>\n",
       "      <td>0107.01</td>\n",
       "      <td>039</td>\n",
       "      <td>00054900</td>\n",
       "      <td>112</td>\n",
       "      <td>16620</td>\n",
       "      <td>00001492</td>\n",
       "      <td>0000000384</td>\n",
       "      <td>...</td>\n",
       "      <td>Purchase</td>\n",
       "      <td>FDIC</td>\n",
       "      <td>First Lien</td>\n",
       "      <td>Conventional</td>\n",
       "      <td>WV</td>\n",
       "      <td>KANAWHA</td>\n",
       "      <td>417</td>\n",
       "      <td>Conventional</td>\n",
       "      <td>Conforming</td>\n",
       "      <td>Y</td>\n",
       "    </tr>\n",
       "  </tbody>\n",
       "</table>\n",
       "<p>5 rows × 24 columns</p>\n",
       "</div>"
      ],
      "text/plain": [
       "   Agency_Code Applicant_Income_000  As_of_Year Census_Tract_Number  \\\n",
       "0            3                 0084        2012             0207.00   \n",
       "1            3                 0084        2012             9556.00   \n",
       "2            3                 0053        2012             9556.00   \n",
       "3            3                 0085        2012             0206.01   \n",
       "4            3                 0038        2012             0107.01   \n",
       "\n",
       "  County_Code FFIEC_Median_Family_Income  Loan_Amount_000 MSA_MD  \\\n",
       "0         079                   00054900               94  16620   \n",
       "1         043                   00054900              133  16620   \n",
       "2         043                   00054900               70  16620   \n",
       "3         079                   00054900              102  16620   \n",
       "4         039                   00054900              112  16620   \n",
       "\n",
       "  Number_of_Owner_Occupied_Units Respondent_ID             ...               \\\n",
       "0                       00001545    0000000384             ...                \n",
       "1                       00001548    0000000384             ...                \n",
       "2                       00001548    0000000384             ...                \n",
       "3                       00001935    0000000384             ...                \n",
       "4                       00001492    0000000384             ...                \n",
       "\n",
       "   Loan_Purpose_Description  Agency_Code_Description Lien_Status_Description  \\\n",
       "0                 Refinance                     FDIC              First Lien   \n",
       "1                 Refinance                     FDIC              First Lien   \n",
       "2                 Refinance                     FDIC              First Lien   \n",
       "3                 Refinance                     FDIC              First Lien   \n",
       "4                  Purchase                     FDIC              First Lien   \n",
       "\n",
       "  Loan_Type_Description State County_Name Conforming_Limit_000  \\\n",
       "0          Conventional    WV      PUTNAM                  417   \n",
       "1          Conventional    WV     LINCOLN                  417   \n",
       "2          Conventional    WV     LINCOLN                  417   \n",
       "3          Conventional    WV      PUTNAM                  417   \n",
       "4          Conventional    WV     KANAWHA                  417   \n",
       "\n",
       "  Conventional_Status Conforming_Status Conventional_Conforming_Flag  \n",
       "0        Conventional        Conforming                            Y  \n",
       "1        Conventional        Conforming                            Y  \n",
       "2        Conventional        Conforming                            Y  \n",
       "3        Conventional        Conforming                            Y  \n",
       "4        Conventional        Conforming                            Y  \n",
       "\n",
       "[5 rows x 24 columns]"
      ]
     },
     "execution_count": 5,
     "metadata": {},
     "output_type": "execute_result"
    }
   ],
   "source": [
    "loans_data.head()\n"
   ]
  },
  {
   "cell_type": "code",
   "execution_count": 6,
   "metadata": {},
   "outputs": [
    {
     "data": {
      "text/html": [
       "<div>\n",
       "<table border=\"1\" class=\"dataframe\">\n",
       "  <thead>\n",
       "    <tr style=\"text-align: right;\">\n",
       "      <th></th>\n",
       "      <th>Agency_Code</th>\n",
       "      <th>As_of_Year</th>\n",
       "      <th>Loan_Amount_000</th>\n",
       "      <th>Sequence_Number</th>\n",
       "      <th>State_Code</th>\n",
       "      <th>Conforming_Limit_000</th>\n",
       "    </tr>\n",
       "  </thead>\n",
       "  <tbody>\n",
       "    <tr>\n",
       "      <th>count</th>\n",
       "      <td>1321158.000000</td>\n",
       "      <td>1321158.000000</td>\n",
       "      <td>1321158.000000</td>\n",
       "      <td>1321158.000000</td>\n",
       "      <td>1321158.000000</td>\n",
       "      <td>1320321.000000</td>\n",
       "    </tr>\n",
       "    <tr>\n",
       "      <th>mean</th>\n",
       "      <td>6.852763</td>\n",
       "      <td>2012.797469</td>\n",
       "      <td>290.233111</td>\n",
       "      <td>162353.932230</td>\n",
       "      <td>38.513506</td>\n",
       "      <td>532.910087</td>\n",
       "    </tr>\n",
       "    <tr>\n",
       "      <th>std</th>\n",
       "      <td>2.486604</td>\n",
       "      <td>0.775239</td>\n",
       "      <td>965.779154</td>\n",
       "      <td>334661.258178</td>\n",
       "      <td>15.257442</td>\n",
       "      <td>86.907939</td>\n",
       "    </tr>\n",
       "    <tr>\n",
       "      <th>min</th>\n",
       "      <td>1.000000</td>\n",
       "      <td>2012.000000</td>\n",
       "      <td>1.000000</td>\n",
       "      <td>0.000000</td>\n",
       "      <td>10.000000</td>\n",
       "      <td>417.000000</td>\n",
       "    </tr>\n",
       "    <tr>\n",
       "      <th>25%</th>\n",
       "      <td>7.000000</td>\n",
       "      <td>2012.000000</td>\n",
       "      <td>153.000000</td>\n",
       "      <td>2322.000000</td>\n",
       "      <td>24.000000</td>\n",
       "      <td>458.000000</td>\n",
       "    </tr>\n",
       "    <tr>\n",
       "      <th>50%</th>\n",
       "      <td>7.000000</td>\n",
       "      <td>2013.000000</td>\n",
       "      <td>235.000000</td>\n",
       "      <td>16128.000000</td>\n",
       "      <td>51.000000</td>\n",
       "      <td>535.000000</td>\n",
       "    </tr>\n",
       "    <tr>\n",
       "      <th>75%</th>\n",
       "      <td>9.000000</td>\n",
       "      <td>2013.000000</td>\n",
       "      <td>347.000000</td>\n",
       "      <td>140628.000000</td>\n",
       "      <td>51.000000</td>\n",
       "      <td>625.000000</td>\n",
       "    </tr>\n",
       "    <tr>\n",
       "      <th>max</th>\n",
       "      <td>9.000000</td>\n",
       "      <td>2014.000000</td>\n",
       "      <td>99625.000000</td>\n",
       "      <td>3076577.000000</td>\n",
       "      <td>54.000000</td>\n",
       "      <td>625.000000</td>\n",
       "    </tr>\n",
       "  </tbody>\n",
       "</table>\n",
       "</div>"
      ],
      "text/plain": [
       "          Agency_Code      As_of_Year  Loan_Amount_000  Sequence_Number  \\\n",
       "count  1321158.000000  1321158.000000   1321158.000000   1321158.000000   \n",
       "mean         6.852763     2012.797469       290.233111    162353.932230   \n",
       "std          2.486604        0.775239       965.779154    334661.258178   \n",
       "min          1.000000     2012.000000         1.000000         0.000000   \n",
       "25%          7.000000     2012.000000       153.000000      2322.000000   \n",
       "50%          7.000000     2013.000000       235.000000     16128.000000   \n",
       "75%          9.000000     2013.000000       347.000000    140628.000000   \n",
       "max          9.000000     2014.000000     99625.000000   3076577.000000   \n",
       "\n",
       "           State_Code  Conforming_Limit_000  \n",
       "count  1321158.000000        1320321.000000  \n",
       "mean        38.513506            532.910087  \n",
       "std         15.257442             86.907939  \n",
       "min         10.000000            417.000000  \n",
       "25%         24.000000            458.000000  \n",
       "50%         51.000000            535.000000  \n",
       "75%         51.000000            625.000000  \n",
       "max         54.000000            625.000000  "
      ]
     },
     "execution_count": 6,
     "metadata": {},
     "output_type": "execute_result"
    }
   ],
   "source": [
    "loans_data.describe()"
   ]
  },
  {
   "cell_type": "code",
   "execution_count": 22,
   "metadata": {},
   "outputs": [
    {
     "data": {
      "text/html": [
       "<div>\n",
       "<table border=\"1\" class=\"dataframe\">\n",
       "  <thead>\n",
       "    <tr style=\"text-align: right;\">\n",
       "      <th></th>\n",
       "      <th>State_Code</th>\n",
       "      <th>Loan_Amount_000</th>\n",
       "    </tr>\n",
       "  </thead>\n",
       "  <tbody>\n",
       "    <tr>\n",
       "      <th>0</th>\n",
       "      <td>54</td>\n",
       "      <td>94</td>\n",
       "    </tr>\n",
       "    <tr>\n",
       "      <th>1</th>\n",
       "      <td>54</td>\n",
       "      <td>133</td>\n",
       "    </tr>\n",
       "    <tr>\n",
       "      <th>2</th>\n",
       "      <td>54</td>\n",
       "      <td>70</td>\n",
       "    </tr>\n",
       "    <tr>\n",
       "      <th>3</th>\n",
       "      <td>54</td>\n",
       "      <td>102</td>\n",
       "    </tr>\n",
       "    <tr>\n",
       "      <th>4</th>\n",
       "      <td>54</td>\n",
       "      <td>112</td>\n",
       "    </tr>\n",
       "  </tbody>\n",
       "</table>\n",
       "</div>"
      ],
      "text/plain": [
       "   State_Code  Loan_Amount_000\n",
       "0          54               94\n",
       "1          54              133\n",
       "2          54               70\n",
       "3          54              102\n",
       "4          54              112"
      ]
     },
     "execution_count": 22,
     "metadata": {},
     "output_type": "execute_result"
    }
   ],
   "source": [
    "loans_data[['State_Code', 'Loan_Amount_000']].head()"
   ]
  },
  {
   "cell_type": "code",
   "execution_count": 50,
   "metadata": {},
   "outputs": [
    {
     "data": {
      "text/plain": [
       "<matplotlib.axes._subplots.AxesSubplot at 0x111ed5d0>"
      ]
     },
     "execution_count": 50,
     "metadata": {},
     "output_type": "execute_result"
    },
    {
     "data": {
      "image/png": "[encoded data removed]",
      "text/plain": [
       "<matplotlib.figure.Figure at 0x111f05d0>"
      ]
     },
     "metadata": {},
     "output_type": "display_data"
    }
   ],
   "source": [
    "statewize = loans_data[['State_Code', 'Loan_Amount_000']]\n",
    "statewize_grouped = statewize.groupby('State_Code').agg(['count'])\n",
    "statewize_grouped.plot(kind='bar')\n"
   ]
  },
  {
   "cell_type": "code",
   "execution_count": 51,
   "metadata": {},
   "outputs": [
    {
     "data": {
      "text/plain": [
       "<matplotlib.axes._subplots.AxesSubplot at 0xe906ad0>"
      ]
     },
     "execution_count": 51,
     "metadata": {},
     "output_type": "execute_result"
    },
    {
     "data": {
      "image/png": "[encoded data removed]",
      "text/plain": [
       "<matplotlib.figure.Figure at 0x12b0a850>"
      ]
     },
     "metadata": {},
     "output_type": "display_data"
    }
   ],
   "source": [
    "agencywize = loans_data[['Agency_Code', 'Loan_Amount_000']]\n",
    "agencywize_grouped = agencywize.groupby('Agency_Code').agg(['count'])\n",
    "agencywize_grouped.plot(kind='bar')\n"
   ]
  },
  {
   "cell_type": "code",
   "execution_count": 49,
   "metadata": {},
   "outputs": [
    {
     "data": {
      "text/plain": [
       "<matplotlib.axes._subplots.AxesSubplot at 0x111caf10>"
      ]
     },
     "execution_count": 49,
     "metadata": {},
     "output_type": "execute_result"
    },
    {
     "data": {
      "image/png": "[encoded data removed]",
      "text/plain": [
       "<matplotlib.figure.Figure at 0x111d4ed0>"
      ]
     },
     "metadata": {},
     "output_type": "display_data"
    }
   ],
   "source": []
  },
  {
   "cell_type": "code",
   "execution_count": null,
   "metadata": {
    "collapsed": true
   },
   "outputs": [],
   "source": []
  }
 ],
 "metadata": {
  "kernelspec": {
   "display_name": "Django Shell-Plus",
   "language": "python",
   "name": "django_extensions"
  },
  "language_info": {
   "codemirror_mode": {
    "name": "ipython",
    "version": 2
   },
   "file_extension": ".py",
   "mimetype": "text/x-python",
   "name": "python",
   "nbconvert_exporter": "python",
   "pygments_lexer": "ipython2",
   "version": "2.7.3"
  }
 },
 "nbformat": 4,
 "nbformat_minor": 2
}
