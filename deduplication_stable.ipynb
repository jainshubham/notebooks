{
 "metadata": {
  "name": ""
 },
 "nbformat": 3,
 "nbformat_minor": 0,
 "worksheets": [
  {
   "cells": [
    {
     "cell_type": "code",
     "collapsed": false,
     "input": [
      "from __future__ import print_function\n",
      "import os, sys\n",
      "from time import time\n",
      "os.environ.setdefault(\"DJANGO_SETTINGS_MODULE\", \"web.settings\")\n",
      "sys.path.append('/vagrant/')\n",
      "sys.path.append('/vagrant/contify-banking')\n",
      "\n",
      "from brief.models import Brief  \n",
      "from entry.models import Entry\n",
      "import settings\n",
      "from django.core.management.base import BaseCommand\n",
      "\n",
      "from sklearn.datasets import fetch_20newsgroups\n",
      "from sklearn.decomposition import TruncatedSVD\n",
      "from sklearn.feature_extraction.text import TfidfVectorizer, TfidfTransformer, HashingVectorizer\n",
      "from sklearn.pipeline import make_pipeline\n",
      "from sklearn.preprocessing import Normalizer\n",
      "from sklearn import metrics\n",
      "from sklearn.cluster import KMeans, MiniBatchKMeans\n",
      "import logging\n",
      "from optparse import OptionParser\n",
      "from time import time\n",
      "import numpy as np\n",
      "import pandas as pd\n",
      "from random import random\n",
      "import nltk, math\n",
      "from optparse import make_option           \n",
      "from datetime import datetime, timedelta"
     ],
     "language": "python",
     "metadata": {},
     "outputs": [],
     "prompt_number": 20
    },
    {
     "cell_type": "code",
     "collapsed": false,
     "input": [
      "t0= time()\n",
      "discardedStories = 0\n",
      "#item = Brief.objects.values()\n",
      "item = Entry.objects.order_by(\"-approved_on\")[:400]\n",
      "#tempSoup= str(item[i].title+item[i].section+item[i].topic+item[i].industry+item[i].body_html+item[i].primary_topic+item[i].primary_industry+item[i].auto_tagged_topic+item[i].auto_tagged_industry)\n",
      "storySoup = item.values_list('body_html', flat=True)\n",
      "storyTitle = item.values_list('title', flat=True)\n",
      "storyId = item.values_list('id', flat=True)\n",
      "storyPriority = item.values_list('priority', flat=True)\n",
      "storyDuplicate = item.values('duplicate_of')\n",
      "storyScore= item.values_list('score')\n"
     ],
     "language": "python",
     "metadata": {},
     "outputs": [],
     "prompt_number": 4
    },
    {
     "cell_type": "code",
     "collapsed": false,
     "input": [
      "#Vectorizer\n",
      "hasher = HashingVectorizer(stop_words='english', non_negative=True,\n",
      "                           norm=None, binary=False)\n",
      "vectorizer = make_pipeline(hasher, TfidfTransformer())\n",
      "X = vectorizer.fit_transform(storySoup)\n",
      "print(\"n_samples: %d, n_features: %d\" % X.shape)\n",
      "print(\"n_samples: %d, n_features: %d\" % X.shape)\n",
      "print('\\x1b[1;31m'+\"Stories Vectorized in %fs\" % (time() - t0)+'\\x1b[0m')\n",
      "\n",
      "#Dimension Reduction\n",
      "lsa = TruncatedSVD(algorithm='arpack', n_components=200)\n",
      "dtm_lsa = lsa.fit_transform(X)\n",
      "X = Normalizer(copy=False).fit_transform(dtm_lsa)\n",
      "print(len(storySoup))\n",
      "print('\\x1b[1;31m'+\"Dimensions Reduced in  in %fs\" % (time() - t0)+'\\x1b[0m')\n",
      "print(\"n_samples: %d, n_features: %d\" % X.shape)\n",
      "\n",
      "# Do the actual clustering\n",
      "nc = int(len(storySoup)*.50)\n",
      "km = MiniBatchKMeans(n_clusters= nc, max_iter=100, n_init=5, compute_labels=True, init_size=int(nc*3), batch_size=int(nc*.02), reassignment_ratio=.1, verbose=False).fit(X)\n",
      "d = km.transform(X)\n",
      "#km = KMeans(n_clusters=nc, init='k-means++', max_iter=100, n_init=10, verbose=True).fit(X)\n",
      "labels = km.labels_\n",
      "labels_true = storyPriority\n",
      "labels_pred = km.labels_\n",
      "print('\\x1b[1;31m'+\"Stories Clustered in  in %fs\" % (time() - t0)+'\\x1b[0m')\n",
      "\n",
      "print(metrics.normalized_mutual_info_score(labels_true, labels_pred))\n",
      "print (metrics.silhouette_score(X, labels_pred, metric='euclidean'))\n",
      "print (metrics.homogeneity_completeness_v_measure(labels_true, labels_pred) ) \n",
      "print(\"\\n\")"
     ],
     "language": "python",
     "metadata": {},
     "outputs": [
      {
       "output_type": "stream",
       "stream": "stdout",
       "text": [
        "n_samples: 400, n_features: 1048576\n",
        "n_samples: 400, n_features: 1048576\n",
        "\u001b[1;31mStories Vectorized in 0.773130s\u001b[0m\n",
        "400"
       ]
      },
      {
       "output_type": "stream",
       "stream": "stdout",
       "text": [
        "\n",
        "\u001b[1;31mDimensions Reduced in  in 2.871331s\u001b[0m\n",
        "n_samples: 400, n_features: 200\n",
        "\u001b[1;31mStories Clustered in  in 4.339499s\u001b[0m"
       ]
      },
      {
       "output_type": "stream",
       "stream": "stdout",
       "text": [
        "\n",
        "0.739343045016\n",
        "0.123374794175"
       ]
      },
      {
       "output_type": "stream",
       "stream": "stdout",
       "text": [
        "\n",
        "(0.77382423201147765, 0.70639832096366895, 0.73857561096501756)\n",
        "\n",
        "\n"
       ]
      },
      {
       "output_type": "stream",
       "stream": "stderr",
       "text": [
        "/usr/lib64/python2.7/site-packages/numpy/core/_methods.py:55: RuntimeWarning: Mean of empty slice.\n",
        "  warnings.warn(\"Mean of empty slice.\", RuntimeWarning)\n"
       ]
      }
     ],
     "prompt_number": 5
    },
    {
     "cell_type": "code",
     "collapsed": false,
     "input": [
      "#Scoring\n",
      "knownClusters={}\n",
      "for i in range(storyId.count()):\n",
      "    try:\n",
      "        knownClusters[storyPriority[i]].append(storyId[i])\n",
      "        knownClusters[storyPriority[i]].append(storyPriority[i])        \n",
      "    except:\n",
      "        knownClusters.setdefault(storyPriority[i], [storyId[i]])   \n",
      "    try:\n",
      "        knownClusters[storyId[i]]\n",
      "    except:\n",
      "        knownClusters.setdefault(storyId[i], [storyId[i]])  \n",
      "\"\"\"\n",
      "for i in range(storyId.count()):\n",
      "    if(len(knownClusters[storyPriority[i]])>1):\n",
      "        try:\n",
      "            print(storyPriority[i], knownClusters[storyPriority[i]])\n",
      "        except:\n",
      "            print(\"error\")     \n",
      "\"\"\"\n",
      "clustered={}\n",
      "for k in np.unique(km.labels_):\n",
      "    if(not math.isnan(k)):\n",
      "        members = np.where(km.labels_ == k)  #[1]\n",
      "    if k == -1:\n",
      "        #print(\"outliers:\")\n",
      "        continue    \n",
      "    else:\n",
      "        pass\n",
      "    clusteredList=[]\n",
      "    for item in members[0]:\n",
      "        clusteredList.append(storyId[item])\n",
      "    for i in clusteredList:\n",
      "        try:\n",
      "            clustered[i].append(clusteredList)\n",
      "        except:\n",
      "            clustered.setdefault(i, clusteredList)\n",
      "\"\"\"\n",
      "for i in range(storyId.count()):\n",
      "    if(len(clustered[storyId[i]])>1):\n",
      "        try:\n",
      "            print(clustered[storyId[i]])\n",
      "        except:\n",
      "            print(\"error\")\n",
      "\"\"\"            "
     ],
     "language": "python",
     "metadata": {},
     "outputs": [
      {
       "metadata": {},
       "output_type": "pyout",
       "prompt_number": 6,
       "text": [
        "'\\nfor i in range(storyId.count()):\\n    if(len(clustered[storyId[i]])>1):\\n        try:\\n            print(clustered[storyId[i]])\\n        except:\\n            print(\"error\")\\n'"
       ]
      }
     ],
     "prompt_number": 6
    },
    {
     "cell_type": "code",
     "collapsed": false,
     "input": [
      "l =0\n",
      "m=0\n",
      "for i in range(storyId.count()):\n",
      "    if(len(knownClusters[storyId[i]])>1):\n",
      "        print(\"%s\\t%s\\t\\t\\t\\t%s\" %(storyPriority[i], set(knownClusters[storyPriority[i]]), clustered[storyPriority[i]]))            \n",
      "        if(set(knownClusters[storyPriority[i]]).issubset(set(clustered[storyPriority[i]]))):\n",
      "            l+=1\n",
      "        else:\n",
      "            m+=1\n",
      "print(l)\n",
      "print(m)\n"
     ],
     "language": "python",
     "metadata": {},
     "outputs": [
      {
       "output_type": "stream",
       "stream": "stdout",
       "text": [
        "43897896\tset([43898146, 43897955, 43897896, 43895019, 43897715, 43898036, 43898107])\t\t\t\t[43897896]\n",
        "43897760\tset([43898128, 43897760])\t\t\t\t[43897760]\n",
        "43897495\tset([43898040, 43898158, 43897495])\t\t\t\t[43898030, 43897813, 43898050, 43897764, 43897903, 43898195, 43898170, 43898082, 43897747, 43897744, 43898078, 43893779, 43895604, 43897997, 43898046, 43898053, 43898017, 43897999, 43895820, 43896963, 43897746, 43897576, 43897567, 43897523, 43897560, 43897518, 43897495]"
       ]
      },
      {
       "ename": "KeyError",
       "evalue": "43894952",
       "output_type": "pyerr",
       "traceback": [
        "\u001b[1;31m---------------------------------------------------------------------------\u001b[0m\n\u001b[1;31mKeyError\u001b[0m                                  Traceback (most recent call last)",
        "\u001b[1;32m<ipython-input-7-411e88a876b8>\u001b[0m in \u001b[0;36m<module>\u001b[1;34m()\u001b[0m\n\u001b[0;32m      3\u001b[0m \u001b[1;32mfor\u001b[0m \u001b[0mi\u001b[0m \u001b[1;32min\u001b[0m \u001b[0mrange\u001b[0m\u001b[1;33m(\u001b[0m\u001b[0mstoryId\u001b[0m\u001b[1;33m.\u001b[0m\u001b[0mcount\u001b[0m\u001b[1;33m(\u001b[0m\u001b[1;33m)\u001b[0m\u001b[1;33m)\u001b[0m\u001b[1;33m:\u001b[0m\u001b[1;33m\u001b[0m\u001b[0m\n\u001b[0;32m      4\u001b[0m     \u001b[1;32mif\u001b[0m\u001b[1;33m(\u001b[0m\u001b[0mlen\u001b[0m\u001b[1;33m(\u001b[0m\u001b[0mknownClusters\u001b[0m\u001b[1;33m[\u001b[0m\u001b[0mstoryId\u001b[0m\u001b[1;33m[\u001b[0m\u001b[0mi\u001b[0m\u001b[1;33m]\u001b[0m\u001b[1;33m]\u001b[0m\u001b[1;33m)\u001b[0m\u001b[1;33m>\u001b[0m\u001b[1;36m1\u001b[0m\u001b[1;33m)\u001b[0m\u001b[1;33m:\u001b[0m\u001b[1;33m\u001b[0m\u001b[0m\n\u001b[1;32m----> 5\u001b[1;33m         \u001b[1;32mprint\u001b[0m\u001b[1;33m(\u001b[0m\u001b[1;34m\"%s\\t%s\\t\\t\\t\\t%s\"\u001b[0m \u001b[1;33m%\u001b[0m\u001b[1;33m(\u001b[0m\u001b[0mstoryPriority\u001b[0m\u001b[1;33m[\u001b[0m\u001b[0mi\u001b[0m\u001b[1;33m]\u001b[0m\u001b[1;33m,\u001b[0m \u001b[0mset\u001b[0m\u001b[1;33m(\u001b[0m\u001b[0mknownClusters\u001b[0m\u001b[1;33m[\u001b[0m\u001b[0mstoryPriority\u001b[0m\u001b[1;33m[\u001b[0m\u001b[0mi\u001b[0m\u001b[1;33m]\u001b[0m\u001b[1;33m]\u001b[0m\u001b[1;33m)\u001b[0m\u001b[1;33m,\u001b[0m \u001b[0mclustered\u001b[0m\u001b[1;33m[\u001b[0m\u001b[0mstoryPriority\u001b[0m\u001b[1;33m[\u001b[0m\u001b[0mi\u001b[0m\u001b[1;33m]\u001b[0m\u001b[1;33m]\u001b[0m\u001b[1;33m)\u001b[0m\u001b[1;33m)\u001b[0m\u001b[1;33m\u001b[0m\u001b[0m\n\u001b[0m\u001b[0;32m      6\u001b[0m         \u001b[1;32mif\u001b[0m\u001b[1;33m(\u001b[0m\u001b[0mset\u001b[0m\u001b[1;33m(\u001b[0m\u001b[0mknownClusters\u001b[0m\u001b[1;33m[\u001b[0m\u001b[0mstoryPriority\u001b[0m\u001b[1;33m[\u001b[0m\u001b[0mi\u001b[0m\u001b[1;33m]\u001b[0m\u001b[1;33m]\u001b[0m\u001b[1;33m)\u001b[0m\u001b[1;33m.\u001b[0m\u001b[0missubset\u001b[0m\u001b[1;33m(\u001b[0m\u001b[0mset\u001b[0m\u001b[1;33m(\u001b[0m\u001b[0mclustered\u001b[0m\u001b[1;33m[\u001b[0m\u001b[0mstoryPriority\u001b[0m\u001b[1;33m[\u001b[0m\u001b[0mi\u001b[0m\u001b[1;33m]\u001b[0m\u001b[1;33m]\u001b[0m\u001b[1;33m)\u001b[0m\u001b[1;33m)\u001b[0m\u001b[1;33m)\u001b[0m\u001b[1;33m:\u001b[0m\u001b[1;33m\u001b[0m\u001b[0m\n\u001b[0;32m      7\u001b[0m             \u001b[0ml\u001b[0m\u001b[1;33m+=\u001b[0m\u001b[1;36m1\u001b[0m\u001b[1;33m\u001b[0m\u001b[0m\n",
        "\u001b[1;31mKeyError\u001b[0m: 43894952"
       ]
      },
      {
       "output_type": "stream",
       "stream": "stdout",
       "text": [
        "\n"
       ]
      }
     ],
     "prompt_number": 7
    },
    {
     "cell_type": "code",
     "collapsed": false,
     "input": [
      "c={}\n",
      "c.setdefault('all', [])\n",
      "l=0\n",
      "a = storyPriority\n",
      "b = storyTitle\n",
      "for i in range(storyTitle.count()):\n",
      "    try:\n",
      "        c[a[i]].append(b[i])\n",
      "    except:\n",
      "        c.setdefault(a[i], [b[i]])\n",
      "\n",
      "for i in range(len(a)):\n",
      "    if(len(c[a[i]])>1):\n",
      "        c['all'].append(a[i])\n",
      "len(set(c['all']))"
     ],
     "language": "python",
     "metadata": {},
     "outputs": []
    },
    {
     "cell_type": "code",
     "collapsed": false,
     "input": [
      "Entry.objects.update(duplicate_of=None)\n",
      "for k in np.unique(km.labels_):\n",
      "    if(not math.isnan(k)):\n",
      "        members = np.where(km.labels_ == k) \n",
      "    if k == -1:\n",
      "        #print(\"outliers:\")\n",
      "        continue    \n",
      "    largest = 0\n",
      "    score = 0\n",
      "    for it in members[0]:\n",
      "        p = Entry.objects.get(id=storyId[it]) \n",
      "        #score += (6-Entry.intra_publication_status_precedence.index(p.status))/float(6)   #intra_publication_status_precedence\n",
      "        score += (((datetime.now() - p.created_on).total_seconds() // 3600)-190)/24 # Weight for story age\n",
      "        score += 10*min(d[it])\n",
      "        #print(score, p.id)\n",
      "        o = Entry.objects.order_by(\"-approved_on\").filter(id=storyId[it]).update(score=score)    \n",
      "        if(score>largest):\n",
      "            largest=score\n",
      "            root = Entry.objects.get(id=storyId[it])\n",
      "            root.duplicate_of=None\n",
      "            root.save()\n",
      "    for it in members[0]:\n",
      "        p = Entry.objects.get(id=storyId[it]) \n",
      "        if (p!=root):\n",
      "            p.duplicate_of=root\n",
      "            p.status = root.status\n",
      "            p.priority = root.priority\n",
      "            if (p.approved_by_id is None or p.approved_by_id == settings.SYSTEM_ADMIN_USER_ID) and p.status in [2, -1, 5, 6]:\n",
      "                p.approved_on = datetime.now()\n",
      "                p.approved_by_id = settings.SYSTEM_ADMIN_USER_ID\n",
      "            p.primary_topic_id = root.primary_topic_id\n",
      "            p.primary_industry_id = root.primary_industry_id\n",
      "            p.copy_tags_and_sentiment_from(root, copyOnlySemanticTags=True)\n",
      "            p.save(doNotSaveDuplicateChildren=True)"
     ],
     "language": "python",
     "metadata": {},
     "outputs": [],
     "prompt_number": 24
    }
   ],
   "metadata": {}
  }
 ]
}