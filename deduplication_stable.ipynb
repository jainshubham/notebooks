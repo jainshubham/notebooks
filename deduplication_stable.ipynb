{
 "metadata": {
  "name": ""
 },
 "nbformat": 3,
 "nbformat_minor": 0,
 "worksheets": [
  {
   "cells": [
    {
     "cell_type": "code",
     "collapsed": false,
     "input": [
      "from __future__ import print_function\n",
      "import os, sys\n",
      "from time import time\n",
      "os.environ.setdefault(\"DJANGO_SETTINGS_MODULE\", \"web.settings\")\n",
      "sys.path.append('/vagrant/')\n",
      "sys.path.append('/vagrant/contify-banking')\n",
      "\n",
      "from brief.models import Brief  \n",
      "from entry.models import Entry\n",
      "from django.core.management.base import BaseCommand\n",
      "\n",
      "from sklearn.datasets import fetch_20newsgroups\n",
      "from sklearn.decomposition import TruncatedSVD\n",
      "from sklearn.feature_extraction.text import TfidfVectorizer, TfidfTransformer, HashingVectorizer\n",
      "from sklearn.pipeline import make_pipeline\n",
      "from sklearn.preprocessing import Normalizer\n",
      "from sklearn import metrics\n",
      "from sklearn.cluster import KMeans, MiniBatchKMeans\n",
      "import logging\n",
      "from optparse import OptionParser\n",
      "from time import time\n",
      "import numpy as np\n",
      "import pandas as pd\n",
      "from random import random\n",
      "import nltk, math\n",
      "from optparse import make_option           \n",
      "from datetime import datetime, timedelta"
     ],
     "language": "python",
     "metadata": {},
     "outputs": [],
     "prompt_number": 1
    },
    {
     "cell_type": "code",
     "collapsed": false,
     "input": [
      "t0= time()\n",
      "discardedStories = 0\n",
      "#item = Brief.objects.values()\n",
      "item = Entry.objects.order_by(\"-approved_on\")[:400]\n",
      "#tempSoup= str(item[i].title+item[i].section+item[i].topic+item[i].industry+item[i].body_html+item[i].primary_topic+item[i].primary_industry+item[i].auto_tagged_topic+item[i].auto_tagged_industry)\n",
      "storySoup = item.values_list('body_html', flat=True)\n",
      "storyTitle = item.values_list('title', flat=True)\n",
      "storyId = item.values_list('id', flat=True)\n",
      "storyPriority = item.values_list('priority', flat=True)\n",
      "storyDuplicate = item.values('duplicate_of')\n",
      "storyScore= item.values_list('score')\n"
     ],
     "language": "python",
     "metadata": {},
     "outputs": [],
     "prompt_number": 5
    },
    {
     "cell_type": "code",
     "collapsed": false,
     "input": [
      "#Vectorizer\n",
      "hasher = HashingVectorizer(stop_words='english', non_negative=True,\n",
      "                           norm=None, binary=False)\n",
      "vectorizer = make_pipeline(hasher, TfidfTransformer())\n",
      "X = vectorizer.fit_transform(storySoup)\n",
      "print(\"n_samples: %d, n_features: %d\" % X.shape)\n",
      "print(\"n_samples: %d, n_features: %d\" % X.shape)\n",
      "print('\\x1b[1;31m'+\"Stories Vectorized in %fs\" % (time() - t0)+'\\x1b[0m')\n",
      "\n",
      "#Dimension Reduction\n",
      "lsa = TruncatedSVD(algorithm='arpack', n_components=200)\n",
      "dtm_lsa = lsa.fit_transform(X)\n",
      "X = Normalizer(copy=False).fit_transform(dtm_lsa)\n",
      "print(len(storySoup))\n",
      "print('\\x1b[1;31m'+\"Dimensions Reduced in  in %fs\" % (time() - t0)+'\\x1b[0m')\n",
      "print(\"n_samples: %d, n_features: %d\" % X.shape)\n",
      "\n",
      "# Do the actual clustering\n",
      "nc = int(len(storySoup)*.50)\n",
      "km = MiniBatchKMeans(n_clusters= nc, max_iter=100, n_init=5, compute_labels=True, init_size=int(nc*3), batch_size=int(nc*.02), reassignment_ratio=.1, verbose=True).fit(X)\n",
      "#km = KMeans(n_clusters=nc, init='k-means++', max_iter=100, n_init=10, verbose=True).fit(X)\n",
      "labels = km.labels_\n",
      "labels_true = storyPriority\n",
      "labels_pred = km.labels_\n",
      "print('\\x1b[1;31m'+\"Stories Clustered in  in %fs\" % (time() - t0)+'\\x1b[0m')\n",
      "\n",
      "print(metrics.normalized_mutual_info_score(labels_true, labels_pred))\n",
      "print (metrics.silhouette_score(X, labels_pred, metric='euclidean'))\n",
      "print (metrics.homogeneity_completeness_v_measure(labels_true, labels_pred) ) \n",
      "print(\"\\n\")"
     ],
     "language": "python",
     "metadata": {},
     "outputs": [
      {
       "output_type": "stream",
       "stream": "stdout",
       "text": [
        "n_samples: 400, n_features: 1048576\n",
        "n_samples: 400, n_features: 1048576\n",
        "\u001b[1;31mStories Vectorized in 0.898387s\u001b[0m\n",
        "400"
       ]
      },
      {
       "output_type": "stream",
       "stream": "stdout",
       "text": [
        "\n",
        "\u001b[1;31mDimensions Reduced in  in 3.098150s\u001b[0m\n",
        "n_samples: 400, n_features: 200\n",
        "Init 1/5 with method: k-means++\n",
        "Inertia for init 1/5: 63.242088"
       ]
      },
      {
       "output_type": "stream",
       "stream": "stdout",
       "text": [
        "\n",
        "Init 2/5 with method: k-means++\n",
        "Inertia for init 2/5: 60.418218"
       ]
      },
      {
       "output_type": "stream",
       "stream": "stdout",
       "text": [
        "\n",
        "Init 3/5 with method: k-means++\n",
        "Inertia for init 3/5: 57.810996"
       ]
      },
      {
       "output_type": "stream",
       "stream": "stdout",
       "text": [
        "\n",
        "Init 4/5 with method: k-means++\n",
        "Inertia for init 4/5: 54.577980"
       ]
      },
      {
       "output_type": "stream",
       "stream": "stdout",
       "text": [
        "\n",
        "Init 5/5 with method: k-means++\n",
        "Inertia for init 5/5: 60.475240"
       ]
      },
      {
       "output_type": "stream",
       "stream": "stdout",
       "text": [
        "\n",
        "Minibatch iteration 1/10000: mean batch inertia: 0.226457, ewa inertia: 0.226457 \n",
        "Minibatch iteration 2/10000: mean batch inertia: 0.982146, ewa inertia: 0.241533 \n",
        "Minibatch iteration 3/10000: mean batch inertia: 0.252998, ewa inertia: 0.241761 \n",
        "Minibatch iteration 4/10000: mean batch inertia: 0.345541, ewa inertia: 0.243832 \n",
        "Minibatch iteration 5/10000: mean batch inertia: 0.289630, ewa inertia: 0.244746 \n",
        "Minibatch iteration 6/10000: mean batch inertia: 0.229822, ewa inertia: 0.244448 \n",
        "Minibatch iteration 7/10000: mean batch inertia: 0.155356, ewa inertia: 0.242670 \n",
        "Minibatch iteration 8/10000: mean batch inertia: 0.110440, ewa inertia: 0.240032 \n",
        "Minibatch iteration 9/10000: mean batch inertia: 0.349760, ewa inertia: 0.242222 \n",
        "[MiniBatchKMeans] Reassigning 2 cluster centers.\n",
        "Minibatch iteration 10/10000: mean batch inertia: 0.102115, ewa inertia: 0.239426 \n",
        "Minibatch iteration 11/10000: mean batch inertia: 0.208188, ewa inertia: 0.238803 \n",
        "Converged (lack of improvement in inertia) at iteration 11/10000\n",
        "Computing label assignment and total inertia\n",
        "\u001b[1;31mStories Clustered in  in 4.558983s\u001b[0m"
       ]
      },
      {
       "output_type": "stream",
       "stream": "stdout",
       "text": [
        "\n",
        "0.907424849124\n",
        "0.114052138769"
       ]
      },
      {
       "output_type": "stream",
       "stream": "stdout",
       "text": [
        "\n",
        "(0.82341985680806218, 1.0000000000000004, 0.90315990991726658)\n",
        "\n",
        "\n"
       ]
      },
      {
       "output_type": "stream",
       "stream": "stderr",
       "text": [
        "/usr/lib64/python2.7/site-packages/numpy/core/_methods.py:55: RuntimeWarning: Mean of empty slice.\n",
        "  warnings.warn(\"Mean of empty slice.\", RuntimeWarning)\n"
       ]
      }
     ],
     "prompt_number": 6
    },
    {
     "cell_type": "code",
     "collapsed": false,
     "input": [
      "#Scoring\n",
      "knownClusters={}\n",
      "for i in range(storyId.count()):\n",
      "    try:\n",
      "        knownClusters[storyPriority[i]].append(storyId[i])\n",
      "        knownClusters[storyPriority[i]].append(storyPriority[i])        \n",
      "    except:\n",
      "        knownClusters.setdefault(storyPriority[i], [storyId[i]])   \n",
      "    try:\n",
      "        knownClusters[storyId[i]]\n",
      "    except:\n",
      "        knownClusters.setdefault(storyId[i], [storyId[i]])  \n",
      "\"\"\"\n",
      "for i in range(storyId.count()):\n",
      "    if(len(knownClusters[storyPriority[i]])>1):\n",
      "        try:\n",
      "            print(storyPriority[i], knownClusters[storyPriority[i]])\n",
      "        except:\n",
      "            print(\"error\")     \n",
      "\"\"\"\n",
      "clustered={}\n",
      "for k in np.unique(km.labels_):\n",
      "    if(not math.isnan(k)):\n",
      "        members = np.where(km.labels_ == k)  #[1]\n",
      "    if k == -1:\n",
      "        #print(\"outliers:\")\n",
      "        continue    \n",
      "    else:\n",
      "        pass\n",
      "    clusteredList=[]\n",
      "    for item in members[0]:\n",
      "        clusteredList.append(storyId[item])\n",
      "    for i in clusteredList:\n",
      "        try:\n",
      "            clustered[i].append(clusteredList)\n",
      "        except:\n",
      "            clustered.setdefault(i, clusteredList)\n",
      "\"\"\"\n",
      "for i in range(storyId.count()):\n",
      "    if(len(clustered[storyId[i]])>1):\n",
      "        try:\n",
      "            print(clustered[storyId[i]])\n",
      "        except:\n",
      "            print(\"error\")\n",
      "\"\"\"            "
     ],
     "language": "python",
     "metadata": {},
     "outputs": [
      {
       "ename": "NameError",
       "evalue": "name 'math' is not defined",
       "output_type": "pyerr",
       "traceback": [
        "\u001b[1;31m---------------------------------------------------------------------------\u001b[0m\n\u001b[1;31mNameError\u001b[0m                                 Traceback (most recent call last)",
        "\u001b[1;32m<ipython-input-7-f1e83b7f5651>\u001b[0m in \u001b[0;36m<module>\u001b[1;34m()\u001b[0m\n\u001b[0;32m     21\u001b[0m \u001b[0mclustered\u001b[0m\u001b[1;33m=\u001b[0m\u001b[1;33m{\u001b[0m\u001b[1;33m}\u001b[0m\u001b[1;33m\u001b[0m\u001b[0m\n\u001b[0;32m     22\u001b[0m \u001b[1;32mfor\u001b[0m \u001b[0mk\u001b[0m \u001b[1;32min\u001b[0m \u001b[0mnp\u001b[0m\u001b[1;33m.\u001b[0m\u001b[0munique\u001b[0m\u001b[1;33m(\u001b[0m\u001b[0mkm\u001b[0m\u001b[1;33m.\u001b[0m\u001b[0mlabels_\u001b[0m\u001b[1;33m)\u001b[0m\u001b[1;33m:\u001b[0m\u001b[1;33m\u001b[0m\u001b[0m\n\u001b[1;32m---> 23\u001b[1;33m     \u001b[1;32mif\u001b[0m\u001b[1;33m(\u001b[0m\u001b[1;32mnot\u001b[0m \u001b[0mmath\u001b[0m\u001b[1;33m.\u001b[0m\u001b[0misnan\u001b[0m\u001b[1;33m(\u001b[0m\u001b[0mk\u001b[0m\u001b[1;33m)\u001b[0m\u001b[1;33m)\u001b[0m\u001b[1;33m:\u001b[0m\u001b[1;33m\u001b[0m\u001b[0m\n\u001b[0m\u001b[0;32m     24\u001b[0m         \u001b[0mmembers\u001b[0m \u001b[1;33m=\u001b[0m \u001b[0mnp\u001b[0m\u001b[1;33m.\u001b[0m\u001b[0mwhere\u001b[0m\u001b[1;33m(\u001b[0m\u001b[0mkm\u001b[0m\u001b[1;33m.\u001b[0m\u001b[0mlabels_\u001b[0m \u001b[1;33m==\u001b[0m \u001b[0mk\u001b[0m\u001b[1;33m)\u001b[0m  \u001b[1;31m#[1]\u001b[0m\u001b[1;33m\u001b[0m\u001b[0m\n\u001b[0;32m     25\u001b[0m     \u001b[1;32mif\u001b[0m \u001b[0mk\u001b[0m \u001b[1;33m==\u001b[0m \u001b[1;33m-\u001b[0m\u001b[1;36m1\u001b[0m\u001b[1;33m:\u001b[0m\u001b[1;33m\u001b[0m\u001b[0m\n",
        "\u001b[1;31mNameError\u001b[0m: name 'math' is not defined"
       ]
      }
     ],
     "prompt_number": 7
    },
    {
     "cell_type": "code",
     "collapsed": false,
     "input": [
      "l =0\n",
      "m=0\n",
      "for i in range(storyId.count()):\n",
      "    if(len(knownClusters[storyId[i]])>1):\n",
      "        print(\"%s\\t%s\\t\\t\\t\\t%s\" %(storyPriority[i], set(knownClusters[storyPriority[i]]), clustered[storyPriority[i]]))            \n",
      "        if(set(knownClusters[storyPriority[i]]).issubset(set(clustered[storyPriority[i]]))):\n",
      "            l+=1\n",
      "        else:\n",
      "            m+=1\n",
      "print(l)\n",
      "print(m)\n"
     ],
     "language": "python",
     "metadata": {},
     "outputs": []
    },
    {
     "cell_type": "code",
     "collapsed": false,
     "input": [
      "c={}\n",
      "c.setdefault('all', [])\n",
      "l=0\n",
      "a = storyPriority\n",
      "b = storyTitle\n",
      "for i in range(storyTitle.count()):\n",
      "    try:\n",
      "        c[a[i]].append(b[i])\n",
      "    except:\n",
      "        c.setdefault(a[i], [b[i]])\n",
      "\n",
      "for i in range(len(a)):\n",
      "    if(len(c[a[i]])>1):\n",
      "        c['all'].append(a[i])\n"
     ],
     "language": "python",
     "metadata": {},
     "outputs": []
    },
    {
     "cell_type": "code",
     "collapsed": false,
     "input": [
      "len(set(c['all']))"
     ],
     "language": "python",
     "metadata": {},
     "outputs": []
    },
    {
     "cell_type": "code",
     "collapsed": false,
     "input": [
      "for k in np.unique(km.labels_):\n",
      "    if(not math.isnan(k)):\n",
      "        members = np.where(km.labels_ == k)  \n",
      "    if k == -1:\n",
      "        #print(\"outliers:\")\n",
      "        continue    \n",
      "    else:\n",
      "        pass\n",
      "    largest = 0\n",
      "    for it in members[0]:\n",
      "        r = random()\n",
      "        #r = getScore()\n",
      "        o = Entry.objects.order_by(\"-approved_on\").filter(id=storyId[it]).update(score=r)    \n",
      "        if(r>largest):\n",
      "            largest=r\n",
      "            root = Entry.objects.get(id=storyId[it])\n",
      "            root.duplicate_of=None\n",
      "            root.save()\n",
      "    for it in members[0]:\n",
      "        p = Entry.objects.get(id=storyId[it]) \n",
      "        if (p!=root):\n",
      "            p.duplicate_of=root\n",
      "            p.save()"
     ],
     "language": "python",
     "metadata": {},
     "outputs": [],
     "prompt_number": 21
    },
    {
     "cell_type": "code",
     "collapsed": false,
     "input": [],
     "language": "python",
     "metadata": {},
     "outputs": []
    },
    {
     "cell_type": "code",
     "collapsed": false,
     "input": [],
     "language": "python",
     "metadata": {},
     "outputs": []
    },
    {
     "cell_type": "code",
     "collapsed": false,
     "input": [],
     "language": "python",
     "metadata": {},
     "outputs": []
    }
   ],
   "metadata": {}
  }
 ]
}