{
 "metadata": {
  "name": ""
 },
 "nbformat": 3,
 "nbformat_minor": 0,
 "worksheets": [
  {
   "cells": [
    {
     "cell_type": "code",
     "collapsed": false,
     "input": [
      "from __future__ import print_function\n",
      "import os, sys\n",
      "from time import time\n",
      "os.environ.setdefault(\"DJANGO_SETTINGS_MODULE\", \"web.settings\")\n",
      "sys.path.append('/vagrant/')\n",
      "sys.path.append('/vagrant/contify-banking')\n",
      "\n",
      "from brief.models import Brief  \n",
      "from entry.models import Entry\n",
      "import settings\n",
      "from django.core.management.base import BaseCommand\n",
      "\n",
      "from sklearn.datasets import fetch_20newsgroups\n",
      "from sklearn.decomposition import TruncatedSVD\n",
      "from sklearn.feature_extraction.text import TfidfVectorizer, TfidfTransformer, HashingVectorizer\n",
      "from sklearn.pipeline import make_pipeline\n",
      "from sklearn.preprocessing import Normalizer\n",
      "from sklearn import metrics\n",
      "from sklearn.cluster import KMeans, MiniBatchKMeans\n",
      "import logging\n",
      "from optparse import OptionParser\n",
      "from time import time\n",
      "import numpy as np\n",
      "import pandas as pd\n",
      "from random import random\n",
      "import nltk, math\n",
      "from optparse import make_option           \n",
      "from datetime import datetime, timedelta"
     ],
     "language": "python",
     "metadata": {},
     "outputs": [],
     "prompt_number": 1
    },
    {
     "cell_type": "code",
     "collapsed": false,
     "input": [
      "t0= time()\n",
      "discardedStories = 0\n",
      "#item = Brief.objects.values()\n",
      "item = Entry.objects.order_by(\"-approved_on\")[:400]\n",
      "#tempSoup= str(item[i].title+item[i].section+item[i].topic+item[i].industry+item[i].body_html+item[i].primary_topic+item[i].primary_industry+item[i].auto_tagged_topic+item[i].auto_tagged_industry)\n",
      "storySoup = item.values_list('body_html', flat=True)\n",
      "storyTitle = item.values_list('title', flat=True)\n",
      "storyId = item.values_list('id', flat=True)\n",
      "storyPriority = item.values_list('priority', flat=True)\n",
      "storyDuplicate = item.values('duplicate_of')"
     ],
     "language": "python",
     "metadata": {},
     "outputs": [],
     "prompt_number": 2
    },
    {
     "cell_type": "code",
     "collapsed": false,
     "input": [
      "#Vectorizer\n",
      "\n",
      "hasher = HashingVectorizer(stop_words='english', non_negative=True,\n",
      "                           norm=None, binary=False)\n",
      "vectorizer = make_pipeline(hasher, TfidfTransformer())\n",
      "X = vectorizer.fit_transform(storySoup)\n",
      "print(\"n_samples: %d, n_features: %d\" % X.shape)\n",
      "print(\"n_samples: %d, n_features: %d\" % X.shape)\n",
      "print('\\x1b[1;31m'+\"Stories Vectorized in %fs\" % (time() - t0)+'\\x1b[0m')\n",
      "\n",
      "#Dimension Reduction\n",
      "lsa = TruncatedSVD(algorithm='arpack', n_components=200)\n",
      "dtm_lsa = lsa.fit_transform(X)\n",
      "X = Normalizer(copy=False).fit_transform(dtm_lsa)\n",
      "print(len(storySoup))\n",
      "print('\\x1b[1;31m'+\"Dimensions Reduced in  in %fs\" % (time() - t0)+'\\x1b[0m')\n",
      "print(\"n_samples: %d, n_features: %d\" % X.shape)\n",
      "\n",
      "# Do the actual clustering\n",
      "nc = int(len(storySoup)*.50)\n",
      "km = MiniBatchKMeans(n_clusters= nc, max_iter=100, n_init=5, compute_labels=True, init_size=int(nc*3), batch_size=int(nc*.02), reassignment_ratio=.1, verbose=False).fit(X)\n",
      "d = km.transform(X)\n",
      "#km = KMeans(n_clusters=nc, init='k-means++', max_iter=100, n_init=10, verbose=True).fit(X)\n",
      "labels = km.labels_\n",
      "labels_true = storyPriority\n",
      "labels_pred = km.labels_\n",
      "print('\\x1b[1;31m'+\"Stories Clustered in  in %fs\" % (time() - t0)+'\\x1b[0m')\n",
      "\n",
      "print(metrics.normalized_mutual_info_score(labels_true, labels_pred))\n",
      "print (metrics.silhouette_score(X, labels_pred, metric='euclidean'))\n",
      "print (metrics.homogeneity_completeness_v_measure(labels_true, labels_pred) ) \n",
      "print(\"\\n\")"
     ],
     "language": "python",
     "metadata": {},
     "outputs": [
      {
       "output_type": "stream",
       "stream": "stdout",
       "text": [
        "n_samples: 400, n_features: 1048576\n",
        "n_samples: 400, n_features: 1048576\n",
        "\u001b[1;31mStories Vectorized in 4.962515s\u001b[0m\n",
        "400"
       ]
      },
      {
       "output_type": "stream",
       "stream": "stdout",
       "text": [
        "\n",
        "\u001b[1;31mDimensions Reduced in  in 7.039012s\u001b[0m\n",
        "n_samples: 400, n_features: 200\n",
        "\u001b[1;31mStories Clustered in  in 8.567404s\u001b[0m"
       ]
      },
      {
       "output_type": "stream",
       "stream": "stdout",
       "text": [
        "\n",
        "0.938927679769\n",
        "0.372450483657"
       ]
      },
      {
       "output_type": "stream",
       "stream": "stdout",
       "text": [
        "\n",
        "(0.9112731235414937, 0.9674214733892158, 0.93850824852190651)\n",
        "\n",
        "\n"
       ]
      },
      {
       "output_type": "stream",
       "stream": "stderr",
       "text": [
        "/usr/lib64/python2.7/site-packages/numpy/core/_methods.py:55: RuntimeWarning: Mean of empty slice.\n",
        "  warnings.warn(\"Mean of empty slice.\", RuntimeWarning)\n"
       ]
      }
     ],
     "prompt_number": 3
    },
    {
     "cell_type": "code",
     "collapsed": false,
     "input": [
      "clusteredDict = {}\n",
      "for l in range(len(km.labels_)):\n",
      "    try:\n",
      "        clusteredDict[km.labels_[l]].append(item[l])\n",
      "    except:\n",
      "        clusteredDict.setdefault(km.labels_[l], [item[l]])"
     ],
     "language": "python",
     "metadata": {},
     "outputs": [],
     "prompt_number": 33
    },
    {
     "cell_type": "code",
     "collapsed": false,
     "input": [
      "\n",
      "for cluster in clusteredDict.values():\n",
      "    print(\"\\n\")\n",
      "    largest = 0\n",
      "    for story in cluster:\n",
      "        score = 0\n",
      "        score += (((datetime.now() - story.created_on).total_seconds() // 3600)-190)/24 # Weight for story age\n",
      "        #score += min(d[it])     # score from clustering\n",
      "        #story.score = score\n",
      "        if(len(cluster)>1 and len(cluster)<5):\n",
      "           print(story.title)\n",
      "        if(score>largest):\n",
      "                largest=score\n",
      "                root=currItem\n"
     ],
     "language": "python",
     "metadata": {},
     "outputs": [
      {
       "ename": "NameError",
       "evalue": "name 'members' is not defined",
       "output_type": "pyerr",
       "traceback": [
        "\u001b[1;31m---------------------------------------------------------------------------\u001b[0m\n\u001b[1;31mNameError\u001b[0m                                 Traceback (most recent call last)",
        "\u001b[1;32m<ipython-input-50-4421c31c43e2>\u001b[0m in \u001b[0;36m<module>\u001b[1;34m()\u001b[0m\n\u001b[0;32m      7\u001b[0m         \u001b[1;31m#score += min(d[it])     # score from clustering\u001b[0m\u001b[1;33m\u001b[0m\u001b[1;33m\u001b[0m\u001b[0m\n\u001b[0;32m      8\u001b[0m         \u001b[1;31m#story.score = score\u001b[0m\u001b[1;33m\u001b[0m\u001b[1;33m\u001b[0m\u001b[0m\n\u001b[1;32m----> 9\u001b[1;33m         \u001b[1;32mif\u001b[0m\u001b[1;33m(\u001b[0m\u001b[0mlen\u001b[0m\u001b[1;33m(\u001b[0m\u001b[0mmembers\u001b[0m\u001b[1;33m[\u001b[0m\u001b[1;36m0\u001b[0m\u001b[1;33m]\u001b[0m\u001b[1;33m)\u001b[0m\u001b[1;33m>\u001b[0m\u001b[1;36m1\u001b[0m \u001b[1;32mand\u001b[0m \u001b[0mlen\u001b[0m\u001b[1;33m(\u001b[0m\u001b[0mmembers\u001b[0m\u001b[1;33m[\u001b[0m\u001b[1;36m0\u001b[0m\u001b[1;33m]\u001b[0m\u001b[1;33m)\u001b[0m\u001b[1;33m<\u001b[0m\u001b[1;36m5\u001b[0m\u001b[1;33m)\u001b[0m\u001b[1;33m:\u001b[0m\u001b[1;33m\u001b[0m\u001b[0m\n\u001b[0m\u001b[0;32m     10\u001b[0m            \u001b[1;32mprint\u001b[0m\u001b[1;33m(\u001b[0m\u001b[0mcurrItem\u001b[0m\u001b[1;33m.\u001b[0m\u001b[0mtitle\u001b[0m\u001b[1;33m)\u001b[0m\u001b[1;33m\u001b[0m\u001b[0m\n\u001b[0;32m     11\u001b[0m         \u001b[1;32mif\u001b[0m\u001b[1;33m(\u001b[0m\u001b[0mscore\u001b[0m\u001b[1;33m>\u001b[0m\u001b[0mlargest\u001b[0m\u001b[1;33m)\u001b[0m\u001b[1;33m:\u001b[0m\u001b[1;33m\u001b[0m\u001b[0m\n",
        "\u001b[1;31mNameError\u001b[0m: name 'members' is not defined"
       ]
      },
      {
       "output_type": "stream",
       "stream": "stdout",
       "text": [
        "\n",
        "\n"
       ]
      }
     ],
     "prompt_number": 50
    },
    {
     "cell_type": "code",
     "collapsed": false,
     "input": [
      "km.labels_"
     ],
     "language": "python",
     "metadata": {},
     "outputs": [
      {
       "metadata": {},
       "output_type": "pyout",
       "prompt_number": 10,
       "text": [
        "array([149, 163,  79, 193,  89,  76, 112, 157, 104, 180, 109, 186, 111,\n",
        "       127, 157, 164, 126,  80, 142,  26,   0, 194,  44,   6,   6,  33,\n",
        "        95,   4,   9,   9,  33,  27, 118,  13, 116,  87,  26, 123, 131,\n",
        "        50,  12,  12,   5,  55,  44,  47,   7,  39,  49, 114,  99,  81,\n",
        "        94,  66,  35,  46,  46,  78,   3,   3,   3,  38,  34,  34, 106,\n",
        "        19,  13,  40,  40,  84,  11,   6,   9,  33, 109,  67,  38,   4,\n",
        "        13,  92,  60,  49,  57,   9,  30,   6,  88,  11,  30,  35,  11,\n",
        "       119,  71,  70, 179, 102, 162,  25,  54,  44,  69,  97,  86,   4,\n",
        "        52,  52,  83, 140,  75,   2,  50,  27,  53,  53,  60,   5,   5,\n",
        "         5,   5,   5,  39,   3,   3,   3,   6,  13,  13,  21,  21,  49,\n",
        "         9,  34,  47,  47,  72,  72,  23, 100, 198, 169, 169,  63,  63,\n",
        "         1,  36,  36,  36,  28,  41,  63, 183, 192, 190,  63, 199, 198,\n",
        "        63, 160, 129,  51,  51, 171, 186,   1,   1,   1, 168, 112,  10,\n",
        "        10, 156,  63, 198, 198, 135,  17,  17,  17, 185,   1,  43,  43,\n",
        "        62, 144,  63, 144,  29,  29, 191,  48,  48,  68,  54,  91, 175,\n",
        "       120,  14,  14, 187,   1,   1,   1,   1, 147, 151,  63,  24,  24,\n",
        "        24,  63, 145, 145,  63, 177,  63,  63,  63,  63,  63,  63,  63,\n",
        "        63,  63,  63,  63,  63,  63,  63,  63,  63,  63, 181, 170, 166,\n",
        "       110,  96,  85, 150, 150, 150, 150, 150, 150,  28, 184,  58,  59,\n",
        "        59,  59,  59,  59,  59,  59,  59, 108, 108, 108,  63,  10,  16,\n",
        "        16,  64,  64,  63, 167,  90, 169, 169, 105, 174, 174, 174, 148,\n",
        "       198, 159, 152, 195,  93,  93,  93, 103, 103,  73, 153, 188, 132,\n",
        "       132, 117, 101,  29,  29, 158, 197,   1, 155,  45,  45,  41, 130,\n",
        "         7, 154, 178, 115, 172,  61,  61, 155,   1, 189,  63,  62,  62,\n",
        "        10,  63,  41,  98, 124,  63,  63,  82,  37,  37,  37,  37, 139,\n",
        "        20, 129, 165, 196,  22,  22, 121, 176,   2, 161,  65, 153, 153,\n",
        "       141, 141, 141, 141, 134,  56,  74, 169, 169, 137, 137, 174,   8,\n",
        "         8, 136, 154, 128, 128,  25, 195, 175,  18,  18, 143, 113,  77,\n",
        "       122, 125, 146, 181, 138,  63, 107, 144, 148,  20,  20,  20,  32,\n",
        "        32,  64, 102,  10,  10,  10,  10,  63,  15,  15,  15, 173, 173,\n",
        "        42,  42,   1,   1,  67, 133, 133,  31,  63,  63], dtype=int32)"
       ]
      }
     ],
     "prompt_number": 10
    },
    {
     "cell_type": "code",
     "collapsed": false,
     "input": [
      "clustered={}\n",
      "for k in np.unique(km.labels_):\n",
      "    if(not math.isnan(k)):\n",
      "        members = np.where(km.labels_ == k)  #[1]\n",
      "    if k == -1:\n",
      "        #print(\"outliers:\")\n",
      "        continue    \n",
      "    else:\n",
      "        pass\n",
      "    largest = 0\n",
      "    print(\"\\n\")\n",
      "    for it in members[0]:\n",
      "        score = random()\n",
      "        newitem = item[it]\n",
      "        newitem.score = score\n",
      "        print(newitem.title)\n",
      "        if(score>largest):\n",
      "                largest=score\n",
      "                root=newitem\n",
      "    for it in members[0]:\n",
      "        score = random()\n",
      "        newitem = item[it]\n",
      "         "
     ],
     "language": "python",
     "metadata": {},
     "outputs": [
      {
       "output_type": "stream",
       "stream": "stdout",
       "text": [
        "\n",
        "\n",
        "Unions Defer Proposed Four-Day Bank Strike\n",
        "\n"
       ]
      },
      {
       "output_type": "stream",
       "stream": "stdout",
       "text": [
        "\n",
        "29 BJP Members Arrested By Police for Planning Dacoity\n",
        "ISIS throws 'gay' men off tower, stones woman"
       ]
      },
      {
       "output_type": "stream",
       "stream": "stdout",
       "text": [
        "\n",
        "Police Want 15-Day Custody of US-Returned ISIS Sympathiser\n",
        "\n"
       ]
      },
      {
       "output_type": "stream",
       "stream": "stdout",
       "text": [
        "\n",
        "Late goal sends Iran to top of Group C in Asian Cup\n",
        "Argentine prosecutor who accused Fernandez of Iran plot found dead\n",
        "Gujarat-based engineer, stranded in Iran for 13 mths, returns"
       ]
      },
      {
       "output_type": "stream",
       "stream": "stdout",
       "text": [
        "\n",
        "\n"
       ]
      },
      {
       "output_type": "stream",
       "stream": "stdout",
       "text": [
        "\n",
        "HUL stock tank over 5%; loses Rs 10,739 cr in m-cap\n",
        "Atul Auto hits record high after good Q3 results\n",
        "Indiabulls Housing Finance Q3 profit rises 21% at Rs 478 crore"
       ]
      },
      {
       "output_type": "stream",
       "stream": "stdout",
       "text": [
        "\n",
        "Good Luck Steel Tubes posts 3-fold jump in Q3 profit\n",
        "Hindustan Unilever Q3 net up 17.87% at Rs 1,252 cr\n",
        "Mindtree Q3 profit rises 58.6%; buys solutions firm in US"
       ]
      },
      {
       "output_type": "stream",
       "stream": "stdout",
       "text": [
        "\n",
        "\n"
       ]
      },
      {
       "output_type": "stream",
       "stream": "stdout",
       "text": [
        "\n",
        "Bengal advance\n",
        "\n",
        "\n",
        "Meet Arvind Kejriwal's Rival, a London School of Economics Graduate"
       ]
      },
      {
       "output_type": "stream",
       "stream": "stdout",
       "text": [
        "\n",
        "Ex-MLA Rajesh Garg interrupts AAP meeting addressed by Ashutosh\n",
        "BJP Declares List of 62 Candidates For Delhi Assembly Polls\n",
        "BJP Fields Nupur Sharma Against Kejriwal"
       ]
      },
      {
       "output_type": "stream",
       "stream": "stdout",
       "text": [
        "\n",
        "Panel to plan vision document\n",
        "Sonia to Sing a RaGa-Priyanka Duet\n",
        "Dutta in white paper tit for tat"
       ]
      },
      {
       "output_type": "stream",
       "stream": "stdout",
       "text": [
        "\n",
        "BJP Parliamentary Board Meeting to be Held Monday\n",
        "Resentment stories exaggerated, BJP organised party: Kiran Bedi\n",
        "Kiran Bedi talks to Zee Media about her future plans to develop Delhi"
       ]
      },
      {
       "output_type": "stream",
       "stream": "stdout",
       "text": [
        "\n",
        "Former UPA Minister Krishna Tirath Joins BJP\n",
        "BJP slams BJD after Amit Shah?s failure to attack CM Patnaik\n",
        "BJP a sinking ship: Arvind Kejriwal"
       ]
      },
      {
       "output_type": "stream",
       "stream": "stdout",
       "text": [
        "\n",
        "Odisha Whispers\n",
        "\n"
       ]
      },
      {
       "output_type": "stream",
       "stream": "stdout",
       "text": [
        "\n",
        "CA Technologies Predicts Identity and Access Management Trends for 2015\n",
        "'Keema', 'papad' now English words\n",
        "Space for wider engagement"
       ]
      },
      {
       "output_type": "stream",
       "stream": "stdout",
       "text": [
        "\n",
        "Taj launches private label wines\n",
        "Hugh Laurie wishes Stephen Fry 'love and happiness'\n",
        "India look for fresh start against England after early stumble"
       ]
      },
      {
       "output_type": "stream",
       "stream": "stdout",
       "text": [
        "\n",
        "Pre-paid auto stand opened on K.R. Hospital premises\n",
        "Know your English - January 20, 2015\n",
        "Northeast students enjoy spicy bhelpuri on Mumbai beach, dinner with chief minister"
       ]
      },
      {
       "output_type": "stream",
       "stream": "stdout",
       "text": [
        "\n",
        "Animal hospital staff go on flash strike over pay hike\n",
        "ABVP target of college poll bullets\n",
        "\n"
       ]
      },
      {
       "output_type": "stream",
       "stream": "stdout",
       "text": [
        "\n",
        "Markets Likely to Stay Bullish, Q3 Results Eyed: Experts\n",
        "Markets Likely to Stay Bullish, Q3 Results Eyed: Experts\n",
        "\n"
       ]
      },
      {
       "output_type": "stream",
       "stream": "stdout",
       "text": [
        "\n",
        "Cricket too needs to introduce yellow, red cards: Crowe\n",
        "Martin Crowe slams 'thuggish' David Warner for spat with Rohit Sharma\n",
        "David Warner gets CA warning"
       ]
      },
      {
       "output_type": "stream",
       "stream": "stdout",
       "text": [
        "\n",
        "\n"
       ]
      },
      {
       "output_type": "stream",
       "stream": "stdout",
       "text": [
        "\n",
        "IBM unveils servers targeting eCommerce, mobile app economy\n",
        "IBM unveils powerful servers in India\n",
        "\n"
       ]
      },
      {
       "output_type": "stream",
       "stream": "stdout",
       "text": [
        "\n",
        "Two assaulted at toll gate\n",
        "Probal Ghosal joins Amar Ujala\n",
        "Bajaj Electricals delves into 'The Science of Light'"
       ]
      },
      {
       "output_type": "stream",
       "stream": "stdout",
       "text": [
        "\n",
        "Canada special forces clash with IS in Iraq: military\n",
        "India's love for cash costs $3.5 billion a year\n",
        "Spot rubber rules unchanged"
       ]
      },
      {
       "output_type": "stream",
       "stream": "stdout",
       "text": [
        "\n",
        "Oracle names former CIA director Leon Panetta to its board\n",
        "Intelligence report reveals Tehrik-e-Taliban infiltration as Centre dismisses links with Obama visit\n",
        "India asks UK: Tell Pak there is no good or bad terrorist"
       ]
      },
      {
       "output_type": "stream",
       "stream": "stdout",
       "text": [
        "\n",
        "Dinner reception was hosted by the Apeejay Stya and Svran Group in Delhi\n",
        "Michelle invites Indian doctor for State of the Union Address\n",
        "In Israel, Japan PM says committed to Mideast peace"
       ]
      },
      {
       "output_type": "stream",
       "stream": "stdout",
       "text": [
        "\n",
        "Uber CEO seeks fresh start for ride services in Europe\n",
        "Web exclusive: Will President Obama walk that extra mile?\n",
        "Seminar to be Held from Wednesday"
       ]
      },
      {
       "output_type": "stream",
       "stream": "stdout",
       "text": [
        "\n",
        "India to have strong presence at WEF's Davos meet\n",
        "Manchester City losing momentum sans Yaya Toure in Premier League\n",
        "Reignite the India magic at Davos"
       ]
      },
      {
       "output_type": "stream",
       "stream": "stdout",
       "text": [
        "\n",
        "Tactical change reaps reward for new-look, solid Arsenal\n",
        "Palakkad Dist Leads in School Arts Festival\n",
        "Police guidelines for bus owners"
       ]
      },
      {
       "output_type": "stream",
       "stream": "stdout",
       "text": [
        "\n",
        "Ranji: Karnataka to face Baroda in Mysuru\n",
        "DoP to set up NIPERs at Madurai, Ahmedabad, Hyderabad and Guwahati soon\n",
        "Ian: Watch out  for SA and India"
       ]
      },
      {
       "output_type": "stream",
       "stream": "stdout",
       "text": [
        "\n",
        "For President Obama, a Security Camera Every 180 metres on Delhi's Rajpath\n",
        "Australia weather bureau says models show low chance of El Nino\n",
        "30 designers to showcase at first India Beach Fashion Week"
       ]
      },
      {
       "output_type": "stream",
       "stream": "stdout",
       "text": [
        "\n",
        "Will Obama Overlook Beast Prowess?\n",
        "A stickler for time\n",
        "KSRTC nets record Sabarimala collection"
       ]
      },
      {
       "output_type": "stream",
       "stream": "stdout",
       "text": [
        "\n",
        "MNC India facilities hit by drug recalls\n",
        "IPA demands to upgrade minimum qualification of pharmacist from D.Pharm to B.Pharm\n",
        "Bangladesh journalist demands speedy trial of war criminals"
       ]
      },
      {
       "output_type": "stream",
       "stream": "stdout",
       "text": [
        "\n",
        "Industrialization, World War I, Soviet Collapse Helped Spread of Drug-resistant Tuberculosis\n",
        "Suspected Boko Haram fighters kidnap around 80 in Cameroon\n",
        "SCR trains cancelled, regulated and diverted"
       ]
      },
      {
       "output_type": "stream",
       "stream": "stdout",
       "text": [
        "\n",
        "Italian electrical accessories major enters India\n",
        "Axed England batsman Kevin Pietersen to forget 'rubbish cricket' post recovery from knee injury\n",
        "Nextdoor Nepal: To be secular or not to be"
       ]
      },
      {
       "output_type": "stream",
       "stream": "stdout",
       "text": [
        "\n",
        "Facebook hiring spree hints at ambitions in virtual reality\n",
        "Children Must Nurture Scientific Zeal: Ramesh\n",
        "China slams Japan on Arunachal Pradesh support"
       ]
      },
      {
       "output_type": "stream",
       "stream": "stdout",
       "text": [
        "\n",
        "Obama in India: Will he accept an invite to travel the ultra-luxury Maharajas' Express to Agra?\n",
        "Five children drown in AP\n",
        "Capturing memories with a click"
       ]
      },
      {
       "output_type": "stream",
       "stream": "stdout",
       "text": [
        "\n",
        "Tata-led Neotel takeover in SA under regulator scrutiny\n",
        "Snowden documents show UK spies stored journalists' emails - report\n",
        "Afghan refugees seek 5-month extension to stay in Pak"
       ]
      },
      {
       "output_type": "stream",
       "stream": "stdout",
       "text": [
        "\n",
        "Parivar faces on censor board\n",
        "UPA Politicised Censor Board, Not Us: Naidu\n",
        "Huge quantity of explosives seized in Jharkhand"
       ]
      },
      {
       "output_type": "stream",
       "stream": "stdout",
       "text": [
        "\n",
        "Obama May Address Top CEOs on January 26\n",
        "Rebel war hots up in mining, border areas\n",
        "Karnataka to gift Obama Channapatna toys"
       ]
      },
      {
       "output_type": "stream",
       "stream": "stdout",
       "text": [
        "\n",
        "Prime Minister Narendra Modi likely to visit Sri Lanka in March\n",
        "Indiaspora Dialogue to be Held During Obama's Visit to India\n",
        "Kerry to attend anti-IS coalition meeting in London"
       ]
      },
      {
       "output_type": "stream",
       "stream": "stdout",
       "text": [
        "\n",
        "China snubs Japan for calling Arunachal Pradesh part of India\n",
        "Pak Terror Group Planning Attack Before Obama Visit\n",
        "\n"
       ]
      },
      {
       "output_type": "stream",
       "stream": "stdout",
       "text": [
        "\n",
        "FM: Government has no Intention to Privatise Either Railways or Coal India\n",
        "\n",
        "\n",
        "Shashi Tharoor likely to be quizzed within next 48 hours: Delhi police commissioner"
       ]
      },
      {
       "output_type": "stream",
       "stream": "stdout",
       "text": [
        "\n",
        "Sunanda Pushkar's murder: Tharoor keeps calm, answers cops with smile\n",
        "Sunanda Pushkar murder case: Husband Shashi Tharoor being questioned by Delhi Police\n",
        "Sunanda Pushkar murder: Shashi Tharoor to be quizzed within next 48 hours, says Delhi Police chief"
       ]
      },
      {
       "output_type": "stream",
       "stream": "stdout",
       "text": [
        "\n",
        "Shashi Tharoor to be questioned by Wednesday\n",
        "\n"
       ]
      },
      {
       "output_type": "stream",
       "stream": "stdout",
       "text": [
        "\n",
        "Australian & NZ dollars near highs vs euro, resilient on US dollar\n",
        "Oil price plunge drags down Russian economy: EBRD bank\n",
        "ECB Faces Crucial Test of 'Whatever It Takes'"
       ]
      },
      {
       "output_type": "stream",
       "stream": "stdout",
       "text": [
        "\n",
        "Looking to European Central Bank to move the dial\n",
        "Sterling slips against euro with ECB action seen likely\n",
        "\n"
       ]
      },
      {
       "output_type": "stream",
       "stream": "stdout",
       "text": [
        "\n",
        "New drug may reverse diabetes symptoms\n",
        "\n",
        "\n",
        "Govt to reform urea policy; price hike not on cards now"
       ]
      },
      {
       "output_type": "stream",
       "stream": "stdout",
       "text": [
        "\n",
        "Govt to reform urea policy; price hike not on cards now\n",
        "\n"
       ]
      },
      {
       "output_type": "stream",
       "stream": "stdout",
       "text": [
        "\n",
        "VHP wants Centre to remove all UPA appointees\n",
        "Arson, fifth body, alovea angle keep the pot simmering in Muzaffarpur\n",
        "Media's 'desire to be an actor' in security ops under serious consideration: Arun Jaitley"
       ]
      },
      {
       "output_type": "stream",
       "stream": "stdout",
       "text": [
        "\n",
        "UPA sat on it, NDA plans to release areligious dataa of Census 2011\n",
        "H1N1 virus: Two more die of swine flu in Jamnagar\n",
        "M R Murali finds place in CPI (M) district committee in Kerala"
       ]
      },
      {
       "output_type": "stream",
       "stream": "stdout",
       "text": [
        "\n",
        "\n"
       ]
      },
      {
       "output_type": "stream",
       "stream": "stdout",
       "text": [
        "\n",
        "PTEN, the Tumor Suppressor protein, Puts a Break on Autoimmune Diseases\n",
        "Three Days of Fasting Re-Boots the Entire Immune System\n",
        "\n"
       ]
      },
      {
       "output_type": "stream",
       "stream": "stdout",
       "text": [
        "\n",
        "RIL to see upside upon $16 bn project completion: Analysts\n",
        "RIL to see upside upon $16 bn project completion\n",
        "\n"
       ]
      },
      {
       "output_type": "stream",
       "stream": "stdout",
       "text": [
        "\n",
        "Sony launches latest range of smart wearables in India\n",
        "Sony expands smartwear portfolio in India\n",
        "\n"
       ]
      },
      {
       "output_type": "stream",
       "stream": "stdout",
       "text": [
        "\n",
        "Three Burnt to Death as Mob Torch Houses in Bihar\n",
        "14 Arrested for Violence in Muzaffarpur, Security Tightened\n",
        "\n"
       ]
      },
      {
       "output_type": "stream",
       "stream": "stdout",
       "text": [
        "\n",
        "Fitness model George Plitt struck and killed by train in California\n",
        "Reality TV star Greg Plitt dies in train accident\n",
        "\n"
       ]
      },
      {
       "output_type": "stream",
       "stream": "stdout",
       "text": [
        "\n",
        "AAP-BJP clash fallout: Police bans TV debates in public spaces ahead of Delhi assembly polls\n",
        "Police bans TV debates in public spaces ahead of Delhi polls\n",
        "\n"
       ]
      },
      {
       "output_type": "stream",
       "stream": "stdout",
       "text": [
        "\n",
        "'Do not favour the idea of any concealed fiscal deficit': Arun Jaitley\n",
        "Jaitley: Budgetary proposals will be made transparent\n",
        "\n"
       ]
      },
      {
       "output_type": "stream",
       "stream": "stdout",
       "text": [
        "\n",
        "India's quarters venue is undecided\n",
        "World Cup 2015: ICC announces venues for knock-out stage\n",
        "\n"
       ]
      },
      {
       "output_type": "stream",
       "stream": "stdout",
       "text": [
        "\n",
        "ET Global Business Summit:  Digital India, Modi's Dream\n",
        "Prasad woos US businesses to invest in India in a big way\n",
        "\n"
       ]
      },
      {
       "output_type": "stream",
       "stream": "stdout",
       "text": [
        "\n",
        "Indian Spy's Role Alleged in Sri Lankan President's Election Defeat: Report\n",
        "Indian spy's role alleged in Mahinda's election defeat\n",
        "\n"
       ]
      },
      {
       "output_type": "stream",
       "stream": "stdout",
       "text": [
        "\n",
        "Road accidents claimed 490 lives in Cuddalore last year\n",
        "Over 1,500 take part in RTO's road safety rally\n",
        "\n"
       ]
      },
      {
       "output_type": "stream",
       "stream": "stdout",
       "text": [
        "\n",
        "Rationalise taxation to boost investment culture: BSE CEO\n",
        "Rationalise taxation to boost investment culture: BSE CEO\n",
        "\n"
       ]
      },
      {
       "output_type": "stream",
       "stream": "stdout",
       "text": [
        "\n",
        "Weekly tech picks: Sell Yes Bank Future\n",
        "Weekly momentum stock pick: Buy Escorts for a target of Rs148\n",
        "\n"
       ]
      },
      {
       "output_type": "stream",
       "stream": "stdout",
       "text": [
        "\n",
        "Protests against French magazine Charlie Hebdo staged in Chechnya, Russia\n",
        "Anti-Charlie Hebdo protesters burn French flag in Afghanistan\n",
        "Tens of thousands protest Charlie Hebdo in Russia's Caucasus"
       ]
      },
      {
       "output_type": "stream",
       "stream": "stdout",
       "text": [
        "\n",
        "\n"
       ]
      },
      {
       "output_type": "stream",
       "stream": "stdout",
       "text": [
        "\n",
        "Sensex closes above 28,000 for 2nd straight day, rises over 140 points\n",
        "Rupee down 6 paise against dollar\n",
        "Sensex Rises 145 Pts in Early Trade on Fund Inflows"
       ]
      },
      {
       "output_type": "stream",
       "stream": "stdout",
       "text": [
        "\n",
        "Sensex extends gains, surges by 112 points\n",
        "\n"
       ]
      },
      {
       "output_type": "stream",
       "stream": "stdout",
       "text": [
        "\n",
        "Soccer Camp Conducted\n",
        "\n",
        "\n",
        "Odisha Pitches For Iron Ore licence for POSCO"
       ]
      },
      {
       "output_type": "stream",
       "stream": "stdout",
       "text": [
        "\n",
        "Odisha may go to court over new mining law\n",
        "\n"
       ]
      },
      {
       "output_type": "stream",
       "stream": "stdout",
       "text": [
        "\n",
        "PSB staff to hold 4-day strike from Jan 21 on wage revision issue\n",
        "Four-Day Bank Strike Likely from Wednesday\n",
        "Bank employees to strike work from Jan 21"
       ]
      },
      {
       "output_type": "stream",
       "stream": "stdout",
       "text": [
        "\n",
        "\n"
       ]
      },
      {
       "output_type": "stream",
       "stream": "stdout",
       "text": [
        "\n",
        "When an Elephant Met the God of Death\n",
        "Centre Should be More Responsible: Arundhati\n",
        "Almost Famous"
       ]
      },
      {
       "output_type": "stream",
       "stream": "stdout",
       "text": [
        "\n",
        "Bahuroopi draws to an end\n",
        "\n"
       ]
      },
      {
       "output_type": "stream",
       "stream": "stdout",
       "text": [
        "\n",
        "Not a Single Congress Flag flew after Hacking\n",
        "How's the system of education is shaping our future thinkers?\n",
        "\n"
       ]
      },
      {
       "output_type": "stream",
       "stream": "stdout",
       "text": [
        "\n",
        "Jallikattu a western concept: Maneka\n",
        "\n",
        "\n",
        "Saudi Electricity Co says Q4 losses near-triple"
       ]
      },
      {
       "output_type": "stream",
       "stream": "stdout",
       "text": [
        "\n",
        "\n",
        "\n",
        "Any Progress is Hope for DeafBlind Students\n",
        "Innovative Learning at Anad LP School"
       ]
      },
      {
       "output_type": "stream",
       "stream": "stdout",
       "text": [
        "\n",
        "Down to the finishing line\n",
        "Visakha Valley student to take part in archery meet\n",
        "\n"
       ]
      },
      {
       "output_type": "stream",
       "stream": "stdout",
       "text": [
        "\n",
        "RBI asks banks to review minimum lending rate every quarter\n",
        "Oriental Bank of Commerce cuts fixed deposit rates by up to 0.50 per cent\n",
        "\n"
       ]
      },
      {
       "output_type": "stream",
       "stream": "stdout",
       "text": [
        "\n",
        "BellBrook Labs introduces high throughput screening assay for glycosyltransferases with TR-FRET readout\n",
        "\n",
        "\n",
        "Positives on equities; 20% FY16 earnings growth seen: DSP"
       ]
      },
      {
       "output_type": "stream",
       "stream": "stdout",
       "text": [
        "\n",
        "\n",
        "\n",
        "Long-term Blindness Much More Blinding\n",
        "Why blindness is so blinding"
       ]
      },
      {
       "output_type": "stream",
       "stream": "stdout",
       "text": [
        "\n",
        "\n",
        "\n",
        "Sebi cancels ING Mutual Fund registration"
       ]
      },
      {
       "output_type": "stream",
       "stream": "stdout",
       "text": [
        "\n",
        "\n",
        "\n",
        "Wheat down 0.4% on profit-booking, subdued demand\n",
        "Palmolein, soyabean oils up on global cues"
       ]
      },
      {
       "output_type": "stream",
       "stream": "stdout",
       "text": [
        "\n",
        "\n",
        "\n",
        "Letters: Across the board"
       ]
      },
      {
       "output_type": "stream",
       "stream": "stdout",
       "text": [
        "\n",
        "\n",
        "\n",
        "Fog disrupts rail traffic, 93 trains cancelled\n",
        "Fog hits train services, flights in Delhi"
       ]
      },
      {
       "output_type": "stream",
       "stream": "stdout",
       "text": [
        "\n",
        "\n",
        "\n",
        "Nilanjana S Roy: 'Please leave him alone' - Reading Perumal Murugan"
       ]
      },
      {
       "output_type": "stream",
       "stream": "stdout",
       "text": [
        "\n",
        "Writers Stand by Perumal Murugan\n",
        "\n"
       ]
      },
      {
       "output_type": "stream",
       "stream": "stdout",
       "text": [
        "\n",
        "Turmeric may hold key to treating Alzheimer's disease\n",
        "\n",
        "\n",
        "Doctors say cab rape survivor fought back"
       ]
      },
      {
       "output_type": "stream",
       "stream": "stdout",
       "text": [
        "\n",
        "Uber rape survivor 'escaped strangulation'\n",
        "\n"
       ]
      },
      {
       "output_type": "stream",
       "stream": "stdout",
       "text": [
        "\n",
        "Bipasha Basu's Alone earns just Rs 11 cr in first weekend\n",
        "\n",
        "\n",
        "Remembering K Ramanujam, the Man Behind the Brush"
       ]
      },
      {
       "output_type": "stream",
       "stream": "stdout",
       "text": [
        "\n",
        "The Life of Rama\n",
        "Bombay Jayashri to Sing at Fundraiser for Autistic Kids\n",
        "\n"
       ]
      },
      {
       "output_type": "stream",
       "stream": "stdout",
       "text": [
        "\n",
        "95 pc Coverage in Phase I of Pulse Polio Drive Across TN\n",
        "Karaikal achieves 101.98 p.c. coverage\n",
        "KCR Launches Pulse Polio"
       ]
      },
      {
       "output_type": "stream",
       "stream": "stdout",
       "text": [
        "\n",
        "\n"
       ]
      },
      {
       "output_type": "stream",
       "stream": "stdout",
       "text": [
        "\n",
        "RSS says it's not upset over Kiran Bedi joining BJP\n",
        "Bedi Refutes Congress Charges of Using Anna to Fulfil Ambitions\n",
        "\n"
       ]
      },
      {
       "output_type": "stream",
       "stream": "stdout",
       "text": [
        "\n",
        "Muthoot Finance gets service tax notice for Rs 153 crore\n",
        "Muthoot Finance gets service tax notice for Rs 153 crore\n",
        "\n"
       ]
      },
      {
       "output_type": "stream",
       "stream": "stdout",
       "text": [
        "\n",
        "President cautions govt against ordinance raj\n",
        "President on Parliament proceedings: Noisy minority cannot be allowed to gag a patient majority\n",
        "\n"
       ]
      },
      {
       "output_type": "stream",
       "stream": "stdout",
       "text": [
        "\n",
        "Oh for some plainspeaking!\n",
        "\n",
        "\n",
        "U.S. penetrated North Korean networks years ago - New York Times"
       ]
      },
      {
       "output_type": "stream",
       "stream": "stdout",
       "text": [
        "\n",
        "\n",
        "\n",
        "Parineeti Chopra Unveils two Mobile Apps for Real Estate\n",
        "CommVault Launches Endpoint Data Protection to Secure, Support and Back Up Mobile Enterprises"
       ]
      },
      {
       "output_type": "stream",
       "stream": "stdout",
       "text": [
        "\n",
        "\n",
        "\n",
        "KCR wants AP Express renamed"
       ]
      },
      {
       "output_type": "stream",
       "stream": "stdout",
       "text": [
        "\n",
        "Railways to form SPVs with all states: Suresh Prabhu\n",
        "\n"
       ]
      },
      {
       "output_type": "stream",
       "stream": "stdout",
       "text": [
        "\n",
        "Motorcycle rider robs 3 on Sinhagad Rd\n",
        "Robbers drop Rs 27 lakh after cop chase\n",
        "\n"
       ]
      },
      {
       "output_type": "stream",
       "stream": "stdout",
       "text": [
        "\n",
        "Air India pilot allegedly assaults ground engineer, de-rostered\n",
        "\n",
        "\n",
        "Varun Aaron included in 15-member Jharkhand Ranji squad"
       ]
      },
      {
       "output_type": "stream",
       "stream": "stdout",
       "text": [
        "\n",
        "\n",
        "\n",
        "WEF Founder Urges Unity Against 'Dangerous' Risks\n",
        "Wealthiest 1% to be richer than other 99%: Report"
       ]
      },
      {
       "output_type": "stream",
       "stream": "stdout",
       "text": [
        "\n",
        "\n",
        "\n",
        "Michael Moore lashes out at 'American Sniper'"
       ]
      },
      {
       "output_type": "stream",
       "stream": "stdout",
       "text": [
        "\n",
        "Mark Schultz apologises for criticising 'Foxcatcher'\n",
        "\n"
       ]
      },
      {
       "output_type": "stream",
       "stream": "stdout",
       "text": [
        "\n",
        "Francois Hollande's popularity soars after French jihadist attacks\n",
        "Belgium deploys troops after anti-terror sweep\n",
        "Anti-Muslim incidents soar in France in wake of Paris attacks"
       ]
      },
      {
       "output_type": "stream",
       "stream": "stdout",
       "text": [
        "\n",
        "\n"
       ]
      },
      {
       "output_type": "stream",
       "stream": "stdout",
       "text": [
        "\n",
        "Municipal corporation on mission 'dustbin'\n",
        "\n",
        "\n",
        "CIC issues notice to Sonia Gandhi for not responding to RTI plea"
       ]
      },
      {
       "output_type": "stream",
       "stream": "stdout",
       "text": [
        "\n",
        "Notice issued to Sonia Gandhi for not responding to RTI plea\n",
        "\n"
       ]
      },
      {
       "output_type": "stream",
       "stream": "stdout",
       "text": [
        "\n",
        "What happened to the Swiss franc? FXCM in emergency\n",
        "Credit Suisse to charge large companies for Swiss franc deposits\n",
        "\n"
       ]
      },
      {
       "output_type": "stream",
       "stream": "stdout",
       "text": [
        "\n",
        "Only Govt spending can kick start economy: HSBC report\n",
        "\n",
        "\n",
        "Water level in Periyar dam"
       ]
      },
      {
       "output_type": "stream",
       "stream": "stdout",
       "text": [
        "\n",
        "\n",
        "\n",
        "CCI order related to realty sector likely in 2-3 weeks: Chawla\n",
        "\n"
       ]
      },
      {
       "output_type": "stream",
       "stream": "stdout",
       "text": [
        "\n",
        "3 Injured as Bus Crashes into House\n",
        "Narrow escape for three in major accident\n",
        "\n"
       ]
      },
      {
       "output_type": "stream",
       "stream": "stdout",
       "text": [
        "\n",
        "AI announces cost-cutting measures\n",
        "Air India announces new plan to cut costs by Rs 1400 crore\n",
        "\n"
       ]
      },
      {
       "output_type": "stream",
       "stream": "stdout",
       "text": [
        "\n",
        "Pull Up Your Socks, CM Tells Officials\n",
        "\n",
        "\n",
        "Filming for 'Steve Jobs' begins at 'historic' garage where Apple was founded"
       ]
      },
      {
       "output_type": "stream",
       "stream": "stdout",
       "text": [
        "\n",
        "Ajay Devgn has no time for cameo in Aditya Roy Kapur-Katrina Kaif starrer 'Fitoor'?\n",
        "\n"
       ]
      },
      {
       "output_type": "stream",
       "stream": "stdout",
       "text": [
        "\n",
        "Religion without reform is terror\n",
        "Freedom of expression is never absolute\n",
        "\n"
       ]
      },
      {
       "output_type": "stream",
       "stream": "stdout",
       "text": [
        "\n",
        "13 suffer injuries due to rabid dog attack\n",
        "Dog-bite toll rises in Manipur\n",
        "\n"
       ]
      },
      {
       "output_type": "stream",
       "stream": "stdout",
       "text": [
        "\n",
        "Why Kerala Dalit Christians are Ghar Wapsi targets\n",
        "GEL Church on green mission\n",
        "\n"
       ]
      },
      {
       "output_type": "stream",
       "stream": "stdout",
       "text": [
        "\n",
        "Piramal to Invest US$ 40 Million\n",
        "\n",
        "\n",
        "From Rapunzel Locks to Crops"
       ]
      },
      {
       "output_type": "stream",
       "stream": "stdout",
       "text": [
        "\n",
        "\n",
        "\n",
        "European shares inch up early; Julius Baer bounces back\n",
        "ECB aims to preserve euro, faces crucial test"
       ]
      },
      {
       "output_type": "stream",
       "stream": "stdout",
       "text": [
        "\n",
        "Chinese shares plunge; Europe eyes crunch ECB meeting\n",
        "GLOBAL ECONOMY WEEKAHEAD - Looking to the ECB to move the dial\n",
        "\n"
       ]
      },
      {
       "output_type": "stream",
       "stream": "stdout",
       "text": [
        "\n",
        "CM flags off 2,387 vehicles for State police\n",
        "\n",
        "\n",
        "Hindustan Unilever cuts prices as thrifty shoppers hurt volumes"
       ]
      },
      {
       "output_type": "stream",
       "stream": "stdout",
       "text": [
        "\n",
        "\n",
        "\n",
        "Philippine plane following Pope Francis overshoots runway\n",
        "\n"
       ]
      },
      {
       "output_type": "stream",
       "stream": "stdout",
       "text": [
        "\n",
        "Act against forced conversions: AISF\n",
        "\n",
        "\n",
        "Ambulance drivers launch strike against privatisation"
       ]
      },
      {
       "output_type": "stream",
       "stream": "stdout",
       "text": [
        "\n",
        "\n",
        "\n",
        "Toddler's death: parents allege negligence\n",
        "\n"
       ]
      },
      {
       "output_type": "stream",
       "stream": "stdout",
       "text": [
        "\n",
        "Novo Nordisk unveils Ryzodeg dual insulin analogues with long acting & fewer injections\n",
        "\n",
        "\n",
        "Sanjay Dutt's furlough fuss prompts rule change"
       ]
      },
      {
       "output_type": "stream",
       "stream": "stdout",
       "text": [
        "\n",
        "\n",
        "\n",
        "Centre plans to rename Bombay, Madras High Courts\n",
        "\n"
       ]
      },
      {
       "output_type": "stream",
       "stream": "stdout",
       "text": [
        "\n",
        "An Intimate Insight Into a Controversial Poet\n",
        "\n"
       ]
      },
      {
       "output_type": "stream",
       "stream": "stdout",
       "text": [
        "\n",
        "For a mobile jolt, Microsoft looks at Windows 10\n",
        "\n",
        "\n",
        "goBalto releases latest version of study startup platform, goBalto Activate"
       ]
      },
      {
       "output_type": "stream",
       "stream": "stdout",
       "text": [
        "\n",
        "\n",
        "\n",
        "24-year-old suffers 95% burns in cylinder blast\n",
        "\n"
       ]
      },
      {
       "output_type": "stream",
       "stream": "stdout",
       "text": [
        "\n",
        "New application lets your smartphone aid cancer, Alzheimer's research\n",
        "\n",
        "\n",
        "HC to begin trial in Syedna succession row on February18"
       ]
      },
      {
       "output_type": "stream",
       "stream": "stdout",
       "text": [
        "\n",
        "\n",
        "\n",
        "Bizman, Engineer End Lives\n",
        "Financial Aid Distributed"
       ]
      },
      {
       "output_type": "stream",
       "stream": "stdout",
       "text": [
        "\n",
        "UoH Develops Aircraft Component\n",
        "Date Extended for Land Regularisation\n",
        "Students of Vagdevi Vilas School Bag Award"
       ]
      },
      {
       "output_type": "stream",
       "stream": "stdout",
       "text": [
        "\n",
        "KMML Bags Award\n",
        "Friends Allege Foul Play in 22-year-old's Death\n",
        "Dies in Mishap"
       ]
      },
      {
       "output_type": "stream",
       "stream": "stdout",
       "text": [
        "\n",
        "Do You Have a Story to Share?\n",
        "IED Found in Badgam District\n",
        "\n"
       ]
      },
      {
       "output_type": "stream",
       "stream": "stdout",
       "text": [
        "\n",
        "NGT imposes ban on road parking, fine of Rs 1,000\n",
        "\n",
        "\n",
        "Plea in Delhi High Court seeking facilities for pregnant women in shelters"
       ]
      },
      {
       "output_type": "stream",
       "stream": "stdout",
       "text": [
        "\n",
        "\n",
        "\n",
        "Noted Cartoonist R K Laxman Critical, Says Hospital\n",
        "\n"
       ]
      },
      {
       "output_type": "stream",
       "stream": "stdout",
       "text": [
        "\n",
        "Kochi All Set to Run to its Heart's Content Along With State\n",
        "Dist All Set for 'Run Kerala Run'\n",
        "\n"
       ]
      },
      {
       "output_type": "stream",
       "stream": "stdout",
       "text": [
        "\n",
        "Government bans mobile handsets with fake, duplicate identity numbers\n",
        "\n",
        "\n",
        "Reliance Industries reopens fuel stations"
       ]
      },
      {
       "output_type": "stream",
       "stream": "stdout",
       "text": [
        "\n",
        "\n",
        "\n",
        "A stroll in the park for  Federer and Sharapova\n",
        "Roger Federer and Maria Sharapova shine at Australian Open after seeds scattered"
       ]
      },
      {
       "output_type": "stream",
       "stream": "stdout",
       "text": [
        "\n",
        "\n",
        "\n",
        "India and US agree to collaborate on Digital India initiative"
       ]
      },
      {
       "output_type": "stream",
       "stream": "stdout",
       "text": [
        "\n",
        "\n",
        "\n",
        "India does not need to be hawkish on Pakistan, Kiren Rijiju says\n",
        "\n"
       ]
      },
      {
       "output_type": "stream",
       "stream": "stdout",
       "text": [
        "\n",
        "India does not need to adopt hawkish foreign policy: Kiren  Rijiju\n",
        "Pakistani players should play in Hockey India League: Sardar Singh\n",
        "\n"
       ]
      },
      {
       "output_type": "stream",
       "stream": "stdout",
       "text": [
        "\n",
        "12,918 Smart Villages in Five Years: Naidu\n",
        "Machilipatnam MP promises better infrastructure in villages\n",
        "\n"
       ]
      },
      {
       "output_type": "stream",
       "stream": "stdout",
       "text": [
        "\n",
        "Every Child Has Right to Take Advantage of All Facilities\n",
        "\n",
        "\n",
        "Kharge wonders about conversion conundrum"
       ]
      },
      {
       "output_type": "stream",
       "stream": "stdout",
       "text": [
        "\n",
        "\n",
        "\n",
        "A Mystique That is Life\n",
        "\n"
       ]
      },
      {
       "output_type": "stream",
       "stream": "stdout",
       "text": [
        "\n",
        "Official in the Dock for Raising Questions\n",
        "'Hold NH-17 plans till MoEF Karnala decision'\n",
        "\n"
       ]
      },
      {
       "output_type": "stream",
       "stream": "stdout",
       "text": [
        "\n",
        "Amber Rose says family missed wedding to Wiz Khalifa because of his 'race'\n",
        "\n",
        "\n",
        "Hezbollah supporters bury prominent member killed in an airstrike in Syria"
       ]
      },
      {
       "output_type": "stream",
       "stream": "stdout",
       "text": [
        "\n",
        "Hezbollah gears for funeral as Iran condemns Israel strike\n",
        "\n"
       ]
      },
      {
       "output_type": "stream",
       "stream": "stdout",
       "text": [
        "\n",
        "bl19_ndanm_toilets\n",
        "\n",
        "\n",
        "X-Rays help farmers boost yields, cut pollution"
       ]
      },
      {
       "output_type": "stream",
       "stream": "stdout",
       "text": [
        "\n",
        "\n",
        "\n",
        "Plan B for Obama: Reach Taj by unspecified road\n",
        "\n"
       ]
      },
      {
       "output_type": "stream",
       "stream": "stdout",
       "text": [
        "\n",
        "Western Railway services disrupted\n",
        "\n",
        "\n",
        "Prefer Sintex Industries: Sudarshan Sukhani"
       ]
      },
      {
       "output_type": "stream",
       "stream": "stdout",
       "text": [
        "\n",
        "Buy Lupin, Mindtree, Tata Motors DVR: Sudarshan Sukhani\n",
        "\n"
       ]
      },
      {
       "output_type": "stream",
       "stream": "stdout",
       "text": [
        "\n",
        "Ramky Infrastructure, Barbrik Projects get 61-km road project worth Rs 210 crore in Chhattisgarh\n",
        "\n",
        "\n",
        "Two unknown dwarf planets beyond Pluto: Study"
       ]
      },
      {
       "output_type": "stream",
       "stream": "stdout",
       "text": [
        "\n",
        "\n",
        "\n",
        "TAPMI fest 'Atharva' from Saturday\n",
        "\n"
       ]
      },
      {
       "output_type": "stream",
       "stream": "stdout",
       "text": [
        "\n",
        "Major task before NITI Aayog is to actively monitor and evaluate implementation of programmes\n",
        "\n",
        "\n",
        "Fiscal deficit biggest worry for Indian economy right now: Mythili Bhusnurmath"
       ]
      },
      {
       "output_type": "stream",
       "stream": "stdout",
       "text": [
        "\n",
        "\n",
        "\n",
        "AB de Villiers hits fastest one day century\n",
        "\n"
       ]
      },
      {
       "output_type": "stream",
       "stream": "stdout",
       "text": [
        "\n",
        "Burglars decamp with cash, jewellery in Seethammadhara\n",
        "\n",
        "\n",
        "Suriya bags all-India remake rights of 'How Old Are You'"
       ]
      },
      {
       "output_type": "stream",
       "stream": "stdout",
       "text": [
        "\n",
        "\n",
        "\n",
        "Sporting beats Rio Ave 4-2 in Portuguese league\n",
        "\n"
       ]
      },
      {
       "output_type": "stream",
       "stream": "stdout",
       "text": [
        "\n",
        "Kansai Nerolac to enter Sri Lanka\n",
        "\n",
        "\n",
        "Supernus sues Par Pharma for infringement of Trokendi XR patents"
       ]
      },
      {
       "output_type": "stream",
       "stream": "stdout",
       "text": [
        "\n",
        "\n",
        "\n",
        "Truck lay-by-bay as part of NH-44 package gets under way\n",
        "\n"
       ]
      },
      {
       "output_type": "stream",
       "stream": "stdout",
       "text": [
        "\n",
        "Ahead of Footprints X5, girl students get self-defence training\n",
        "\n",
        "\n",
        "Khap mahapanchayat to take up Beti Bachao, Beti Padhao campaign"
       ]
      },
      {
       "output_type": "stream",
       "stream": "stdout",
       "text": [
        "\n",
        "\n",
        "\n",
        "Fighting shakes Yemen capital as Houthis accused of coup\n",
        "\n"
       ]
      },
      {
       "output_type": "stream",
       "stream": "stdout",
       "text": [
        "\n",
        "A guru who is part of the fete's Thullal lore\n",
        "\n",
        "\n",
        "Transcending the Mind's Limitations"
       ]
      },
      {
       "output_type": "stream",
       "stream": "stdout",
       "text": [
        "\n",
        "\n",
        "\n",
        "Training young blood\n",
        "\n"
       ]
      },
      {
       "output_type": "stream",
       "stream": "stdout",
       "text": [
        "\n",
        "Pakistani on suspect passport sparks easyJet alarm in Rome\n",
        "\n",
        "\n",
        "All out for just 9 runs"
       ]
      },
      {
       "output_type": "stream",
       "stream": "stdout",
       "text": [
        "\n",
        "\n",
        "\n",
        "Coal scam: Working of PMO officials not above board, says Court\n",
        "\n"
       ]
      },
      {
       "output_type": "stream",
       "stream": "stdout",
       "text": [
        "\n",
        "Sedition charge: HC seeks to know state guidelines\n",
        "\n",
        "\n",
        "RSP institutes Shree Shakti award to promote women SHGs"
       ]
      },
      {
       "output_type": "stream",
       "stream": "stdout",
       "text": [
        "\n",
        "\n",
        "\n",
        "Sensex, Nifty clock gains; ICICI Bank, RIL shine\n",
        "Early birds canat catch worm, Q3 results tepid"
       ]
      },
      {
       "output_type": "stream",
       "stream": "stdout",
       "text": [
        "\n",
        "Weekly Market Wrap: Underlying trend remains firmly up\n",
        "Sensex up 140 points on fund inflows; wipro, bank stocks gain\n",
        "Sensex ends up 0.5%; Nifty near 1-1/2-month high"
       ]
      },
      {
       "output_type": "stream",
       "stream": "stdout",
       "text": [
        "\n",
        "Prefer Tech Mahindra over Wipro: Vishal Malkan\n",
        "\n"
       ]
      },
      {
       "output_type": "stream",
       "stream": "stdout",
       "text": [
        "\n",
        "German FM, industry representatives discuss Make in India\n",
        "\n"
       ]
      },
      {
       "output_type": "stream",
       "stream": "stdout",
       "text": [
        "\n",
        "Has Kim Kardashian ended feud with Beyonce?\n",
        "\n"
       ]
      },
      {
       "output_type": "stream",
       "stream": "stdout",
       "text": [
        "\n",
        "Only 2 percent of tennis pros earn profit\n",
        "\n"
       ]
      },
      {
       "output_type": "stream",
       "stream": "stdout",
       "text": [
        "\n",
        "TDP remembers NTR fondly\n",
        "\n",
        "\n",
        "`Haryana govt's affordable homes for middle segment buyers'"
       ]
      },
      {
       "output_type": "stream",
       "stream": "stdout",
       "text": [
        "\n",
        "\n",
        "\n",
        "Eurocor GmbH gets CE Mark for E-Magic PlusM Sirolimus eluting coronary stent system\n",
        "\n"
       ]
      },
      {
       "output_type": "stream",
       "stream": "stdout",
       "text": [
        "\n",
        "Rohit Sharma said something in Hindi, I said 'speak in English': David Warner after fine for verbal spat\n",
        "Warner defends 'speak English' call to Rohit Sharma\n",
        "\n"
       ]
      },
      {
       "output_type": "stream",
       "stream": "stdout",
       "text": [
        "\n",
        "24 million Twitter users never tweet\n",
        "\n",
        "\n",
        "DM circle rate can't be changed arbitrarily: HC"
       ]
      },
      {
       "output_type": "stream",
       "stream": "stdout",
       "text": [
        "\n",
        "\n",
        "\n",
        "Good response to food fest\n",
        "Magic Flavours from Pind"
       ]
      },
      {
       "output_type": "stream",
       "stream": "stdout",
       "text": [
        "\n",
        "\n",
        "\n",
        "India's holding of US bonds at 1-year high of $80.5 bn in November"
       ]
      },
      {
       "output_type": "stream",
       "stream": "stdout",
       "text": [
        "\n",
        "'HDFC Bank among world's 50 most valued banks in 2014'\n",
        "\n"
       ]
      },
      {
       "output_type": "stream",
       "stream": "stdout",
       "text": [
        "\n",
        "Pundits better than US observatory: Rajnath Singh\n",
        "\n",
        "\n",
        "Ansel Elgort back with girlfriend"
       ]
      },
      {
       "output_type": "stream",
       "stream": "stdout",
       "text": [
        "\n",
        "\n",
        "\n",
        "Wipro shares surge nearly 8 pct post Q3 earnings\n",
        "Wipro surges after strong December-quarter earnings"
       ]
      },
      {
       "output_type": "stream",
       "stream": "stdout",
       "text": [
        "\n",
        "\n",
        "\n",
        "Pepper slides as arrivals rise"
       ]
      },
      {
       "output_type": "stream",
       "stream": "stdout",
       "text": [
        "\n",
        "\n",
        "\n",
        "Climate change: Narendra Modi calls for extending focus to new areas\n",
        "\n"
       ]
      },
      {
       "output_type": "stream",
       "stream": "stdout",
       "text": [
        "\n",
        "Illegal riverbed mining causing loss in crores\n",
        "\n",
        "\n",
        "Patna varsity central library sans a regular librarian"
       ]
      },
      {
       "output_type": "stream",
       "stream": "stdout",
       "text": [
        "\n",
        "\n",
        "\n",
        "Steps in building sink during Metro Rail work\n",
        "\n"
       ]
      },
      {
       "output_type": "stream",
       "stream": "stdout",
       "text": [
        "\n",
        "PM-scheme conman's aide lands in net\n",
        "\n",
        "\n",
        "Cong gears up to take on Kejri, BJP on social media"
       ]
      },
      {
       "output_type": "stream",
       "stream": "stdout",
       "text": [
        "\n",
        "Kejriwal asks Delhiites to Take Bribe from BJP, Cong, but Vote for AAP\n",
        "Hashtags to be weapons in BJPas social media war on AAP\n",
        "'Too dangerous' to vote AAP to power: Congress"
       ]
      },
      {
       "output_type": "stream",
       "stream": "stdout",
       "text": [
        "\n",
        "City youngsters can't wait to get inked for the first time\n",
        "\n"
       ]
      },
      {
       "output_type": "stream",
       "stream": "stdout",
       "text": [
        "\n",
        "Be Sensitive to South on Linguistic Matters\n",
        "\n",
        "\n",
        "Pay Power Bill Arrears: KTR to Panchayats"
       ]
      },
      {
       "output_type": "stream",
       "stream": "stdout",
       "text": [
        "\n",
        "\n",
        "\n",
        "Copper in London Advances Before China Economic Data\n",
        "Nikkei rises to 1-1/2 week high on China relief, ECB hopes"
       ]
      },
      {
       "output_type": "stream",
       "stream": "stdout",
       "text": [
        "\n",
        "China stocks plunge after crackdown on credit products, margin trading\n",
        "\n"
       ]
      },
      {
       "output_type": "stream",
       "stream": "stdout",
       "text": [
        "\n",
        "Young people plant saplings\n",
        "\n",
        "\n",
        "Checkout why IBI names Deepak Parekh as one of its icons"
       ]
      },
      {
       "output_type": "stream",
       "stream": "stdout",
       "text": [
        "\n",
        "\n",
        "\n",
        "Woman, minor raped\n",
        "\n"
       ]
      },
      {
       "output_type": "stream",
       "stream": "stdout",
       "text": [
        "\n",
        "Fishermen stage protest against govt\n",
        "\n",
        "\n",
        "Surviving Love"
       ]
      },
      {
       "output_type": "stream",
       "stream": "stdout",
       "text": [
        "\n",
        "\n",
        "\n",
        "Man Dies of Camel Bite in Ahmedabad\n",
        "\n"
       ]
      },
      {
       "output_type": "stream",
       "stream": "stdout",
       "text": [
        "\n",
        "Stepathlon donates Rs. 10 lakh to Narayana to perform cardiac surgeries for underprivileged\n",
        "\n",
        "\n",
        "When 'token of love' becomes a concern"
       ]
      },
      {
       "output_type": "stream",
       "stream": "stdout",
       "text": [
        "\n",
        "\n",
        "\n",
        "Now 'Dharm Sansad' targets Sai Baba idols, Aamir Khan's PK\n",
        "VHP's Pravin Togadia: Re-conversion to continue till Centre bans it"
       ]
      },
      {
       "output_type": "stream",
       "stream": "stdout",
       "text": [
        "\n",
        "\n",
        "\n",
        "Kenyan police fire tear gas at children's playground protest"
       ]
      },
      {
       "output_type": "stream",
       "stream": "stdout",
       "text": [
        "\n",
        "\n",
        "\n",
        "Free gold disbursed\n",
        "\n"
       ]
      },
      {
       "output_type": "stream",
       "stream": "stdout",
       "text": [
        "\n",
        "'India may seek other suppliers for drones'\n",
        "\n",
        "\n",
        "Govt role is to facilitate business: Piyush Goyal"
       ]
      },
      {
       "output_type": "stream",
       "stream": "stdout",
       "text": [
        "\n",
        "\n",
        "\n",
        "Driving the US President Barack Obama tax plan: The great wage slowdown\n",
        "\n"
       ]
      },
      {
       "output_type": "stream",
       "stream": "stdout",
       "text": [
        "\n",
        "Gaza jihadist supporters rally against France, praise Islamic State\n",
        "Images of Thane youth who joined IS surface on the internet\n",
        "\n"
       ]
      },
      {
       "output_type": "stream",
       "stream": "stdout",
       "text": [
        "\n",
        "'The X-Files' getting a reboot\n",
        "\n",
        "\n",
        "Punjab govt bans screening of 'Messenger of God'"
       ]
      },
      {
       "output_type": "stream",
       "stream": "stdout",
       "text": [
        "\n",
        "\n",
        "\n",
        "Income tax dept launches complaint cell\n",
        "\n"
       ]
      },
      {
       "output_type": "stream",
       "stream": "stdout",
       "text": [
        "\n",
        "Market set for new highs\n",
        "\n",
        "\n",
        "Freedonia study shows world bulk packaging demand to exceed $59 bn in 2018"
       ]
      },
      {
       "output_type": "stream",
       "stream": "stdout",
       "text": [
        "\n",
        "\n",
        "\n",
        "It was necessary to intercept Pakistani boat at distance: Manohar Parrikar\n",
        "\n"
       ]
      },
      {
       "output_type": "stream",
       "stream": "stdout",
       "text": [
        "\n",
        "Krishna Tirath joins BJP, takes Congress by surprise\n",
        "\n",
        "\n",
        "Mukul Evades CBI Again; Didi Kin Next in Line"
       ]
      },
      {
       "output_type": "stream",
       "stream": "stdout",
       "text": [
        "\n",
        "Chopper deal: Will verify process to summon foreigners, says ED\n",
        "RS MP's Family Locker Searched\n",
        "\n"
       ]
      },
      {
       "output_type": "stream",
       "stream": "stdout",
       "text": [
        "\n",
        "Skilling them for success\n",
        "\n",
        "\n",
        "Teen kills himself with father's rifle"
       ]
      },
      {
       "output_type": "stream",
       "stream": "stdout",
       "text": [
        "\n",
        "\n",
        "\n",
        "ASI shoots self\n",
        "\n"
       ]
      },
      {
       "output_type": "stream",
       "stream": "stdout",
       "text": [
        "\n",
        "Despite dissent, Gurmeet Ram Rahim Singh is hopeful of MSG's release\n",
        "\n",
        "\n",
        "BJP takes a dig at TRS government"
       ]
      },
      {
       "output_type": "stream",
       "stream": "stdout",
       "text": [
        "\n",
        "\n",
        "\n",
        "Doctor in Salman case seeks police protection\n"
       ]
      }
     ],
     "prompt_number": 14
    },
    {
     "cell_type": "code",
     "collapsed": false,
     "input": [
      "#Scoring\n",
      "knownClusters={}\n",
      "for i in range(storyId.count()):\n",
      "    try:\n",
      "        knownClusters[storyPriority[i]].append(storyId[i])\n",
      "        knownClusters[storyPriority[i]].append(storyPriority[i])        \n",
      "    except:\n",
      "        knownClusters.setdefault(storyPriority[i], [storyId[i]])   \n",
      "    try:\n",
      "        knownClusters[storyId[i]]\n",
      "    except:\n",
      "        knownClusters.setdefault(storyId[i], [storyId[i]])  \n",
      "\"\"\"\n",
      "for i in range(storyId.count()):\n",
      "    if(len(knownClusters[storyPriority[i]])>1):\n",
      "        try:\n",
      "            print(storyPriority[i], knownClusters[storyPriority[i]])\n",
      "        except:\n",
      "            print(\"error\")     \n",
      "\"\"\""
     ],
     "language": "python",
     "metadata": {},
     "outputs": [
      {
       "metadata": {},
       "output_type": "pyout",
       "prompt_number": 6,
       "text": [
        "'\\nfor i in range(storyId.count()):\\n    if(len(clustered[storyId[i]])>1):\\n        try:\\n            print(clustered[storyId[i]])\\n        except:\\n            print(\"error\")\\n'"
       ]
      }
     ],
     "prompt_number": 6
    },
    {
     "cell_type": "code",
     "collapsed": false,
     "input": [
      "#compare new algo with the existing"
     ],
     "language": "python",
     "metadata": {},
     "outputs": []
    },
    {
     "cell_type": "code",
     "collapsed": false,
     "input": [
      "l =0\n",
      "m=0\n",
      "for i in range(storyId.count()):\n",
      "    if(len(knownClusters[storyId[i]])>1):\n",
      "        print(\"%s\\t%s\\t\\t\\t\\t%s\" %(storyPriority[i], set(knownClusters[storyPriority[i]]), clustered[storyPriority[i]]))            \n",
      "        if(set(knownClusters[storyPriority[i]]).issubset(set(clustered[storyPriority[i]]))):\n",
      "            l+=1\n",
      "        else:\n",
      "            m+=1\n",
      "print(l)\n",
      "print(m)\n"
     ],
     "language": "python",
     "metadata": {},
     "outputs": [
      {
       "ename": "KeyError",
       "evalue": "43889030",
       "output_type": "pyerr",
       "traceback": [
        "\u001b[1;31m---------------------------------------------------------------------------\u001b[0m\n\u001b[1;31mKeyError\u001b[0m                                  Traceback (most recent call last)",
        "\u001b[1;32m<ipython-input-8-411e88a876b8>\u001b[0m in \u001b[0;36m<module>\u001b[1;34m()\u001b[0m\n\u001b[0;32m      3\u001b[0m \u001b[1;32mfor\u001b[0m \u001b[0mi\u001b[0m \u001b[1;32min\u001b[0m \u001b[0mrange\u001b[0m\u001b[1;33m(\u001b[0m\u001b[0mstoryId\u001b[0m\u001b[1;33m.\u001b[0m\u001b[0mcount\u001b[0m\u001b[1;33m(\u001b[0m\u001b[1;33m)\u001b[0m\u001b[1;33m)\u001b[0m\u001b[1;33m:\u001b[0m\u001b[1;33m\u001b[0m\u001b[0m\n\u001b[0;32m      4\u001b[0m     \u001b[1;32mif\u001b[0m\u001b[1;33m(\u001b[0m\u001b[0mlen\u001b[0m\u001b[1;33m(\u001b[0m\u001b[0mknownClusters\u001b[0m\u001b[1;33m[\u001b[0m\u001b[0mstoryId\u001b[0m\u001b[1;33m[\u001b[0m\u001b[0mi\u001b[0m\u001b[1;33m]\u001b[0m\u001b[1;33m]\u001b[0m\u001b[1;33m)\u001b[0m\u001b[1;33m>\u001b[0m\u001b[1;36m1\u001b[0m\u001b[1;33m)\u001b[0m\u001b[1;33m:\u001b[0m\u001b[1;33m\u001b[0m\u001b[0m\n\u001b[1;32m----> 5\u001b[1;33m         \u001b[1;32mprint\u001b[0m\u001b[1;33m(\u001b[0m\u001b[1;34m\"%s\\t%s\\t\\t\\t\\t%s\"\u001b[0m \u001b[1;33m%\u001b[0m\u001b[1;33m(\u001b[0m\u001b[0mstoryPriority\u001b[0m\u001b[1;33m[\u001b[0m\u001b[0mi\u001b[0m\u001b[1;33m]\u001b[0m\u001b[1;33m,\u001b[0m \u001b[0mset\u001b[0m\u001b[1;33m(\u001b[0m\u001b[0mknownClusters\u001b[0m\u001b[1;33m[\u001b[0m\u001b[0mstoryPriority\u001b[0m\u001b[1;33m[\u001b[0m\u001b[0mi\u001b[0m\u001b[1;33m]\u001b[0m\u001b[1;33m]\u001b[0m\u001b[1;33m)\u001b[0m\u001b[1;33m,\u001b[0m \u001b[0mclustered\u001b[0m\u001b[1;33m[\u001b[0m\u001b[0mstoryPriority\u001b[0m\u001b[1;33m[\u001b[0m\u001b[0mi\u001b[0m\u001b[1;33m]\u001b[0m\u001b[1;33m]\u001b[0m\u001b[1;33m)\u001b[0m\u001b[1;33m)\u001b[0m\u001b[1;33m\u001b[0m\u001b[0m\n\u001b[0m\u001b[0;32m      6\u001b[0m         \u001b[1;32mif\u001b[0m\u001b[1;33m(\u001b[0m\u001b[0mset\u001b[0m\u001b[1;33m(\u001b[0m\u001b[0mknownClusters\u001b[0m\u001b[1;33m[\u001b[0m\u001b[0mstoryPriority\u001b[0m\u001b[1;33m[\u001b[0m\u001b[0mi\u001b[0m\u001b[1;33m]\u001b[0m\u001b[1;33m]\u001b[0m\u001b[1;33m)\u001b[0m\u001b[1;33m.\u001b[0m\u001b[0missubset\u001b[0m\u001b[1;33m(\u001b[0m\u001b[0mset\u001b[0m\u001b[1;33m(\u001b[0m\u001b[0mclustered\u001b[0m\u001b[1;33m[\u001b[0m\u001b[0mstoryPriority\u001b[0m\u001b[1;33m[\u001b[0m\u001b[0mi\u001b[0m\u001b[1;33m]\u001b[0m\u001b[1;33m]\u001b[0m\u001b[1;33m)\u001b[0m\u001b[1;33m)\u001b[0m\u001b[1;33m)\u001b[0m\u001b[1;33m:\u001b[0m\u001b[1;33m\u001b[0m\u001b[0m\n\u001b[0;32m      7\u001b[0m             \u001b[0ml\u001b[0m\u001b[1;33m+=\u001b[0m\u001b[1;36m1\u001b[0m\u001b[1;33m\u001b[0m\u001b[0m\n",
        "\u001b[1;31mKeyError\u001b[0m: 43889030"
       ]
      }
     ],
     "prompt_number": 8
    },
    {
     "cell_type": "code",
     "collapsed": false,
     "input": [
      "c={}\n",
      "c.setdefault('all', [])\n",
      "l=0\n",
      "a = storyPriority\n",
      "b = storyTitle\n",
      "for i in range(storyTitle.count()):\n",
      "    try:\n",
      "        c[a[i]].append(b[i])\n",
      "    except:\n",
      "        c.setdefault(a[i], [b[i]])\n",
      "\n",
      "for i in range(len(a)):\n",
      "    if(len(c[a[i]])>1):\n",
      "        c['all'].append(a[i])\n",
      "len(set(c['all']))"
     ],
     "language": "python",
     "metadata": {},
     "outputs": []
    },
    {
     "cell_type": "code",
     "collapsed": false,
     "input": [
      "Entry.objects.update(duplicate_of=None)\n",
      "for k in np.unique(km.labels_):\n",
      "    if(not math.isnan(k)):\n",
      "        members = np.where(km.labels_ == k) \n",
      "    if k == -1:\n",
      "        #print(\"outliers:\")\n",
      "        continue   \n",
      "    else:\n",
      "        pass\n",
      "    largest = 0\n",
      "    score = 0\n",
      "    for it in members[0]:\n",
      "        p = Entry.objects.get(id=storyId[it]) \n",
      "        #score += (6-Entry.intra_publication_status_precedence.index(p.status))/float(6)   #intra_publication_status_precedence\n",
      "        score += (((datetime.now() - p.created_on).total_seconds() // 3600)-190)/24 # Weight for story age\n",
      "        score += 10*min(d[it])\n",
      "        #print(score, p.id)\n",
      "        o = Entry.objects.order_by(\"-approved_on\").filter(id=storyId[it]).update(score=score)    \n",
      "        if(score>largest):\n",
      "            largest=score\n",
      "            root = Entry.objects.get(id=storyId[it])\n",
      "            root.duplicate_of=None\n",
      "            root.save()\n",
      "    for it in members[0]:\n",
      "        p = Entry.objects.get(id=storyId[it]) \n",
      "        if (p!=root):\n",
      "            p.duplicate_of=root\n",
      "            p.status = root.status\n",
      "            p.priority = root.priority\n",
      "            if (p.approved_by_id is None or p.approved_by_id == settings.SYSTEM_ADMIN_USER_ID) and p.status in [2, -1, 5, 6]:\n",
      "                p.approved_on = datetime.now()\n",
      "                p.approved_by_id = settings.SYSTEM_ADMIN_USER_ID\n",
      "            p.primary_topic_id = root.primary_topic_id\n",
      "            p.primary_industry_id = root.primary_industry_id\n",
      "            p.copy_tags_and_sentiment_from(root, copyOnlySemanticTags=True)\n",
      "            p.save(doNotSaveDuplicateChildren=True)"
     ],
     "language": "python",
     "metadata": {},
     "outputs": [],
     "prompt_number": 24
    }
   ],
   "metadata": {}
  }
 ]
}