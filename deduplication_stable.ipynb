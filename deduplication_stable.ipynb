{
 "metadata": {
  "name": ""
 },
 "nbformat": 3,
 "nbformat_minor": 0,
 "worksheets": [
  {
   "cells": [
    {
     "cell_type": "code",
     "collapsed": false,
     "input": [
      "from __future__ import print_function\n",
      "import os, sys\n",
      "from time import time\n",
      "os.environ.setdefault(\"DJANGO_SETTINGS_MODULE\", \"web.settings\")\n",
      "sys.path.append('/vagrant/')\n",
      "sys.path.append('/vagrant/contify-banking')\n",
      "\n",
      "from brief.models import Brief  \n",
      "from entry.models import Entry\n",
      "from django.core.management.base import BaseCommand\n",
      "\n",
      "from sklearn.datasets import fetch_20newsgroups\n",
      "from sklearn.decomposition import TruncatedSVD\n",
      "from sklearn.feature_extraction.text import TfidfVectorizer, TfidfTransformer, HashingVectorizer\n",
      "from sklearn.pipeline import make_pipeline\n",
      "from sklearn.preprocessing import Normalizer\n",
      "from sklearn import metrics\n",
      "from sklearn.cluster import KMeans, MiniBatchKMeans\n",
      "import logging\n",
      "from optparse import OptionParser\n",
      "from time import time\n",
      "import numpy as np\n",
      "import pandas as pd\n",
      "from random import random\n",
      "import nltk\n",
      "import math\n",
      "from optparse import make_option           \n",
      "from datetime import datetime, timedelta"
     ],
     "language": "python",
     "metadata": {},
     "outputs": [],
     "prompt_number": 2
    },
    {
     "cell_type": "code",
     "collapsed": false,
     "input": [
      "t0= time()\n",
      "discardedStories = 0\n",
      "#item = Brief.objects.values()\n",
      "item = Entry.objects.order_by(\"-approved_on\")[:1200]\n",
      "#tempSoup= str(item[i].title+item[i].section+item[i].topic+item[i].industry+item[i].body_html+item[i].primary_topic+item[i].primary_industry+item[i].auto_tagged_topic+item[i].auto_tagged_industry)\n",
      "storySoup = item.values_list('body_html', flat=True)\n",
      "storyTitle = item.values_list('title', flat=True)\n",
      "storyId = item.values_list('id', flat=True)\n",
      "storyPriority = item.values_list('priority', flat=True)\n",
      "storyDuplicate = item.values('duplicate_of')\n"
     ],
     "language": "python",
     "metadata": {},
     "outputs": [],
     "prompt_number": 3
    },
    {
     "cell_type": "code",
     "collapsed": false,
     "input": [
      "#Vectorizer\n",
      "hasher = HashingVectorizer(stop_words='english', non_negative=True,\n",
      "                           norm=None, binary=False)\n",
      "vectorizer = make_pipeline(hasher, TfidfTransformer())\n",
      "X = vectorizer.fit_transform(storySoup)\n",
      "print(\"n_samples: %d, n_features: %d\" % X.shape)\n",
      "print(\"n_samples: %d, n_features: %d\" % X.shape)\n",
      "print('\\x1b[1;31m'+\"Stories Vectorized in %fs\" % (time() - t0)+'\\x1b[0m')\n",
      "\n",
      "#Dimension Reduction\n",
      "lsa = TruncatedSVD(algorithm='arpack', n_components=200)\n",
      "dtm_lsa = lsa.fit_transform(X)\n",
      "X = Normalizer(copy=False).fit_transform(dtm_lsa)\n",
      "print(len(storySoup))\n",
      "print('\\x1b[1;31m'+\"Dimensions Reduced in  in %fs\" % (time() - t0)+'\\x1b[0m')\n",
      "print(\"n_samples: %d, n_features: %d\" % X.shape)\n",
      "\n",
      "# Do the actual clustering\n",
      "nc = int(len(storySoup)*.50)\n",
      "km = MiniBatchKMeans(n_clusters= nc, max_iter=100, n_init=5, compute_labels=True, init_size=int(nc*3), batch_size=int(nc*.02), reassignment_ratio=.1, verbose=True).fit(X)\n",
      "#km = KMeans(n_clusters=nc, init='k-means++', max_iter=100, n_init=10, verbose=True).fit(X)\n",
      "labels = km.labels_\n",
      "labels_true = storyPriority\n",
      "labels_pred = km.labels_\n",
      "print('\\x1b[1;31m'+\"Stories Clustered in  in %fs\" % (time() - t0)+'\\x1b[0m')\n",
      "\n",
      "print(metrics.normalized_mutual_info_score(labels_true, labels_pred))\n",
      "print (metrics.silhouette_score(X, labels_pred, metric='euclidean'))\n",
      "print (metrics.homogeneity_completeness_v_measure(labels_true, labels_pred) ) \n",
      "print(\"\\n\")"
     ],
     "language": "python",
     "metadata": {},
     "outputs": [
      {
       "output_type": "stream",
       "stream": "stdout",
       "text": [
        "n_samples: 1200, n_features: 1048576\n",
        "n_samples: 1200, n_features: 1048576\n",
        "\u001b[1;31mStories Vectorized in 1.172088s\u001b[0m\n",
        "1200"
       ]
      },
      {
       "output_type": "stream",
       "stream": "stdout",
       "text": [
        "\n",
        "\u001b[1;31mDimensions Reduced in  in 5.028314s\u001b[0m\n",
        "n_samples: 1200, n_features: 200\n",
        "Init 1/5 with method: k-means++\n",
        "Inertia for init 1/5: 55.473830"
       ]
      },
      {
       "output_type": "stream",
       "stream": "stdout",
       "text": [
        "\n",
        "Init 2/5 with method: k-means++\n",
        "Inertia for init 2/5: 58.189371"
       ]
      },
      {
       "output_type": "stream",
       "stream": "stdout",
       "text": [
        "\n",
        "Init 3/5 with method: k-means++\n",
        "Inertia for init 3/5: 59.827925"
       ]
      },
      {
       "output_type": "stream",
       "stream": "stdout",
       "text": [
        "\n",
        "Init 4/5 with method: k-means++\n",
        "Inertia for init 4/5: 58.608303"
       ]
      },
      {
       "output_type": "stream",
       "stream": "stdout",
       "text": [
        "\n",
        "Init 5/5 with method: k-means++\n",
        "Inertia for init 5/5: 58.341843"
       ]
      },
      {
       "output_type": "stream",
       "stream": "stdout",
       "text": [
        "\n",
        "Minibatch iteration 1/10000: mean batch inertia: 0.118510, ewa inertia: 0.118510 \n",
        "Minibatch iteration 2/10000: mean batch inertia: 0.081227, ewa inertia: 0.117765 \n",
        "Minibatch iteration 3/10000: mean batch inertia: 0.030179, ewa inertia: 0.116015 \n",
        "Minibatch iteration 4/10000: mean batch inertia: 0.045610, ewa inertia: 0.114608 \n",
        "Minibatch iteration 5/10000: mean batch inertia: 0.005457, ewa inertia: 0.112427 "
       ]
      },
      {
       "output_type": "stream",
       "stream": "stdout",
       "text": [
        "\n",
        "Minibatch iteration 6/10000: mean batch inertia: 0.110507, ewa inertia: 0.112388 \n",
        "Minibatch iteration 7/10000: mean batch inertia: 0.151479, ewa inertia: 0.113170 \n",
        "Minibatch iteration 8/10000: mean batch inertia: 0.065159, ewa inertia: 0.112210 \n",
        "Minibatch iteration 9/10000: mean batch inertia: 0.032552, ewa inertia: 0.110618 \n",
        "[MiniBatchKMeans] Reassigning 6 cluster centers."
       ]
      },
      {
       "output_type": "stream",
       "stream": "stdout",
       "text": [
        "\n",
        "Minibatch iteration 10/10000: mean batch inertia: 0.063188, ewa inertia: 0.109670 \n",
        "Minibatch iteration 11/10000: mean batch inertia: 0.190248, ewa inertia: 0.111281 \n",
        "Minibatch iteration 12/10000: mean batch inertia: 0.071637, ewa inertia: 0.110488 \n",
        "Minibatch iteration 13/10000: mean batch inertia: 0.065070, ewa inertia: 0.109581 \n",
        "Minibatch iteration 14/10000: mean batch inertia: 0.075095, ewa inertia: 0.108892 "
       ]
      },
      {
       "output_type": "stream",
       "stream": "stdout",
       "text": [
        "\n",
        "Minibatch iteration 15/10000: mean batch inertia: 0.112307, ewa inertia: 0.108960 \n",
        "Minibatch iteration 16/10000: mean batch inertia: 0.093582, ewa inertia: 0.108653 \n",
        "Minibatch iteration 17/10000: mean batch inertia: 0.084199, ewa inertia: 0.108164 \n",
        "Minibatch iteration 18/10000: mean batch inertia: 0.092104, ewa inertia: 0.107843 \n",
        "Minibatch iteration 19/10000: mean batch inertia: 0.103534, ewa inertia: 0.107757 "
       ]
      },
      {
       "output_type": "stream",
       "stream": "stdout",
       "text": [
        "\n",
        "[MiniBatchKMeans] Reassigning 6 cluster centers.\n",
        "Minibatch iteration 20/10000: mean batch inertia: 0.047126, ewa inertia: 0.106545 \n",
        "Minibatch iteration 21/10000: mean batch inertia: 0.117550, ewa inertia: 0.106765 \n",
        "Minibatch iteration 22/10000: mean batch inertia: 0.111882, ewa inertia: 0.106867 \n",
        "Minibatch iteration 23/10000: mean batch inertia: 0.040019, ewa inertia: 0.105532 \n",
        "Minibatch iteration 24/10000: mean batch inertia: 0.094573, ewa inertia: 0.105313 "
       ]
      },
      {
       "output_type": "stream",
       "stream": "stdout",
       "text": [
        "\n",
        "Minibatch iteration 25/10000: mean batch inertia: 0.047100, ewa inertia: 0.104149 \n",
        "Minibatch iteration 26/10000: mean batch inertia: 0.076117, ewa inertia: 0.103589 \n",
        "Minibatch iteration 27/10000: mean batch inertia: 0.110999, ewa inertia: 0.103737 \n",
        "Minibatch iteration 28/10000: mean batch inertia: 0.033978, ewa inertia: 0.102343 \n",
        "Minibatch iteration 29/10000: mean batch inertia: 0.075119, ewa inertia: 0.101799 "
       ]
      },
      {
       "output_type": "stream",
       "stream": "stdout",
       "text": [
        "\n",
        "[MiniBatchKMeans] Reassigning 6 cluster centers.\n",
        "Minibatch iteration 30/10000: mean batch inertia: 0.064206, ewa inertia: 0.101048 \n",
        "Minibatch iteration 31/10000: mean batch inertia: 0.053655, ewa inertia: 0.100101 \n",
        "Minibatch iteration 32/10000: mean batch inertia: 0.141899, ewa inertia: 0.100936 \n",
        "Minibatch iteration 33/10000: mean batch inertia: 0.081402, ewa inertia: 0.100546 \n",
        "Minibatch iteration 34/10000: mean batch inertia: 0.092204, ewa inertia: 0.100379 "
       ]
      },
      {
       "output_type": "stream",
       "stream": "stdout",
       "text": [
        "\n",
        "Minibatch iteration 35/10000: mean batch inertia: 0.034767, ewa inertia: 0.099068 \n",
        "Minibatch iteration 36/10000: mean batch inertia: 0.041292, ewa inertia: 0.097913 \n",
        "Minibatch iteration 37/10000: mean batch inertia: 0.099525, ewa inertia: 0.097946 \n",
        "Minibatch iteration 38/10000: mean batch inertia: 0.066558, ewa inertia: 0.097318 \n",
        "Minibatch iteration 39/10000: mean batch inertia: 0.060639, ewa inertia: 0.096585 "
       ]
      },
      {
       "output_type": "stream",
       "stream": "stdout",
       "text": [
        "\n",
        "[MiniBatchKMeans] Reassigning 6 cluster centers.\n",
        "Minibatch iteration 40/10000: mean batch inertia: 0.076752, ewa inertia: 0.096189 \n",
        "Minibatch iteration 41/10000: mean batch inertia: 0.077253, ewa inertia: 0.095811 \n",
        "Minibatch iteration 42/10000: mean batch inertia: 0.098287, ewa inertia: 0.095860 \n",
        "Minibatch iteration 43/10000: mean batch inertia: 0.050323, ewa inertia: 0.094950 \n",
        "Minibatch iteration 44/10000: mean batch inertia: 0.072640, ewa inertia: 0.094504 "
       ]
      },
      {
       "output_type": "stream",
       "stream": "stdout",
       "text": [
        "\n",
        "Minibatch iteration 45/10000: mean batch inertia: 0.035665, ewa inertia: 0.093328 \n",
        "Minibatch iteration 46/10000: mean batch inertia: 0.069828, ewa inertia: 0.092859 \n",
        "Minibatch iteration 47/10000: mean batch inertia: 0.031063, ewa inertia: 0.091624 \n",
        "Minibatch iteration 48/10000: mean batch inertia: 0.114568, ewa inertia: 0.092082 \n",
        "Minibatch iteration 49/10000: mean batch inertia: 0.043752, ewa inertia: 0.091117 "
       ]
      },
      {
       "output_type": "stream",
       "stream": "stdout",
       "text": [
        "\n",
        "[MiniBatchKMeans] Reassigning 6 cluster centers.\n",
        "Minibatch iteration 50/10000: mean batch inertia: 0.059026, ewa inertia: 0.090475 \n",
        "Minibatch iteration 51/10000: mean batch inertia: 0.068205, ewa inertia: 0.090030 \n",
        "Minibatch iteration 52/10000: mean batch inertia: 0.080233, ewa inertia: 0.089835 \n",
        "Minibatch iteration 53/10000: mean batch inertia: 0.050860, ewa inertia: 0.089056 \n",
        "Minibatch iteration 54/10000: mean batch inertia: 0.058058, ewa inertia: 0.088436 "
       ]
      },
      {
       "output_type": "stream",
       "stream": "stdout",
       "text": [
        "\n",
        "Minibatch iteration 55/10000: mean batch inertia: 0.060849, ewa inertia: 0.087885 \n",
        "Minibatch iteration 56/10000: mean batch inertia: 0.088238, ewa inertia: 0.087892 \n",
        "Minibatch iteration 57/10000: mean batch inertia: 0.083214, ewa inertia: 0.087799 \n",
        "Minibatch iteration 58/10000: mean batch inertia: 0.053829, ewa inertia: 0.087120 \n",
        "Minibatch iteration 59/10000: mean batch inertia: 0.115895, ewa inertia: 0.087695 "
       ]
      },
      {
       "output_type": "stream",
       "stream": "stdout",
       "text": [
        "\n",
        "[MiniBatchKMeans] Reassigning 6 cluster centers.\n",
        "Minibatch iteration 60/10000: mean batch inertia: 0.071831, ewa inertia: 0.087378 \n",
        "Minibatch iteration 61/10000: mean batch inertia: 0.052462, ewa inertia: 0.086680 \n",
        "Minibatch iteration 62/10000: mean batch inertia: 0.120653, ewa inertia: 0.087359 \n",
        "Minibatch iteration 63/10000: mean batch inertia: 0.067570, ewa inertia: 0.086964 \n",
        "Minibatch iteration 64/10000: mean batch inertia: 0.068482, ewa inertia: 0.086594 "
       ]
      },
      {
       "output_type": "stream",
       "stream": "stdout",
       "text": [
        "\n",
        "Minibatch iteration 65/10000: mean batch inertia: 0.086909, ewa inertia: 0.086600 \n",
        "Minibatch iteration 66/10000: mean batch inertia: 0.096161, ewa inertia: 0.086792 \n",
        "Minibatch iteration 67/10000: mean batch inertia: 0.039333, ewa inertia: 0.085843 \n",
        "Minibatch iteration 68/10000: mean batch inertia: 0.043071, ewa inertia: 0.084988 \n",
        "Minibatch iteration 69/10000: mean batch inertia: 0.077651, ewa inertia: 0.084842 "
       ]
      },
      {
       "output_type": "stream",
       "stream": "stdout",
       "text": [
        "\n",
        "[MiniBatchKMeans] Reassigning 6 cluster centers.\n",
        "Minibatch iteration 70/10000: mean batch inertia: 0.089472, ewa inertia: 0.084934 \n",
        "Minibatch iteration 71/10000: mean batch inertia: 0.036097, ewa inertia: 0.083958 \n",
        "Minibatch iteration 72/10000: mean batch inertia: 0.048077, ewa inertia: 0.083241 \n",
        "Minibatch iteration 73/10000: mean batch inertia: 0.090454, ewa inertia: 0.083385 \n",
        "Minibatch iteration 74/10000: mean batch inertia: 0.079877, ewa inertia: 0.083315 "
       ]
      },
      {
       "output_type": "stream",
       "stream": "stdout",
       "text": [
        "\n",
        "Minibatch iteration 75/10000: mean batch inertia: 0.127858, ewa inertia: 0.084205 \n",
        "Minibatch iteration 76/10000: mean batch inertia: 0.097940, ewa inertia: 0.084480 \n",
        "Minibatch iteration 77/10000: mean batch inertia: 0.038177, ewa inertia: 0.083555 \n",
        "Minibatch iteration 78/10000: mean batch inertia: 0.046471, ewa inertia: 0.082814 \n",
        "Minibatch iteration 79/10000: mean batch inertia: 0.006002, ewa inertia: 0.081279 "
       ]
      },
      {
       "output_type": "stream",
       "stream": "stdout",
       "text": [
        "\n",
        "[MiniBatchKMeans] Reassigning 6 cluster centers.\n",
        "Minibatch iteration 80/10000: mean batch inertia: 0.144538, ewa inertia: 0.082543 \n",
        "Minibatch iteration 81/10000: mean batch inertia: 0.108260, ewa inertia: 0.083057 \n",
        "Minibatch iteration 82/10000: mean batch inertia: 0.169496, ewa inertia: 0.084784 \n",
        "Minibatch iteration 83/10000: mean batch inertia: 0.051019, ewa inertia: 0.084109 \n",
        "Minibatch iteration 84/10000: mean batch inertia: 0.136573, ewa inertia: 0.085158 "
       ]
      },
      {
       "output_type": "stream",
       "stream": "stdout",
       "text": [
        "\n",
        "Minibatch iteration 85/10000: mean batch inertia: 0.037037, ewa inertia: 0.084196 \n",
        "Minibatch iteration 86/10000: mean batch inertia: 0.040494, ewa inertia: 0.083323 \n",
        "Minibatch iteration 87/10000: mean batch inertia: 0.199299, ewa inertia: 0.085640 \n",
        "Minibatch iteration 88/10000: mean batch inertia: 0.052984, ewa inertia: 0.084988 \n",
        "Minibatch iteration 89/10000: mean batch inertia: 0.118342, ewa inertia: 0.085654 "
       ]
      },
      {
       "output_type": "stream",
       "stream": "stdout",
       "text": [
        "\n",
        "Converged (lack of improvement in inertia) at iteration 89/10000\n",
        "Computing label assignment and total inertia\n",
        "\u001b[1;31mStories Clustered in  in 16.561214s\u001b[0m"
       ]
      },
      {
       "output_type": "stream",
       "stream": "stdout",
       "text": [
        "\n",
        "0.94010525631\n",
        "0.281490250825"
       ]
      },
      {
       "output_type": "stream",
       "stream": "stdout",
       "text": [
        "\n",
        "(0.88790266544629992, 0.99537700170982757, 0.93857317992148592)\n",
        "\n",
        "\n"
       ]
      },
      {
       "output_type": "stream",
       "stream": "stderr",
       "text": [
        "/usr/lib64/python2.7/site-packages/numpy/core/_methods.py:55: RuntimeWarning: Mean of empty slice.\n",
        "  warnings.warn(\"Mean of empty slice.\", RuntimeWarning)\n"
       ]
      }
     ],
     "prompt_number": 4
    },
    {
     "cell_type": "code",
     "collapsed": false,
     "input": [
      "#Scoring\n",
      "knownClusters={}\n",
      "for i in range(storyId.count()):\n",
      "    try:\n",
      "        knownClusters[storyPriority[i]].append(storyId[i])\n",
      "        knownClusters[storyPriority[i]].append(storyPriority[i])        \n",
      "    except:\n",
      "        knownClusters.setdefault(storyPriority[i], [storyId[i]])   \n",
      "    try:\n",
      "        knownClusters[storyId[i]]\n",
      "    except:\n",
      "        knownClusters.setdefault(storyId[i], [storyId[i]])  \n",
      "\"\"\"\n",
      "for i in range(storyId.count()):\n",
      "    if(len(knownClusters[storyPriority[i]])>1):\n",
      "        try:\n",
      "            print(storyPriority[i], knownClusters[storyPriority[i]])\n",
      "        except:\n",
      "            print(\"error\")     \n",
      "\"\"\"\n",
      "clustered={}\n",
      "for k in np.unique(km.labels_):\n",
      "    if(not math.isnan(k)):\n",
      "        members = np.where(km.labels_ == k)  #[1]\n",
      "    if k == -1:\n",
      "        #print(\"outliers:\")\n",
      "        continue    \n",
      "    else:\n",
      "        pass\n",
      "    clusteredList=[]\n",
      "    for item in members[0]:\n",
      "        clusteredList.append(storyId[item])\n",
      "    for i in clusteredList:\n",
      "        try:\n",
      "            clustered[i].append(clusteredList)\n",
      "        except:\n",
      "            clustered.setdefault(i, clusteredList)\n",
      "\"\"\"\n",
      "for i in range(storyId.count()):\n",
      "    if(len(clustered[storyId[i]])>1):\n",
      "        try:\n",
      "            print(clustered[storyId[i]])\n",
      "        except:\n",
      "            print(\"error\")\n",
      "\"\"\"            "
     ],
     "language": "python",
     "metadata": {},
     "outputs": [
      {
       "metadata": {},
       "output_type": "pyout",
       "prompt_number": 5,
       "text": [
        "'\\nfor i in range(storyId.count()):\\n    if(len(clustered[storyId[i]])>1):\\n        try:\\n            print(clustered[storyId[i]])\\n        except:\\n            print(\"error\")\\n'"
       ]
      }
     ],
     "prompt_number": 5
    },
    {
     "cell_type": "code",
     "collapsed": false,
     "input": [
      "l =0\n",
      "m=0\n",
      "for i in range(storyId.count()):\n",
      "    if(len(knownClusters[storyId[i]])>1):\n",
      "        print(\"%s\\t%s\\t\\t\\t\\t%s\" %(storyPriority[i], set(knownClusters[storyPriority[i]]), clustered[storyPriority[i]]))            \n",
      "        if(set(knownClusters[storyPriority[i]]).issubset(set(clustered[storyPriority[i]]))):\n",
      "            l+=1\n",
      "        else:\n",
      "            m+=1\n",
      "print(l)\n",
      "print(m)\n"
     ],
     "language": "python",
     "metadata": {},
     "outputs": [
      {
       "output_type": "stream",
       "stream": "stdout",
       "text": [
        "43895984\tset([43895984, 43896748])\t\t\t\t[43896748, 43895984, 43896669]\n",
        "43893618\tset([43893618, 43894238, 43893734])\t\t\t\t[43893734, 43894238, 43893618]"
       ]
      },
      {
       "output_type": "stream",
       "stream": "stdout",
       "text": [
        "\n",
        "43893619\tset([43893857, 43893619])\t\t\t\t[43893857, 43893619]\n",
        "43895231\tset([43897334, 43895231])\t\t\t\t[43897334, 43895231]"
       ]
      },
      {
       "output_type": "stream",
       "stream": "stdout",
       "text": [
        "\n",
        "43893634\tset([43893634, 43893772])\t\t\t\t[43893772, 43893634]"
       ]
      },
      {
       "output_type": "stream",
       "stream": "stdout",
       "text": [
        "\n",
        "43893640\tset([43893640, 43895577, 43894654])\t\t\t\t[43895577, 43894654, 43893640, 43896120, 43893669, 43897354]\n",
        "43893651\tset([43893873, 43893651])\t\t\t\t[43893873, 43893651]\n",
        "43893669\tset([43896120, 43893669])\t\t\t\t[43895577, 43894654, 43893640, 43896120, 43893669, 43897354]"
       ]
      },
      {
       "output_type": "stream",
       "stream": "stdout",
       "text": [
        "\n",
        "43893680\tset([43893800, 43893680, 43893762, 43893843, 43893992])\t\t\t\t[43893762, 43893800, 43893992, 43893680]"
       ]
      },
      {
       "output_type": "stream",
       "stream": "stdout",
       "text": [
        "\n",
        "43893639\tset([43893809, 43893644, 43893639])\t\t\t\t[43893644, 43893809, 43893639]"
       ]
      },
      {
       "output_type": "stream",
       "stream": "stdout",
       "text": [
        "\n",
        "43894177\tset([43894177, 43894418])\t\t\t\t[43894418, 43894177]"
       ]
      },
      {
       "output_type": "stream",
       "stream": "stdout",
       "text": [
        "\n",
        "43894045\tset([43894045, 43895303])\t\t\t\t[43895303, 43894045]"
       ]
      },
      {
       "output_type": "stream",
       "stream": "stdout",
       "text": [
        "\n",
        "43894047\tset([43894047, 43894125, 43894597])\t\t\t\t[43894125, 43894597, 43894047]\n",
        "43894210\tset([43894210, 43894371])\t\t\t\t[43894371, 43894210]"
       ]
      },
      {
       "output_type": "stream",
       "stream": "stdout",
       "text": [
        "\n",
        "43894222\tset([43894352, 43894222])\t\t\t\t[43894352, 43894222]\n",
        "43894213\tset([43894368, 43894213])\t\t\t\t[43894368, 43894213]"
       ]
      },
      {
       "output_type": "stream",
       "stream": "stdout",
       "text": [
        "\n",
        "43894410\tset([43894410, 43894468, 43894847])\t\t\t\t[43894847, 43894468, 43894410]\n",
        "43894226\tset([43894226, 43894355])\t\t\t\t[43894355, 43894226]\n",
        "43894229\tset([43894229, 43894374])\t\t\t\t[43898121, 43894374, 43894229]\n",
        "43894412\tset([43895224, 43894451, 43894691, 43894412, 43894613])\t\t\t\t[43894613, 43894691, 43894451, 43894412]"
       ]
      },
      {
       "output_type": "stream",
       "stream": "stdout",
       "text": [
        "\n",
        "43894652\tset([43894652, 43894806])\t\t\t\t[43894806, 43894652]\n",
        "43894666\tset([43894666, 43895599])\t\t\t\t[43895599, 43894666]"
       ]
      },
      {
       "output_type": "stream",
       "stream": "stdout",
       "text": [
        "\n",
        "43894669\tset([43895492, 43894669])\t\t\t\t[43895492, 43894669, 43895328]\n",
        "43894081\tset([43894912, 43894625, 43894603, 43894443, 43894081, 43894505, 43894599, 43894989, 43894416, 43894208, 43894712, 43894875, 43894461])\t\t\t\t[43894505, 43894599, 43894625, 43894416, 43894912, 43894208, 43894461, 43894443, 43894081]"
       ]
      },
      {
       "output_type": "stream",
       "stream": "stdout",
       "text": [
        "\n",
        "43894680\tset([43894951, 43895275, 43894872, 43895253, 43896599, 43894680, 43895199])\t\t\t\t[43895253, 43895275, 43894872, 43896599, 43895199, 43894951, 43894680]"
       ]
      },
      {
       "output_type": "stream",
       "stream": "stdout",
       "text": [
        "\n",
        "43894089\tset([43894089, 43894274])\t\t\t\t[43894274, 43894089]\n",
        "43894684\tset([43895081, 43894684, 43894918])\t\t\t\t[43895081, 43894918, 43894684]"
       ]
      },
      {
       "output_type": "stream",
       "stream": "stdout",
       "text": [
        "\n",
        "43894099\tset([43894408, 43894099])\t\t\t\t[43894408, 43894099, 43896714]\n",
        "43894688\tset([43894688, 43895745, 43895194, 43896236])\t\t\t\t[43895745, 43896236, 43895194, 43894688]"
       ]
      },
      {
       "output_type": "stream",
       "stream": "stdout",
       "text": [
        "\n",
        "43894102\tset([43894592, 43894102])\t\t\t\t[43894592, 43894102, 43894173, 43893865]\n",
        "43896033\tset([43896033, 43896035])\t\t\t\t[43896035, 43896033]"
       ]
      },
      {
       "output_type": "stream",
       "stream": "stdout",
       "text": [
        "\n",
        "43894106\tset([43896888, 43897330, 43894659, 43894106])\t\t\t\t[43897330, 43894659, 43896888, 43894106]"
       ]
      },
      {
       "output_type": "stream",
       "stream": "stdout",
       "text": [
        "\n",
        "43896021\tset([43896029, 43896021])\t\t\t\t[43898067, 43896029, 43896021]\n",
        "43896012\tset([43896347, 43896012])\t\t\t\t[43896347, 43896012]\n",
        "43896009\tset([43896009, 43896359])\t\t\t\t[43896009]"
       ]
      },
      {
       "output_type": "stream",
       "stream": "stdout",
       "text": [
        "\n",
        "43894715\tset([43895075, 43894715])\t\t\t\t[43895075, 43894715]"
       ]
      },
      {
       "output_type": "stream",
       "stream": "stdout",
       "text": [
        "\n",
        "43894119\tset([43894822, 43894119])\t\t\t\t[43894822, 43894119]\n",
        "43894150\tset([43894306, 43894723, 43894150])\t\t\t\t[43894723, 43894306, 43894150]"
       ]
      },
      {
       "output_type": "stream",
       "stream": "stdout",
       "text": [
        "\n",
        "43894718\tset([43894718, 43895983])\t\t\t\t[43895983, 43894718]\n",
        "43895932\tset([43896761, 43896372, 43895932])\t\t\t\t[43897822, 43896761, 43896372, 43895932, 43897463]\n",
        "43894722\tset([43894722, 43895127])\t\t\t\t[43895127, 43894722]"
       ]
      },
      {
       "output_type": "stream",
       "stream": "stdout",
       "text": [
        "\n",
        "43894725\tset([43894793, 43894725])\t\t\t\t[43894793, 43894725]\n",
        "43894152\tset([43894152, 43894338])\t\t\t\t[43894338, 43894152]\n",
        "43895855\tset([43896410, 43896052, 43895855])\t\t\t\t[43896052, 43896410, 43895855]"
       ]
      },
      {
       "output_type": "stream",
       "stream": "stdout",
       "text": [
        "\n",
        "43894732\tset([43896135, 43894732, 43895079])\t\t\t\t[43895079, 43896135, 43894732]\n",
        "43894752\tset([43894752, 43896970, 43895108])\t\t\t\t[43895108, 43896970, 43894752]"
       ]
      },
      {
       "output_type": "stream",
       "stream": "stdout",
       "text": [
        "\n",
        "43894765\tset([43894896, 43896003, 43895773, 43894765])\t\t\t\t[43895773, 43894896, 43896003, 43894765]"
       ]
      },
      {
       "output_type": "stream",
       "stream": "stdout",
       "text": [
        "\n",
        "43894831\tset([43894997, 43894831])\t\t\t\t[43894997, 43894831]"
       ]
      },
      {
       "output_type": "stream",
       "stream": "stdout",
       "text": [
        "\n",
        "43895202\tset([43895354, 43895202])\t\t\t\t[43895354, 43895202]"
       ]
      },
      {
       "output_type": "stream",
       "stream": "stdout",
       "text": [
        "\n",
        "43894808\tset([43894808, 43896631])\t\t\t\t[43896631, 43894808]\n",
        "43894856\tset([43897496, 43894856, 43896338, 43895069])\t\t\t\t[43895069, 43896338, 43894856, 43895458]"
       ]
      },
      {
       "output_type": "stream",
       "stream": "stdout",
       "text": [
        "\n",
        "43894883\tset([43895836, 43894883, 43895412, 43895317])\t\t\t\t[43895317, 43895412, 43895836, 43894883]"
       ]
      },
      {
       "output_type": "stream",
       "stream": "stdout",
       "text": [
        "\n",
        "43894888\tset([43894888, 43895110])\t\t\t\t[43895110, 43894888]\n",
        "43896396\tset([43896985, 43896396, 43896814])\t\t\t\t[43896814, 43896985, 43896396]"
       ]
      },
      {
       "output_type": "stream",
       "stream": "stdout",
       "text": [
        "\n",
        "43894902\tset([43894902, 43895174])\t\t\t\t[43895174, 43894902]\n",
        "43896435\tset([43896435, 43896751])\t\t\t\t[43896751, 43896435]"
       ]
      },
      {
       "output_type": "stream",
       "stream": "stdout",
       "text": [
        "\n",
        "43894913\tset([43894913, 43895958, 43896374, 43895839])\t\t\t\t[43896374, 43895839, 43895958, 43894913]\n",
        "43894917\tset([43895472, 43896369, 43894917, 43895863])\t\t\t\t[43896369, 43895863, 43895472, 43894917, 43895491]"
       ]
      },
      {
       "output_type": "stream",
       "stream": "stdout",
       "text": [
        "\n",
        "43894935\tset([43895696, 43895304, 43894965, 43895117, 43894935])\t\t\t\t[43894965, 43895304, 43895117, 43894935]\n",
        "43894972\tset([43896376, 43894972, 43895044, 43896036])\t\t\t\t[43895044, 43896376, 43896036, 43894972]"
       ]
      },
      {
       "output_type": "stream",
       "stream": "stdout",
       "text": [
        "\n",
        "43894289\tset([43894289, 43894699, 43894316])\t\t\t\t[43894699, 43894316, 43894289]\n",
        "43894979\tset([43895784, 43895234, 43894979, 43898149, 43894967])\t\t\t\t[43898149, 43894967, 43895234, 43895784, 43894979]"
       ]
      },
      {
       "output_type": "stream",
       "stream": "stdout",
       "text": [
        "\n",
        "43895013\tset([43895348, 43895013])\t\t\t\t[43895013, 43895348]\n",
        "43895568\tset([43895568, 43895737])\t\t\t\t[43895224, 43895737, 43895568]"
       ]
      },
      {
       "output_type": "stream",
       "stream": "stdout",
       "text": [
        "\n",
        "43895032\tset([43895032, 43895066, 43895683, 43896381, 43894870])\t\t\t\t[43895683, 43895066, 43896381, 43894870, 43895032]"
       ]
      },
      {
       "output_type": "stream",
       "stream": "stdout",
       "text": [
        "\n",
        "43895035\tset([43895035, 43895847])\t\t\t\t[43895847, 43895035]\n",
        "43895306\tset([43895904, 43895306, 43895646])\t\t\t\t[43895646, 43895904, 43895306]\n",
        "43895342\tset([43895546, 43895342, 43896798])\t\t\t\t[43895546, 43896798, 43895342]"
       ]
      },
      {
       "output_type": "stream",
       "stream": "stdout",
       "text": [
        "\n",
        "43895365\tset([43896208, 43895365])\t\t\t\t[43896208, 43895365]"
       ]
      },
      {
       "output_type": "stream",
       "stream": "stdout",
       "text": [
        "\n",
        "43895326\tset([43895877, 43895326])\t\t\t\t[43895877, 43895326]\n",
        "43895461\tset([43896075, 43895461])\t\t\t\t[43896075, 43895461]"
       ]
      },
      {
       "output_type": "stream",
       "stream": "stdout",
       "text": [
        "\n",
        "43895310\tset([43895310, 43896111])\t\t\t\t[43896111, 43895310]\n",
        "43895382\tset([43897308, 43895382])\t\t\t\t[43897308, 43895382]"
       ]
      },
      {
       "output_type": "stream",
       "stream": "stdout",
       "text": [
        "\n",
        "43895404\tset([43895404, 43895766])\t\t\t\t[43895766, 43895404]"
       ]
      },
      {
       "output_type": "stream",
       "stream": "stdout",
       "text": [
        "\n",
        "43895415\tset([43896416, 43896235, 43895415])\t\t\t\t[43894048, 43894758, 43896235, 43896416, 43895415]"
       ]
      },
      {
       "output_type": "stream",
       "stream": "stdout",
       "text": [
        "\n",
        "43895419\tset([43895419, 43895716, 43895742, 43896431])\t\t\t\t[43896431, 43895742, 43895419]\n",
        "43895424\tset([43895424, 43895999])\t\t\t\t[43895999, 43895424]"
       ]
      },
      {
       "output_type": "stream",
       "stream": "stdout",
       "text": [
        "\n",
        "43895436\tset([43895651, 43895436])\t\t\t\t[43895651, 43895436]\n",
        "43895439\tset([43896164, 43895439])\t\t\t\t[43897409, 43896164, 43895439]\n",
        "43895446\tset([43896417, 43895446])\t\t\t\t[43895357, 43896417, 43895446]"
       ]
      },
      {
       "output_type": "stream",
       "stream": "stdout",
       "text": [
        "\n",
        "43895933\tset([43895776, 43895828, 43895933])\t\t\t\t[43895776, 43895828, 43895933, 43896097, 43896073]\n",
        "43895453\tset([43896163, 43895453])\t\t\t\t[43896163, 43895453]\n",
        "43895456\tset([43895584, 43895456, 43896020])\t\t\t\t[43895584, 43896020, 43895456]"
       ]
      },
      {
       "output_type": "stream",
       "stream": "stdout",
       "text": [
        "\n",
        "43895459\tset([43896722, 43895475, 43895459, 43896413])\t\t\t\t[43896413, 43895475, 43896722, 43895459]\n",
        "43893865\tset([43893865, 43894173])\t\t\t\t[43894592, 43894102, 43894173, 43893865]"
       ]
      },
      {
       "output_type": "stream",
       "stream": "stdout",
       "text": [
        "\n",
        "43895470\tset([43895576, 43896089, 43896010, 43895470, 43895897])\t\t\t\t[43894555, 43896089, 43895576, 43896010, 43895897, 43895470, 43896992]"
       ]
      },
      {
       "output_type": "stream",
       "stream": "stdout",
       "text": [
        "\n",
        "43895474\tset([43895474, 43895598])\t\t\t\t[43895598, 43895474]\n",
        "43895477\tset([43895602, 43895477])\t\t\t\t[43895602, 43895477]"
       ]
      },
      {
       "output_type": "stream",
       "stream": "stdout",
       "text": [
        "\n",
        "43896018\tset([43896772, 43896776, 43896586, 43896018, 43896051, 43897502])\t\t\t\t[43897502, 43896282, 43896051, 43896586, 43896776, 43896772, 43896018]\n",
        "43895484\tset([43896936, 43895484, 43896108, 43895973])\t\t\t\t[43896108, 43895973, 43896936, 43895484]"
       ]
      },
      {
       "output_type": "stream",
       "stream": "stdout",
       "text": [
        "\n",
        "43895503\tset([43896122, 43895503])\t\t\t\t[43896122, 43895503]"
       ]
      },
      {
       "output_type": "stream",
       "stream": "stdout",
       "text": [
        "\n",
        "43895509\tset([43896144, 43895509])\t\t\t\t[43896144, 43895509, 43896562, 43896698]\n",
        "43895526\tset([43896113, 43896428, 43895526, 43895991])\t\t\t\t[43896113, 43896428, 43895991, 43895526]"
       ]
      },
      {
       "output_type": "stream",
       "stream": "stdout",
       "text": [
        "\n",
        "43895531\tset([43896080, 43895531, 43896116])\t\t\t\t[43896116, 43896080, 43895531]\n",
        "43895543\tset([43896500, 43895543])\t\t\t\t[43896500, 43895543]"
       ]
      },
      {
       "output_type": "stream",
       "stream": "stdout",
       "text": [
        "\n",
        "43896048\tset([43896048, 43896202])\t\t\t\t[43896202, 43896048]"
       ]
      },
      {
       "output_type": "stream",
       "stream": "stdout",
       "text": [
        "\n",
        "43896065\tset([43896065, 43897612])\t\t\t\t[43896006, 43896249, 43896065]\n",
        "43895519\tset([43895667, 43895519])\t\t\t\t[43895667, 43895519, 43896223]\n",
        "43896628\tset([43897651, 43896628])\t\t\t\t[43897651, 43896628]\n",
        "43896068\tset([43896068, 43896092])\t\t\t\t[43896092, 43896068]"
       ]
      },
      {
       "output_type": "stream",
       "stream": "stdout",
       "text": [
        "\n",
        "43896073\tset([43896097, 43896073])\t\t\t\t[43895776, 43895828, 43895933, 43896097, 43896073]\n",
        "43895510\tset([43895510, 43895551])\t\t\t\t[43895622, 43895551, 43895510]\n",
        "43896107\tset([43897761, 43896107, 43896341])\t\t\t\t[43896341, 43896107]"
       ]
      },
      {
       "output_type": "stream",
       "stream": "stdout",
       "text": [
        "\n",
        "43896110\tset([43896110, 43896510])\t\t\t\t[43896510, 43896110]\n",
        "43896121\tset([43896176, 43896121])\t\t\t\t[43896176, 43896121]\n",
        "43896126\tset([43896126, 43898086])\t\t\t\t[43898086, 43895579, 43896126]\n",
        "43896128\tset([43896128, 43896137, 43896811, 43898069, 43896800])\t\t\t\t[43898069, 43896137, 43896811, 43896800, 43896128]"
       ]
      },
      {
       "output_type": "stream",
       "stream": "stdout",
       "text": [
        "\n",
        "43896150\tset([43896150, 43896334])\t\t\t\t[43896334, 43896150]"
       ]
      },
      {
       "output_type": "stream",
       "stream": "stdout",
       "text": [
        "\n",
        "43896221\tset([43896060, 43896221])\t\t\t\t[43896060, 43896221]"
       ]
      },
      {
       "output_type": "stream",
       "stream": "stdout",
       "text": [
        "\n",
        "43895589\tset([43896049, 43898074, 43895589, 43896775])\t\t\t\t[43898074, 43896049, 43896775, 43895589]"
       ]
      },
      {
       "output_type": "stream",
       "stream": "stdout",
       "text": [
        "\n",
        "43896706\tset([43894657, 43896706])\t\t\t\t[43898049, 43894657, 43895541, 43896706]\n",
        "43896730\tset([43896730, 43897596, 43896830, 43897782])\t\t\t\t[43896830, 43896730]"
       ]
      },
      {
       "output_type": "stream",
       "stream": "stdout",
       "text": [
        "\n",
        "43895287\tset([43895449, 43895287, 43895575])\t\t\t\t[43894985, 43895449, 43895575, 43895287, 43896946]\n",
        "43894970\tset([43894970, 43895804])\t\t\t\t[43895804, 43894970]"
       ]
      },
      {
       "output_type": "stream",
       "stream": "stdout",
       "text": [
        "\n",
        "43895064\tset([43895064, 43895480])\t\t\t\t[43895064, 43895480]\n",
        "43894932\tset([43895089, 43894932])\t\t\t\t[43895089, 43894932]"
       ]
      },
      {
       "output_type": "stream",
       "stream": "stdout",
       "text": [
        "\n",
        "43896942\tset([43897709, 43896942, 43897727])\t\t\t\t[43896686, 43896744, 43896942]"
       ]
      },
      {
       "output_type": "stream",
       "stream": "stdout",
       "text": [
        "\n",
        "43896975\tset([43897150, 43896975])\t\t\t\t[43897150, 43896975]"
       ]
      },
      {
       "output_type": "stream",
       "stream": "stdout",
       "text": [
        "\n",
        "43894893\tset([43895376, 43895010, 43894893])\t\t\t\t[43895010, 43895376, 43894893]"
       ]
      },
      {
       "output_type": "stream",
       "stream": "stdout",
       "text": [
        "\n",
        "43895043\tset([43895249, 43895043])\t\t\t\t[43895043]"
       ]
      },
      {
       "output_type": "stream",
       "stream": "stdout",
       "text": [
        "\n",
        "108\n",
        "12\n"
       ]
      }
     ],
     "prompt_number": 6
    },
    {
     "cell_type": "code",
     "collapsed": false,
     "input": [
      "c={}\n",
      "c.setdefault('all', [])\n",
      "l=0\n",
      "a = storyPriority\n",
      "b = storyTitle\n",
      "for i in range(storyTitle.count()):\n",
      "    try:\n",
      "        c[a[i]].append(b[i])\n",
      "    except:\n",
      "        c.setdefault(a[i], [b[i]])\n",
      "\n",
      "for i in range(len(a)):\n",
      "    if(len(c[a[i]])>1):\n",
      "        c['all'].append(a[i])\n"
     ],
     "language": "python",
     "metadata": {},
     "outputs": [],
     "prompt_number": 7
    },
    {
     "cell_type": "code",
     "collapsed": false,
     "input": [
      "len(set(c['all']))"
     ],
     "language": "python",
     "metadata": {},
     "outputs": [
      {
       "metadata": {},
       "output_type": "pyout",
       "prompt_number": 8,
       "text": [
        "121"
       ]
      }
     ],
     "prompt_number": 8
    },
    {
     "cell_type": "code",
     "collapsed": false,
     "input": [
      "for i in range(storyTitle.count()):\n",
      "    storyScore[i] +="
     ],
     "language": "python",
     "metadata": {},
     "outputs": [
      {
       "ename": "SyntaxError",
       "evalue": "invalid syntax (<ipython-input-9-6b7fd79119fe>, line 2)",
       "output_type": "pyerr",
       "traceback": [
        "\u001b[1;36m  File \u001b[1;32m\"<ipython-input-9-6b7fd79119fe>\"\u001b[1;36m, line \u001b[1;32m2\u001b[0m\n\u001b[1;33m    storyScore[i] +=\u001b[0m\n\u001b[1;37m                    ^\u001b[0m\n\u001b[1;31mSyntaxError\u001b[0m\u001b[1;31m:\u001b[0m invalid syntax\n"
       ]
      }
     ],
     "prompt_number": 9
    },
    {
     "cell_type": "code",
     "collapsed": false,
     "input": [
      "storyScore = item.values_list('score', flat=True)\n"
     ],
     "language": "python",
     "metadata": {},
     "outputs": [
      {
       "ename": "AttributeError",
       "evalue": "'numpy.int64' object has no attribute 'values_list'",
       "output_type": "pyerr",
       "traceback": [
        "\u001b[1;31m---------------------------------------------------------------------------\u001b[0m\n\u001b[1;31mAttributeError\u001b[0m                            Traceback (most recent call last)",
        "\u001b[1;32m<ipython-input-11-c8324f9ea1ff>\u001b[0m in \u001b[0;36m<module>\u001b[1;34m()\u001b[0m\n\u001b[1;32m----> 1\u001b[1;33m \u001b[0mstoryScore\u001b[0m \u001b[1;33m=\u001b[0m \u001b[0mitem\u001b[0m\u001b[1;33m.\u001b[0m\u001b[0mvalues_list\u001b[0m\u001b[1;33m(\u001b[0m\u001b[1;34m'score'\u001b[0m\u001b[1;33m,\u001b[0m \u001b[0mflat\u001b[0m\u001b[1;33m=\u001b[0m\u001b[0mTrue\u001b[0m\u001b[1;33m)\u001b[0m\u001b[1;33m\u001b[0m\u001b[0m\n\u001b[0m",
        "\u001b[1;31mAttributeError\u001b[0m: 'numpy.int64' object has no attribute 'values_list'"
       ]
      }
     ],
     "prompt_number": 11
    },
    {
     "cell_type": "code",
     "collapsed": false,
     "input": [],
     "language": "python",
     "metadata": {},
     "outputs": []
    }
   ],
   "metadata": {}
  }
 ]
}