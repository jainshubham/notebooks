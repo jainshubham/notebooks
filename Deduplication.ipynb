{
 "metadata": {
  "name": ""
 },
 "nbformat": 3,
 "nbformat_minor": 0,
 "worksheets": [
  {
   "cells": [
    {
     "cell_type": "code",
     "collapsed": false,
     "input": [
      "import os, sys\n",
      "os.environ.setdefault(\"DJANGO_SETTINGS_MODULE\", \"web.settings\")\n",
      "sys.path.append('/vagrant/')\n",
      "from brief.models import Brief  \n",
      "from entry.models import Entry\n",
      "import nltk\n",
      "from django.core.management.base import BaseCommand\n",
      "from optparse import make_option           \n",
      "from datetime import datetime, timedelta\n",
      "example  = list()\n",
      "title = list()\n",
      "title2 = list()\n",
      "#item = Brief.objects.values()\n",
      "item = Entry.objects.values()\n",
      "\n",
      "for i in range(500):\n",
      "    #if (item[i]['language'] == \"en\"):\n",
      "        try:\n",
      "            temp= str(item[i]['body_html'])\n",
      "            temp_title= str(item[i]['title'])\n",
      "            temp_id= str(item[i]['id'])\n",
      "            \n",
      "        except:\n",
      "            pass\n",
      "        example.append(temp)\n",
      "        title.append(temp_id)\n",
      "        #title2.append(temp)\n",
      "        #print(title)"
     ],
     "language": "python",
     "metadata": {},
     "outputs": [],
     "prompt_number": 1
    },
    {
     "cell_type": "code",
     "collapsed": false,
     "input": [
      "\n",
      "from __future__ import print_function\n",
      "\n",
      "from sklearn.datasets import fetch_20newsgroups\n",
      "from sklearn.decomposition import TruncatedSVD\n",
      "from sklearn.feature_extraction.text import TfidfVectorizer\n",
      "from sklearn.feature_extraction.text import HashingVectorizer\n",
      "from sklearn.feature_extraction.text import TfidfTransformer\n",
      "from sklearn.pipeline import make_pipeline\n",
      "from sklearn.preprocessing import Normalizer\n",
      "from sklearn import metrics\n",
      "\n",
      "from sklearn.cluster import KMeans, MiniBatchKMeans\n",
      "\n",
      "import logging\n",
      "from optparse import OptionParser\n",
      "import sys\n",
      "from time import time\n",
      "\n",
      "import numpy as np"
     ],
     "language": "python",
     "metadata": {},
     "outputs": [],
     "prompt_number": 2
    },
    {
     "cell_type": "code",
     "collapsed": false,
     "input": [
      "true_k = 499\n",
      "\n",
      "hasher = HashingVectorizer(n_features=true_k,\n",
      "                           stop_words='english', non_negative=True,\n",
      "                           norm=None, binary=False)\n",
      "\n",
      "vectorizer = make_pipeline(hasher, TfidfTransformer())\n",
      "   \n",
      "X = vectorizer.fit_transform(example)\n",
      "#print(\"done in %fs\" % (time() - t0))\n",
      "print(\"n_samples: %d, n_features: %d\" % X.shape)\n",
      "\n",
      "pd.DataFrame(X.toarray(),index=title,columns=vectorizer.get_feature_names()).head(5)"
     ],
     "language": "python",
     "metadata": {},
     "outputs": [
      {
       "output_type": "stream",
       "stream": "stdout",
       "text": [
        "n_samples: 500, n_features: 499\n"
       ]
      }
     ],
     "prompt_number": 38
    },
    {
     "cell_type": "code",
     "collapsed": false,
     "input": [
      "#\n",
      "svd = TruncatedSVD(250)\n",
      "lsa = make_pipeline(svd, Normalizer(copy=False))\n",
      "\n",
      "X = lsa.fit_transform(X)\n",
      "\n",
      "print(\"done in %fs\" % (time() - t0))\n",
      "\n",
      "explained_variance = svd.explained_variance_ratio_.sum()\n",
      "print(\"Explained variance of the SVD step: {}%\".format(\n",
      "    int(explained_variance * 100)))\n",
      "\n",
      "print()"
     ],
     "language": "python",
     "metadata": {},
     "outputs": [
      {
       "output_type": "stream",
       "stream": "stdout",
       "text": [
        "done in 237.884517s\n",
        "Explained variance of the SVD step: 95%\n",
        "\n"
       ]
      }
     ],
     "prompt_number": 39
    },
    {
     "cell_type": "code",
     "collapsed": false,
     "input": [
      "###############################################################################\n",
      "# Do the actual clustering\n",
      "km = MiniBatchKMeans(n_clusters=true_k, init='k-means++', n_init=500, init_size=500, batch_size=500, verbose=False).fit(X)\n",
      "\n",
      "#km = KMeans(n_clusters=true_k, init='k-means++', max_iter=500, n_init=500, verbose=False).fit(X)\n",
      "labels = km.labels_\n",
      "print(\"Silhouette Coefficient: %0.3f\"\n",
      "      % metrics.silhouette_score(X, labels, sample_size=500))"
     ],
     "language": "python",
     "metadata": {},
     "outputs": [
      {
       "output_type": "stream",
       "stream": "stdout",
       "text": [
        "Silhouette Coefficient: 0.221\n"
       ]
      }
     ],
     "prompt_number": 40
    },
    {
     "cell_type": "code",
     "collapsed": false,
     "input": [
      "\n",
      "import math\n",
      "labels = km.labels_\n",
      "\n",
      "for k in np.unique(km.labels_):\n",
      "  if(not math.isnan(k)):\n",
      "    members = np.where(km.labels_ == k)  #[1]\n",
      "    if k == -1:\n",
      "        #print(\"outliers:\")\n",
      "        continue    \n",
      "    else:\n",
      "\n",
      "        pass\n",
      "    cluster = []\n",
      "    for item in members[0]:\n",
      "        #cluster.append(int(title[item]))\n",
      "        cluster.append((title[item]))\n",
      "    if len(set(cluster))>1 and len(set(cluster))<3:\n",
      "        print(\"\\n\\n\")\n",
      "        print(set(cluster))\n",
      "        print(\"http://contify.com/classification-screen/entry/%s/duplicates/\" %(list(set(cluster))[0]))\n"
     ],
     "language": "python",
     "metadata": {},
     "outputs": [
      {
       "output_type": "stream",
       "stream": "stdout",
       "text": [
        "\n",
        "\n",
        "\n",
        "set(['43846105', '43846119'])\n",
        "http://contify.com/classification-screen/entry/43846105/duplicates/\n"
       ]
      }
     ],
     "prompt_number": 41
    },
    {
     "cell_type": "code",
     "collapsed": false,
     "input": [],
     "language": "python",
     "metadata": {},
     "outputs": []
    }
   ],
   "metadata": {}
  }
 ]
}